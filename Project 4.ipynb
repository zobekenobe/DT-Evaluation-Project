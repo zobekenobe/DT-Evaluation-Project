{
 "cells": [
  {
   "cell_type": "markdown",
   "id": "d4caf2d6",
   "metadata": {},
   "source": [
    "# Global Power Plant Database\n",
    "### Problem Statement:\n",
    "\n",
    "Description\n",
    "\n",
    "The Global Power Plant Database is a comprehensive, open source database of power plants around the world. It centralizes power plant data to make it easier to navigate, compare and draw insights for one’s own analysis. The database covers approximately 35,000 power plants from 167 countries and includes thermal plants (e.g. coal, gas, oil, nuclear, biomass, waste, geothermal) and renewables (e.g. hydro, wind, solar). Each power plant is geolocated and entries contain information on plant capacity, generation, ownership, and fuel type. It will be continuously updated as data becomes available.\n",
    "\n",
    "Key attributes of the database\n",
    "\n",
    "The database includes the following indicators:\n",
    "\n",
    "    `country` (text): 3 character country code corresponding to the ISO 3166-1 alpha-3 specification [5]\n",
    "    `country_long` (text): longer form of the country designation\n",
    "    `name` (text): name or title of the power plant, generally in Romanized form\n",
    "    `gppd_idnr` (text): 10 or 12 character identifier for the power plant\n",
    "    `capacity_mw` (number): electrical generating capacity in megawatts\n",
    "    `latitude` (number): geolocation in decimal degrees; WGS84 (EPSG:4326)\n",
    "    `longitude` (number): geolocation in decimal degrees; WGS84 (EPSG:4326)\n",
    "    `primary_fuel` (text): energy source used in primary electricity generation or export\n",
    "    `other_fuel1` (text): energy source used in electricity generation or export\n",
    "    `other_fuel2` (text): energy source used in electricity generation or export\n",
    "    `other_fuel3` (text): energy source used in electricity generation or export\n",
    "     `commissioning_year` (number): year of plant operation, weighted by unit-capacity when data is available\n",
    "    `owner` (text): majority shareholder of the power plant, generally in Romanized form\n",
    "    `source` (text): entity reporting the data; could be an organization, report, or document, generally in Romanized form\n",
    "    `url` (text): web document corresponding to the `source` field\n",
    "    `geolocation_source` (text): attribution for geolocation information\n",
    "    `wepp_id` (text): a reference to a unique plant identifier in the widely-used PLATTS-WEPP database.\n",
    "    `year_of_capacity_data` (number): year the capacity information was reported\n",
    "    `generation_gwh_2013` (number): electricity generation in gigawatt-hours reported for the year 2013\n",
    "    `generation_gwh_2014` (number): electricity generation in gigawatt-hours reported for the year 2014\n",
    "    `generation_gwh_2015` (number): electricity generation in gigawatt-hours reported for the year 2015\n",
    "    `generation_gwh_2016` (number): electricity generation in gigawatt-hours reported for the year 2016\n",
    "    `generation_gwh_2017` (number): electricity generation in gigawatt-hours reported for the year 2017\n",
    "    `generation_gwh_2018` (number): electricity generation in gigawatt-hours reported for the year 2018\n",
    "    `generation_gwh_2019` (number): electricity generation in gigawatt-hours reported for the year 2019\n",
    "    `generation_data_source` (text): attribution for the reported generation information\n",
    "    `estimated_generation_gwh_2013` (number): estimated electricity generation in gigawatt-hours for the year 2013\n",
    "    `estimated_generation_gwh_2014` (number): estimated electricity generation in gigawatt-hours for the year 2014 \n",
    "    `estimated_generation_gwh_2015` (number): estimated electricity generation in gigawatt-hours for the year 2015 \n",
    "    `estimated_generation_gwh_2016` (number): estimated electricity generation in gigawatt-hours for the year 2016 \n",
    "    `estimated_generation_gwh_2017` (number): estimated electricity generation in gigawatt-hours for the year 2017 \n",
    "    'estimated_generation_note_2013` (text): label of the model/method used to estimate generation for the year 2013\n",
    "    `estimated_generation_note_2014` (text): label of the model/method used to estimate generation for the year 2014 \n",
    "    `estimated_generation_note_2015` (text): label of the model/method used to estimate generation for the year 2015\n",
    "    `estimated_generation_note_2016` (text): label of the model/method used to estimate generation for the year 2016\n",
    "    `estimated_generation_note_2017` (text): label of the model/method used to estimate generation for the year 2017 \n",
    "\n",
    "Fuel Type Aggregation\n",
    "\n",
    "We define the \"Fuel Type\" attribute of our database based on common fuel categories. \n",
    "\n",
    "Prediction :   Make two prediction  1) Primary Fuel    2) capacity_mw "
   ]
  },
  {
   "cell_type": "code",
   "execution_count": 1,
   "id": "f1224c65",
   "metadata": {},
   "outputs": [],
   "source": [
    "# 1. Import the libraries\n",
    "# basics\n",
    "import pandas as pd\n",
    "import numpy as np\n",
    "import matplotlib.pyplot as plt\n",
    "import seaborn as sns\n",
    "\n",
    "# statistical libraries\n",
    "import phik\n",
    "from scipy.stats import pearsonr\n",
    "from scipy.stats import zscore\n",
    "\n",
    "# feature engineering\n",
    "from sklearn.model_selection import train_test_split\n",
    "from sklearn.preprocessing import StandardScaler\n",
    "from sklearn.preprocessing import PowerTransformer\n",
    "\n",
    "from sklearn.linear_model import LinearRegression, LogisticRegression\n",
    "from sklearn.tree import DecisionTreeRegressor, DecisionTreeClassifier\n",
    "from sklearn.neighbors import KNeighborsRegressor, KNeighborsClassifier\n",
    "from sklearn.ensemble import RandomForestClassifier\n",
    "\n",
    "# metrics \n",
    "from sklearn.metrics import mean_squared_error, r2_score\n",
    "from sklearn.metrics import confusion_matrix, f1_score, roc_auc_score, classification_report\n",
    "\n",
    "# Hyperparameter tuning\n",
    "from sklearn.model_selection import GridSearchCV\n",
    "\n",
    "# suppress warnings\n",
    "import warnings\n",
    "warnings.filterwarnings('ignore')"
   ]
  },
  {
   "cell_type": "code",
   "execution_count": 91,
   "id": "befbda7d",
   "metadata": {},
   "outputs": [],
   "source": [
    "df = pd.read_csv('https://raw.githubusercontent.com/wri/global-power-plant-database/master/source_databases_csv/database_IND.csv')"
   ]
  },
  {
   "cell_type": "code",
   "execution_count": 92,
   "id": "a06cea42",
   "metadata": {},
   "outputs": [],
   "source": [
    "from statsmodels.stats.outliers_influence import variance_inflation_factor as vif"
   ]
  },
  {
   "cell_type": "code",
   "execution_count": 93,
   "id": "c5e41c04",
   "metadata": {},
   "outputs": [],
   "source": [
    "from pandas.api.types import is_numeric_dtype"
   ]
  },
  {
   "cell_type": "code",
   "execution_count": 94,
   "id": "f9ce300d",
   "metadata": {},
   "outputs": [
    {
     "data": {
      "text/html": [
       "<div>\n",
       "<style scoped>\n",
       "    .dataframe tbody tr th:only-of-type {\n",
       "        vertical-align: middle;\n",
       "    }\n",
       "\n",
       "    .dataframe tbody tr th {\n",
       "        vertical-align: top;\n",
       "    }\n",
       "\n",
       "    .dataframe thead th {\n",
       "        text-align: right;\n",
       "    }\n",
       "</style>\n",
       "<table border=\"1\" class=\"dataframe\">\n",
       "  <thead>\n",
       "    <tr style=\"text-align: right;\">\n",
       "      <th></th>\n",
       "      <th>country</th>\n",
       "      <th>country_long</th>\n",
       "      <th>name</th>\n",
       "      <th>gppd_idnr</th>\n",
       "      <th>capacity_mw</th>\n",
       "      <th>latitude</th>\n",
       "      <th>longitude</th>\n",
       "      <th>primary_fuel</th>\n",
       "      <th>other_fuel1</th>\n",
       "      <th>other_fuel2</th>\n",
       "      <th>...</th>\n",
       "      <th>year_of_capacity_data</th>\n",
       "      <th>generation_gwh_2013</th>\n",
       "      <th>generation_gwh_2014</th>\n",
       "      <th>generation_gwh_2015</th>\n",
       "      <th>generation_gwh_2016</th>\n",
       "      <th>generation_gwh_2017</th>\n",
       "      <th>generation_gwh_2018</th>\n",
       "      <th>generation_gwh_2019</th>\n",
       "      <th>generation_data_source</th>\n",
       "      <th>estimated_generation_gwh</th>\n",
       "    </tr>\n",
       "  </thead>\n",
       "  <tbody>\n",
       "    <tr>\n",
       "      <th>0</th>\n",
       "      <td>IND</td>\n",
       "      <td>India</td>\n",
       "      <td>ACME Solar Tower</td>\n",
       "      <td>WRI1020239</td>\n",
       "      <td>2.5</td>\n",
       "      <td>28.1839</td>\n",
       "      <td>73.2407</td>\n",
       "      <td>Solar</td>\n",
       "      <td>NaN</td>\n",
       "      <td>NaN</td>\n",
       "      <td>...</td>\n",
       "      <td>NaN</td>\n",
       "      <td>NaN</td>\n",
       "      <td>NaN</td>\n",
       "      <td>NaN</td>\n",
       "      <td>NaN</td>\n",
       "      <td>NaN</td>\n",
       "      <td>NaN</td>\n",
       "      <td>NaN</td>\n",
       "      <td>NaN</td>\n",
       "      <td>NaN</td>\n",
       "    </tr>\n",
       "    <tr>\n",
       "      <th>1</th>\n",
       "      <td>IND</td>\n",
       "      <td>India</td>\n",
       "      <td>ADITYA CEMENT WORKS</td>\n",
       "      <td>WRI1019881</td>\n",
       "      <td>98.0</td>\n",
       "      <td>24.7663</td>\n",
       "      <td>74.6090</td>\n",
       "      <td>Coal</td>\n",
       "      <td>NaN</td>\n",
       "      <td>NaN</td>\n",
       "      <td>...</td>\n",
       "      <td>NaN</td>\n",
       "      <td>NaN</td>\n",
       "      <td>NaN</td>\n",
       "      <td>NaN</td>\n",
       "      <td>NaN</td>\n",
       "      <td>NaN</td>\n",
       "      <td>NaN</td>\n",
       "      <td>NaN</td>\n",
       "      <td>NaN</td>\n",
       "      <td>NaN</td>\n",
       "    </tr>\n",
       "    <tr>\n",
       "      <th>2</th>\n",
       "      <td>IND</td>\n",
       "      <td>India</td>\n",
       "      <td>AES Saurashtra Windfarms</td>\n",
       "      <td>WRI1026669</td>\n",
       "      <td>39.2</td>\n",
       "      <td>21.9038</td>\n",
       "      <td>69.3732</td>\n",
       "      <td>Wind</td>\n",
       "      <td>NaN</td>\n",
       "      <td>NaN</td>\n",
       "      <td>...</td>\n",
       "      <td>NaN</td>\n",
       "      <td>NaN</td>\n",
       "      <td>NaN</td>\n",
       "      <td>NaN</td>\n",
       "      <td>NaN</td>\n",
       "      <td>NaN</td>\n",
       "      <td>NaN</td>\n",
       "      <td>NaN</td>\n",
       "      <td>NaN</td>\n",
       "      <td>NaN</td>\n",
       "    </tr>\n",
       "    <tr>\n",
       "      <th>3</th>\n",
       "      <td>IND</td>\n",
       "      <td>India</td>\n",
       "      <td>AGARTALA GT</td>\n",
       "      <td>IND0000001</td>\n",
       "      <td>135.0</td>\n",
       "      <td>23.8712</td>\n",
       "      <td>91.3602</td>\n",
       "      <td>Gas</td>\n",
       "      <td>NaN</td>\n",
       "      <td>NaN</td>\n",
       "      <td>...</td>\n",
       "      <td>2019.0</td>\n",
       "      <td>NaN</td>\n",
       "      <td>617.789264</td>\n",
       "      <td>843.747</td>\n",
       "      <td>886.004428</td>\n",
       "      <td>663.774500</td>\n",
       "      <td>626.239128</td>\n",
       "      <td>NaN</td>\n",
       "      <td>Central Electricity Authority</td>\n",
       "      <td>NaN</td>\n",
       "    </tr>\n",
       "    <tr>\n",
       "      <th>4</th>\n",
       "      <td>IND</td>\n",
       "      <td>India</td>\n",
       "      <td>AKALTARA TPP</td>\n",
       "      <td>IND0000002</td>\n",
       "      <td>1800.0</td>\n",
       "      <td>21.9603</td>\n",
       "      <td>82.4091</td>\n",
       "      <td>Coal</td>\n",
       "      <td>Oil</td>\n",
       "      <td>NaN</td>\n",
       "      <td>...</td>\n",
       "      <td>2019.0</td>\n",
       "      <td>NaN</td>\n",
       "      <td>3035.550000</td>\n",
       "      <td>5916.370</td>\n",
       "      <td>6243.000000</td>\n",
       "      <td>5385.579736</td>\n",
       "      <td>7279.000000</td>\n",
       "      <td>NaN</td>\n",
       "      <td>Central Electricity Authority</td>\n",
       "      <td>NaN</td>\n",
       "    </tr>\n",
       "  </tbody>\n",
       "</table>\n",
       "<p>5 rows × 27 columns</p>\n",
       "</div>"
      ],
      "text/plain": [
       "  country country_long                      name   gppd_idnr  capacity_mw  \\\n",
       "0     IND        India          ACME Solar Tower  WRI1020239          2.5   \n",
       "1     IND        India       ADITYA CEMENT WORKS  WRI1019881         98.0   \n",
       "2     IND        India  AES Saurashtra Windfarms  WRI1026669         39.2   \n",
       "3     IND        India               AGARTALA GT  IND0000001        135.0   \n",
       "4     IND        India              AKALTARA TPP  IND0000002       1800.0   \n",
       "\n",
       "   latitude  longitude primary_fuel other_fuel1 other_fuel2  ...  \\\n",
       "0   28.1839    73.2407        Solar         NaN         NaN  ...   \n",
       "1   24.7663    74.6090         Coal         NaN         NaN  ...   \n",
       "2   21.9038    69.3732         Wind         NaN         NaN  ...   \n",
       "3   23.8712    91.3602          Gas         NaN         NaN  ...   \n",
       "4   21.9603    82.4091         Coal         Oil         NaN  ...   \n",
       "\n",
       "   year_of_capacity_data  generation_gwh_2013 generation_gwh_2014  \\\n",
       "0                    NaN                  NaN                 NaN   \n",
       "1                    NaN                  NaN                 NaN   \n",
       "2                    NaN                  NaN                 NaN   \n",
       "3                 2019.0                  NaN          617.789264   \n",
       "4                 2019.0                  NaN         3035.550000   \n",
       "\n",
       "  generation_gwh_2015 generation_gwh_2016 generation_gwh_2017  \\\n",
       "0                 NaN                 NaN                 NaN   \n",
       "1                 NaN                 NaN                 NaN   \n",
       "2                 NaN                 NaN                 NaN   \n",
       "3             843.747          886.004428          663.774500   \n",
       "4            5916.370         6243.000000         5385.579736   \n",
       "\n",
       "   generation_gwh_2018  generation_gwh_2019         generation_data_source  \\\n",
       "0                  NaN                  NaN                            NaN   \n",
       "1                  NaN                  NaN                            NaN   \n",
       "2                  NaN                  NaN                            NaN   \n",
       "3           626.239128                  NaN  Central Electricity Authority   \n",
       "4          7279.000000                  NaN  Central Electricity Authority   \n",
       "\n",
       "   estimated_generation_gwh  \n",
       "0                       NaN  \n",
       "1                       NaN  \n",
       "2                       NaN  \n",
       "3                       NaN  \n",
       "4                       NaN  \n",
       "\n",
       "[5 rows x 27 columns]"
      ]
     },
     "execution_count": 94,
     "metadata": {},
     "output_type": "execute_result"
    }
   ],
   "source": [
    "df.head()"
   ]
  },
  {
   "cell_type": "code",
   "execution_count": 95,
   "id": "6931f7a5",
   "metadata": {},
   "outputs": [
    {
     "data": {
      "text/plain": [
       "country                       0.000000\n",
       "country_long                  0.000000\n",
       "name                          0.000000\n",
       "gppd_idnr                     0.000000\n",
       "capacity_mw                   0.000000\n",
       "latitude                      5.071665\n",
       "longitude                     5.071665\n",
       "primary_fuel                  0.000000\n",
       "other_fuel1                  78.169791\n",
       "other_fuel2                  99.889746\n",
       "other_fuel3                 100.000000\n",
       "commissioning_year           41.896362\n",
       "owner                        62.293275\n",
       "source                        0.000000\n",
       "url                           0.000000\n",
       "geolocation_source            2.094818\n",
       "wepp_id                     100.000000\n",
       "year_of_capacity_data        42.778390\n",
       "generation_gwh_2013         100.000000\n",
       "generation_gwh_2014          56.119074\n",
       "generation_gwh_2015          53.472988\n",
       "generation_gwh_2016          52.149945\n",
       "generation_gwh_2017          51.488423\n",
       "generation_gwh_2018          50.606395\n",
       "generation_gwh_2019         100.000000\n",
       "generation_data_source       50.496141\n",
       "estimated_generation_gwh    100.000000\n",
       "dtype: float64"
      ]
     },
     "execution_count": 95,
     "metadata": {},
     "output_type": "execute_result"
    }
   ],
   "source": [
    "# Checking for null values\n",
    "df.isnull().sum()/len(df)*100"
   ]
  },
  {
   "cell_type": "code",
   "execution_count": 96,
   "id": "a0cda91c",
   "metadata": {},
   "outputs": [],
   "source": [
    "# There a quite a few columns with null values. Remove those columns that have a null value % greater than 40\n",
    "null_col = []\n",
    "for col in df.columns:\n",
    "    if df[col].isnull().sum()/len(df) > 0.40:\n",
    "        null_col.append(col)"
   ]
  },
  {
   "cell_type": "code",
   "execution_count": 97,
   "id": "5f0b6036",
   "metadata": {},
   "outputs": [],
   "source": [
    "df.drop(columns = null_col, inplace  = True)"
   ]
  },
  {
   "cell_type": "code",
   "execution_count": 98,
   "id": "6e9d655c",
   "metadata": {},
   "outputs": [
    {
     "name": "stdout",
     "output_type": "stream",
     "text": [
      "<class 'pandas.core.frame.DataFrame'>\n",
      "RangeIndex: 907 entries, 0 to 906\n",
      "Data columns (total 11 columns):\n",
      " #   Column              Non-Null Count  Dtype  \n",
      "---  ------              --------------  -----  \n",
      " 0   country             907 non-null    object \n",
      " 1   country_long        907 non-null    object \n",
      " 2   name                907 non-null    object \n",
      " 3   gppd_idnr           907 non-null    object \n",
      " 4   capacity_mw         907 non-null    float64\n",
      " 5   latitude            861 non-null    float64\n",
      " 6   longitude           861 non-null    float64\n",
      " 7   primary_fuel        907 non-null    object \n",
      " 8   source              907 non-null    object \n",
      " 9   url                 907 non-null    object \n",
      " 10  geolocation_source  888 non-null    object \n",
      "dtypes: float64(3), object(8)\n",
      "memory usage: 78.1+ KB\n"
     ]
    }
   ],
   "source": [
    "df.info()"
   ]
  },
  {
   "cell_type": "code",
   "execution_count": 99,
   "id": "3b717147",
   "metadata": {},
   "outputs": [
    {
     "data": {
      "text/html": [
       "<div>\n",
       "<style scoped>\n",
       "    .dataframe tbody tr th:only-of-type {\n",
       "        vertical-align: middle;\n",
       "    }\n",
       "\n",
       "    .dataframe tbody tr th {\n",
       "        vertical-align: top;\n",
       "    }\n",
       "\n",
       "    .dataframe thead th {\n",
       "        text-align: right;\n",
       "    }\n",
       "</style>\n",
       "<table border=\"1\" class=\"dataframe\">\n",
       "  <thead>\n",
       "    <tr style=\"text-align: right;\">\n",
       "      <th></th>\n",
       "      <th>capacity_mw</th>\n",
       "      <th>latitude</th>\n",
       "      <th>longitude</th>\n",
       "    </tr>\n",
       "  </thead>\n",
       "  <tbody>\n",
       "    <tr>\n",
       "      <th>count</th>\n",
       "      <td>907.0</td>\n",
       "      <td>861.0</td>\n",
       "      <td>861.0</td>\n",
       "    </tr>\n",
       "    <tr>\n",
       "      <th>mean</th>\n",
       "      <td>326.0</td>\n",
       "      <td>21.0</td>\n",
       "      <td>77.0</td>\n",
       "    </tr>\n",
       "    <tr>\n",
       "      <th>std</th>\n",
       "      <td>590.0</td>\n",
       "      <td>6.0</td>\n",
       "      <td>5.0</td>\n",
       "    </tr>\n",
       "    <tr>\n",
       "      <th>min</th>\n",
       "      <td>0.0</td>\n",
       "      <td>8.0</td>\n",
       "      <td>69.0</td>\n",
       "    </tr>\n",
       "    <tr>\n",
       "      <th>25%</th>\n",
       "      <td>17.0</td>\n",
       "      <td>17.0</td>\n",
       "      <td>74.0</td>\n",
       "    </tr>\n",
       "    <tr>\n",
       "      <th>50%</th>\n",
       "      <td>59.0</td>\n",
       "      <td>22.0</td>\n",
       "      <td>77.0</td>\n",
       "    </tr>\n",
       "    <tr>\n",
       "      <th>75%</th>\n",
       "      <td>385.0</td>\n",
       "      <td>26.0</td>\n",
       "      <td>79.0</td>\n",
       "    </tr>\n",
       "    <tr>\n",
       "      <th>max</th>\n",
       "      <td>4760.0</td>\n",
       "      <td>35.0</td>\n",
       "      <td>95.0</td>\n",
       "    </tr>\n",
       "  </tbody>\n",
       "</table>\n",
       "</div>"
      ],
      "text/plain": [
       "       capacity_mw  latitude  longitude\n",
       "count        907.0     861.0      861.0\n",
       "mean         326.0      21.0       77.0\n",
       "std          590.0       6.0        5.0\n",
       "min            0.0       8.0       69.0\n",
       "25%           17.0      17.0       74.0\n",
       "50%           59.0      22.0       77.0\n",
       "75%          385.0      26.0       79.0\n",
       "max         4760.0      35.0       95.0"
      ]
     },
     "execution_count": 99,
     "metadata": {},
     "output_type": "execute_result"
    }
   ],
   "source": [
    "# Check the statistics\n",
    "df.describe().round()"
   ]
  },
  {
   "cell_type": "markdown",
   "id": "ed102d66",
   "metadata": {},
   "source": [
    "The capacity_mw has a very high standard deviation"
   ]
  },
  {
   "cell_type": "code",
   "execution_count": 100,
   "id": "f8465f3e",
   "metadata": {},
   "outputs": [],
   "source": [
    "# Checking for columns/ features with unique values\n",
    "unique_col = []\n",
    "for col in df.columns:\n",
    "    if df[col].unique().shape[0] <2:\n",
    "        unique_col.append(col)"
   ]
  },
  {
   "cell_type": "code",
   "execution_count": 101,
   "id": "0859f62f",
   "metadata": {},
   "outputs": [
    {
     "data": {
      "text/plain": [
       "['country', 'country_long']"
      ]
     },
     "execution_count": 101,
     "metadata": {},
     "output_type": "execute_result"
    }
   ],
   "source": [
    "unique_col"
   ]
  },
  {
   "cell_type": "code",
   "execution_count": 102,
   "id": "235568f5",
   "metadata": {},
   "outputs": [
    {
     "data": {
      "text/html": [
       "<div>\n",
       "<style scoped>\n",
       "    .dataframe tbody tr th:only-of-type {\n",
       "        vertical-align: middle;\n",
       "    }\n",
       "\n",
       "    .dataframe tbody tr th {\n",
       "        vertical-align: top;\n",
       "    }\n",
       "\n",
       "    .dataframe thead th {\n",
       "        text-align: right;\n",
       "    }\n",
       "</style>\n",
       "<table border=\"1\" class=\"dataframe\">\n",
       "  <thead>\n",
       "    <tr style=\"text-align: right;\">\n",
       "      <th></th>\n",
       "      <th>country</th>\n",
       "      <th>country_long</th>\n",
       "    </tr>\n",
       "  </thead>\n",
       "  <tbody>\n",
       "    <tr>\n",
       "      <th>0</th>\n",
       "      <td>IND</td>\n",
       "      <td>India</td>\n",
       "    </tr>\n",
       "    <tr>\n",
       "      <th>1</th>\n",
       "      <td>IND</td>\n",
       "      <td>India</td>\n",
       "    </tr>\n",
       "    <tr>\n",
       "      <th>2</th>\n",
       "      <td>IND</td>\n",
       "      <td>India</td>\n",
       "    </tr>\n",
       "    <tr>\n",
       "      <th>3</th>\n",
       "      <td>IND</td>\n",
       "      <td>India</td>\n",
       "    </tr>\n",
       "    <tr>\n",
       "      <th>4</th>\n",
       "      <td>IND</td>\n",
       "      <td>India</td>\n",
       "    </tr>\n",
       "    <tr>\n",
       "      <th>...</th>\n",
       "      <td>...</td>\n",
       "      <td>...</td>\n",
       "    </tr>\n",
       "    <tr>\n",
       "      <th>902</th>\n",
       "      <td>IND</td>\n",
       "      <td>India</td>\n",
       "    </tr>\n",
       "    <tr>\n",
       "      <th>903</th>\n",
       "      <td>IND</td>\n",
       "      <td>India</td>\n",
       "    </tr>\n",
       "    <tr>\n",
       "      <th>904</th>\n",
       "      <td>IND</td>\n",
       "      <td>India</td>\n",
       "    </tr>\n",
       "    <tr>\n",
       "      <th>905</th>\n",
       "      <td>IND</td>\n",
       "      <td>India</td>\n",
       "    </tr>\n",
       "    <tr>\n",
       "      <th>906</th>\n",
       "      <td>IND</td>\n",
       "      <td>India</td>\n",
       "    </tr>\n",
       "  </tbody>\n",
       "</table>\n",
       "<p>907 rows × 2 columns</p>\n",
       "</div>"
      ],
      "text/plain": [
       "    country country_long\n",
       "0       IND        India\n",
       "1       IND        India\n",
       "2       IND        India\n",
       "3       IND        India\n",
       "4       IND        India\n",
       "..      ...          ...\n",
       "902     IND        India\n",
       "903     IND        India\n",
       "904     IND        India\n",
       "905     IND        India\n",
       "906     IND        India\n",
       "\n",
       "[907 rows x 2 columns]"
      ]
     },
     "execution_count": 102,
     "metadata": {},
     "output_type": "execute_result"
    }
   ],
   "source": [
    "df[unique_col]"
   ]
  },
  {
   "cell_type": "markdown",
   "id": "31715674",
   "metadata": {},
   "source": [
    "Apparently the two features have unique values and don't contribute to the dataset for generalization. hence we drop these features"
   ]
  },
  {
   "cell_type": "code",
   "execution_count": 103,
   "id": "667436b0",
   "metadata": {},
   "outputs": [],
   "source": [
    "df.drop(columns = unique_col, inplace = True)"
   ]
  },
  {
   "cell_type": "code",
   "execution_count": 104,
   "id": "ff1aa535",
   "metadata": {},
   "outputs": [
    {
     "name": "stdout",
     "output_type": "stream",
     "text": [
      "name                 :  100.000\n",
      "gppd_idnr            :  100.000\n",
      "capacity_mw          :  39.802\n",
      "latitude             :  92.282\n",
      "longitude            :  91.290\n",
      "primary_fuel         :  0.882\n",
      "source               :  21.058\n",
      "url                  :  33.517\n",
      "geolocation_source   :  0.441\n"
     ]
    }
   ],
   "source": [
    "# Checking for features with a high variance\n",
    "for col in df.columns:\n",
    "    print(f\"{col:20s} : {df[col].unique().shape[0]/len(df)*100 : 0.3f}\")"
   ]
  },
  {
   "cell_type": "code",
   "execution_count": 105,
   "id": "459d23bb",
   "metadata": {},
   "outputs": [],
   "source": [
    "# remove columns with a variance > 90\n",
    "var_col = []\n",
    "for col in df.columns:\n",
    "    if df[col].unique().shape[0]/len(df) > .90:\n",
    "        var_col.append(col)"
   ]
  },
  {
   "cell_type": "code",
   "execution_count": 106,
   "id": "831e2129",
   "metadata": {},
   "outputs": [],
   "source": [
    "df.drop(columns = var_col, inplace = True)"
   ]
  },
  {
   "cell_type": "code",
   "execution_count": 107,
   "id": "ffb5f1db",
   "metadata": {},
   "outputs": [
    {
     "data": {
      "text/html": [
       "<div>\n",
       "<style scoped>\n",
       "    .dataframe tbody tr th:only-of-type {\n",
       "        vertical-align: middle;\n",
       "    }\n",
       "\n",
       "    .dataframe tbody tr th {\n",
       "        vertical-align: top;\n",
       "    }\n",
       "\n",
       "    .dataframe thead th {\n",
       "        text-align: right;\n",
       "    }\n",
       "</style>\n",
       "<table border=\"1\" class=\"dataframe\">\n",
       "  <thead>\n",
       "    <tr style=\"text-align: right;\">\n",
       "      <th></th>\n",
       "      <th>capacity_mw</th>\n",
       "      <th>primary_fuel</th>\n",
       "      <th>source</th>\n",
       "      <th>url</th>\n",
       "      <th>geolocation_source</th>\n",
       "    </tr>\n",
       "  </thead>\n",
       "  <tbody>\n",
       "    <tr>\n",
       "      <th>0</th>\n",
       "      <td>2.5</td>\n",
       "      <td>Solar</td>\n",
       "      <td>National Renewable Energy Laboratory</td>\n",
       "      <td>http://www.nrel.gov/csp/solarpaces/project_det...</td>\n",
       "      <td>National Renewable Energy Laboratory</td>\n",
       "    </tr>\n",
       "    <tr>\n",
       "      <th>1</th>\n",
       "      <td>98.0</td>\n",
       "      <td>Coal</td>\n",
       "      <td>Ultratech Cement ltd</td>\n",
       "      <td>http://www.ultratechcement.com/</td>\n",
       "      <td>WRI</td>\n",
       "    </tr>\n",
       "    <tr>\n",
       "      <th>2</th>\n",
       "      <td>39.2</td>\n",
       "      <td>Wind</td>\n",
       "      <td>CDM</td>\n",
       "      <td>https://cdm.unfccc.int/Projects/DB/DNV-CUK1328...</td>\n",
       "      <td>WRI</td>\n",
       "    </tr>\n",
       "    <tr>\n",
       "      <th>3</th>\n",
       "      <td>135.0</td>\n",
       "      <td>Gas</td>\n",
       "      <td>Central Electricity Authority</td>\n",
       "      <td>http://www.cea.nic.in/</td>\n",
       "      <td>WRI</td>\n",
       "    </tr>\n",
       "    <tr>\n",
       "      <th>4</th>\n",
       "      <td>1800.0</td>\n",
       "      <td>Coal</td>\n",
       "      <td>Central Electricity Authority</td>\n",
       "      <td>http://www.cea.nic.in/</td>\n",
       "      <td>WRI</td>\n",
       "    </tr>\n",
       "    <tr>\n",
       "      <th>...</th>\n",
       "      <td>...</td>\n",
       "      <td>...</td>\n",
       "      <td>...</td>\n",
       "      <td>...</td>\n",
       "      <td>...</td>\n",
       "    </tr>\n",
       "    <tr>\n",
       "      <th>902</th>\n",
       "      <td>1600.0</td>\n",
       "      <td>Coal</td>\n",
       "      <td>Central Electricity Authority</td>\n",
       "      <td>http://www.cea.nic.in/</td>\n",
       "      <td>WRI</td>\n",
       "    </tr>\n",
       "    <tr>\n",
       "      <th>903</th>\n",
       "      <td>3.0</td>\n",
       "      <td>Solar</td>\n",
       "      <td>Karnataka Power Corporation Limited</td>\n",
       "      <td>http://karnatakapower.com</td>\n",
       "      <td>Industry About</td>\n",
       "    </tr>\n",
       "    <tr>\n",
       "      <th>904</th>\n",
       "      <td>25.5</td>\n",
       "      <td>Wind</td>\n",
       "      <td>CDM</td>\n",
       "      <td>https://cdm.unfccc.int/Projects/DB/TUEV-RHEIN1...</td>\n",
       "      <td>WRI</td>\n",
       "    </tr>\n",
       "    <tr>\n",
       "      <th>905</th>\n",
       "      <td>80.0</td>\n",
       "      <td>Coal</td>\n",
       "      <td>Hindustan Zinc ltd</td>\n",
       "      <td>http://www.hzlindia.com/</td>\n",
       "      <td>WRI</td>\n",
       "    </tr>\n",
       "    <tr>\n",
       "      <th>906</th>\n",
       "      <td>16.5</td>\n",
       "      <td>Wind</td>\n",
       "      <td>CDM</td>\n",
       "      <td>https://cdm.unfccc.int/Projects/DB/RWTUV134503...</td>\n",
       "      <td>WRI</td>\n",
       "    </tr>\n",
       "  </tbody>\n",
       "</table>\n",
       "<p>907 rows × 5 columns</p>\n",
       "</div>"
      ],
      "text/plain": [
       "     capacity_mw primary_fuel                                source  \\\n",
       "0            2.5        Solar  National Renewable Energy Laboratory   \n",
       "1           98.0         Coal                  Ultratech Cement ltd   \n",
       "2           39.2         Wind                                   CDM   \n",
       "3          135.0          Gas         Central Electricity Authority   \n",
       "4         1800.0         Coal         Central Electricity Authority   \n",
       "..           ...          ...                                   ...   \n",
       "902       1600.0         Coal         Central Electricity Authority   \n",
       "903          3.0        Solar   Karnataka Power Corporation Limited   \n",
       "904         25.5         Wind                                   CDM   \n",
       "905         80.0         Coal                    Hindustan Zinc ltd   \n",
       "906         16.5         Wind                                   CDM   \n",
       "\n",
       "                                                   url  \\\n",
       "0    http://www.nrel.gov/csp/solarpaces/project_det...   \n",
       "1                      http://www.ultratechcement.com/   \n",
       "2    https://cdm.unfccc.int/Projects/DB/DNV-CUK1328...   \n",
       "3                               http://www.cea.nic.in/   \n",
       "4                               http://www.cea.nic.in/   \n",
       "..                                                 ...   \n",
       "902                             http://www.cea.nic.in/   \n",
       "903                          http://karnatakapower.com   \n",
       "904  https://cdm.unfccc.int/Projects/DB/TUEV-RHEIN1...   \n",
       "905                           http://www.hzlindia.com/   \n",
       "906  https://cdm.unfccc.int/Projects/DB/RWTUV134503...   \n",
       "\n",
       "                       geolocation_source  \n",
       "0    National Renewable Energy Laboratory  \n",
       "1                                     WRI  \n",
       "2                                     WRI  \n",
       "3                                     WRI  \n",
       "4                                     WRI  \n",
       "..                                    ...  \n",
       "902                                   WRI  \n",
       "903                        Industry About  \n",
       "904                                   WRI  \n",
       "905                                   WRI  \n",
       "906                                   WRI  \n",
       "\n",
       "[907 rows x 5 columns]"
      ]
     },
     "execution_count": 107,
     "metadata": {},
     "output_type": "execute_result"
    }
   ],
   "source": [
    "df"
   ]
  },
  {
   "cell_type": "code",
   "execution_count": 108,
   "id": "ac23b06c",
   "metadata": {},
   "outputs": [
    {
     "data": {
      "image/png": "[encoded data removed]",
      "text/plain": [
       "<Figure size 720x720 with 1 Axes>"
      ]
     },
     "metadata": {
      "needs_background": "light"
     },
     "output_type": "display_data"
    }
   ],
   "source": [
    "# Checking the histogram for the capacity_mw\n",
    "plt.figure(figsize = (10, 10))\n",
    "sns.histplot(df['capacity_mw'], kde = True, stat= 'density')\n",
    "plt.show()"
   ]
  },
  {
   "cell_type": "code",
   "execution_count": 109,
   "id": "d44dbccf",
   "metadata": {},
   "outputs": [
    {
     "data": {
      "text/plain": [
       "3.123576153626497"
      ]
     },
     "execution_count": 109,
     "metadata": {},
     "output_type": "execute_result"
    }
   ],
   "source": [
    "df['capacity_mw'].skew()"
   ]
  },
  {
   "cell_type": "code",
   "execution_count": 110,
   "id": "de5b92b1",
   "metadata": {},
   "outputs": [
    {
     "data": {
      "image/png": "[encoded data removed]",
      "text/plain": [
       "<Figure size 720x720 with 1 Axes>"
      ]
     },
     "metadata": {
      "needs_background": "light"
     },
     "output_type": "display_data"
    }
   ],
   "source": [
    "# Apparently there is a large skewness within the dataset. We also check for outliers?\n",
    "plt.figure(figsize = (10,10))\n",
    "sns.boxplot(df['capacity_mw'], orient = 'h')\n",
    "plt.show()"
   ]
  },
  {
   "cell_type": "code",
   "execution_count": 111,
   "id": "d7304366",
   "metadata": {},
   "outputs": [],
   "source": [
    "# Apparently there are quite a few outliers"
   ]
  },
  {
   "cell_type": "code",
   "execution_count": 112,
   "id": "b4dd95f0",
   "metadata": {},
   "outputs": [],
   "source": [
    "from scipy.stats import zscore"
   ]
  },
  {
   "cell_type": "code",
   "execution_count": 113,
   "id": "55c992f9",
   "metadata": {},
   "outputs": [
    {
     "name": "stdout",
     "output_type": "stream",
     "text": [
      "2.21%\n"
     ]
    }
   ],
   "source": [
    "print(f\"{df[(abs(zscore(df[['capacity_mw']]))>3.0).all(axis = 1)].shape[0]/len(df)*100:0.2f}%\")"
   ]
  },
  {
   "cell_type": "code",
   "execution_count": 114,
   "id": "215ba68a",
   "metadata": {},
   "outputs": [],
   "source": [
    "# Since 2% of the data is lost we can afford to remove these outliers"
   ]
  },
  {
   "cell_type": "code",
   "execution_count": 115,
   "id": "eb56aba6",
   "metadata": {},
   "outputs": [],
   "source": [
    "df1 = df[(abs(zscore(df[['capacity_mw']]))<3.0).all(axis = 1)]"
   ]
  },
  {
   "cell_type": "code",
   "execution_count": 116,
   "id": "ee155c58",
   "metadata": {},
   "outputs": [
    {
     "data": {
      "image/png": "[encoded data removed]",
      "text/plain": [
       "<Figure size 720x720 with 1 Axes>"
      ]
     },
     "metadata": {
      "needs_background": "light"
     },
     "output_type": "display_data"
    }
   ],
   "source": [
    "plt.figure(figsize = (10,10))\n",
    "sns.boxplot(df1['capacity_mw'], orient = 'h')\n",
    "plt.show()"
   ]
  },
  {
   "cell_type": "code",
   "execution_count": 117,
   "id": "f7b152f7",
   "metadata": {},
   "outputs": [
    {
     "name": "stdout",
     "output_type": "stream",
     "text": [
      "Data lost : 12.459%\n"
     ]
    }
   ],
   "source": [
    "# Quite a few outliers are still present hence we attempt removing the outliers using the \n",
    "# interquantile range\n",
    "q1 = df['capacity_mw'].quantile(0.25)\n",
    "q3 = df['capacity_mw'].quantile(0.75)\n",
    "iq = q3 - q1\n",
    "\n",
    "hi = q3 + 1.5 * iq\n",
    "\n",
    "print(f\"Data lost : {np.where(df['capacity_mw'] > hi)[0].shape[0]/len(df)*100:0.3f}%\")"
   ]
  },
  {
   "cell_type": "code",
   "execution_count": 118,
   "id": "6053cf34",
   "metadata": {},
   "outputs": [],
   "source": [
    "# 12.5% of the data would be lost with the removal of the outliers\n",
    "indices = np.where(df['capacity_mw'] > hi)[0]"
   ]
  },
  {
   "cell_type": "code",
   "execution_count": 119,
   "id": "cac3d967",
   "metadata": {},
   "outputs": [],
   "source": [
    "df2 = df.drop(index = indices)"
   ]
  },
  {
   "cell_type": "code",
   "execution_count": 120,
   "id": "329c04e9",
   "metadata": {},
   "outputs": [
    {
     "data": {
      "image/png": "[encoded data removed]",
      "text/plain": [
       "<Figure size 720x720 with 1 Axes>"
      ]
     },
     "metadata": {
      "needs_background": "light"
     },
     "output_type": "display_data"
    }
   ],
   "source": [
    "plt.figure(figsize = (10, 10))\n",
    "sns.boxplot(df2['capacity_mw'], orient = 'h')\n",
    "plt.show()"
   ]
  },
  {
   "cell_type": "code",
   "execution_count": 129,
   "id": "de6de2ab",
   "metadata": {},
   "outputs": [],
   "source": [
    "df = df2.reset_index()"
   ]
  },
  {
   "cell_type": "code",
   "execution_count": 131,
   "id": "965d02b5",
   "metadata": {},
   "outputs": [],
   "source": [
    "df.drop('index', axis = 1, inplace = True)"
   ]
  },
  {
   "cell_type": "code",
   "execution_count": 122,
   "id": "4a447cda",
   "metadata": {},
   "outputs": [
    {
     "data": {
      "text/plain": [
       "capacity_mw            0\n",
       "primary_fuel           0\n",
       "source                 0\n",
       "url                    0\n",
       "geolocation_source    19\n",
       "dtype: int64"
      ]
     },
     "execution_count": 122,
     "metadata": {},
     "output_type": "execute_result"
    }
   ],
   "source": [
    "# Checking for missing values\n",
    "df.isnull().sum()"
   ]
  },
  {
   "cell_type": "code",
   "execution_count": 132,
   "id": "53912c1d",
   "metadata": {},
   "outputs": [],
   "source": [
    "indices = np.where(df.isnull())[0]"
   ]
  },
  {
   "cell_type": "code",
   "execution_count": 133,
   "id": "e0a7c375",
   "metadata": {},
   "outputs": [
    {
     "data": {
      "text/plain": [
       "array([ 20,  59, 173, 189, 230, 345, 395, 447, 485, 578, 596, 676, 679,\n",
       "       680, 681, 682, 725, 773, 775], dtype=int64)"
      ]
     },
     "execution_count": 133,
     "metadata": {},
     "output_type": "execute_result"
    }
   ],
   "source": [
    "# removing the null indices \n",
    "indices"
   ]
  },
  {
   "cell_type": "code",
   "execution_count": 136,
   "id": "9015fde3",
   "metadata": {},
   "outputs": [],
   "source": [
    "df.drop(index = indices, inplace = True)"
   ]
  },
  {
   "cell_type": "code",
   "execution_count": 141,
   "id": "f1282562",
   "metadata": {},
   "outputs": [],
   "source": [
    "# next we encode the categorical features\n",
    "from pandas.api.types import is_numeric_dtype"
   ]
  },
  {
   "cell_type": "code",
   "execution_count": 144,
   "id": "8ca55667",
   "metadata": {},
   "outputs": [],
   "source": [
    "categorical_col = []\n",
    "for col in df.columns:\n",
    "    if not is_numeric_dtype(df[col]):\n",
    "        categorical_col.append(col)"
   ]
  },
  {
   "cell_type": "code",
   "execution_count": 145,
   "id": "02d2a59a",
   "metadata": {},
   "outputs": [
    {
     "data": {
      "text/plain": [
       "['primary_fuel', 'source', 'url', 'geolocation_source']"
      ]
     },
     "execution_count": 145,
     "metadata": {},
     "output_type": "execute_result"
    }
   ],
   "source": [
    "categorical_col"
   ]
  },
  {
   "cell_type": "code",
   "execution_count": 147,
   "id": "c0f69654",
   "metadata": {},
   "outputs": [
    {
     "name": "stdout",
     "output_type": "stream",
     "text": [
      "8\n",
      "190\n",
      "287\n",
      "3\n"
     ]
    }
   ],
   "source": [
    "for col in categorical_col:\n",
    "    print(df[col].unique().shape[0])"
   ]
  },
  {
   "cell_type": "code",
   "execution_count": 152,
   "id": "d679ae7c",
   "metadata": {},
   "outputs": [
    {
     "data": {
      "text/html": [
       "<div>\n",
       "<style scoped>\n",
       "    .dataframe tbody tr th:only-of-type {\n",
       "        vertical-align: middle;\n",
       "    }\n",
       "\n",
       "    .dataframe tbody tr th {\n",
       "        vertical-align: top;\n",
       "    }\n",
       "\n",
       "    .dataframe thead th {\n",
       "        text-align: right;\n",
       "    }\n",
       "</style>\n",
       "<table border=\"1\" class=\"dataframe\">\n",
       "  <thead>\n",
       "    <tr style=\"text-align: right;\">\n",
       "      <th></th>\n",
       "      <th>capacity_mw</th>\n",
       "      <th>primary_fuel</th>\n",
       "      <th>source</th>\n",
       "      <th>url</th>\n",
       "      <th>geolocation_source</th>\n",
       "    </tr>\n",
       "  </thead>\n",
       "  <tbody>\n",
       "    <tr>\n",
       "      <th>0</th>\n",
       "      <td>2.5</td>\n",
       "      <td>Solar</td>\n",
       "      <td>National Renewable Energy Laboratory</td>\n",
       "      <td>http://www.nrel.gov/csp/solarpaces/project_det...</td>\n",
       "      <td>National Renewable Energy Laboratory</td>\n",
       "    </tr>\n",
       "  </tbody>\n",
       "</table>\n",
       "</div>"
      ],
      "text/plain": [
       "   capacity_mw primary_fuel                                source  \\\n",
       "0          2.5        Solar  National Renewable Energy Laboratory   \n",
       "\n",
       "                                                 url  \\\n",
       "0  http://www.nrel.gov/csp/solarpaces/project_det...   \n",
       "\n",
       "                     geolocation_source  \n",
       "0  National Renewable Energy Laboratory  "
      ]
     },
     "execution_count": 152,
     "metadata": {},
     "output_type": "execute_result"
    }
   ],
   "source": [
    "df.head(1)"
   ]
  },
  {
   "cell_type": "code",
   "execution_count": 151,
   "id": "60ae2285",
   "metadata": {},
   "outputs": [],
   "source": [
    "from sklearn.preprocessing import LabelEncoder"
   ]
  },
  {
   "cell_type": "code",
   "execution_count": 153,
   "id": "ccd0714b",
   "metadata": {},
   "outputs": [],
   "source": [
    "df['primary_fuel'] = LabelEncoder().fit_transform(df['primary_fuel'])"
   ]
  },
  {
   "cell_type": "code",
   "execution_count": 154,
   "id": "8013d893",
   "metadata": {},
   "outputs": [],
   "source": [
    "df['source'] = LabelEncoder().fit_transform(df['source'])\n",
    "df['url'] = LabelEncoder().fit_transform(df['url'])\n",
    "df['geolocation_source'] = LabelEncoder().fit_transform(df['geolocation_source'])"
   ]
  },
  {
   "cell_type": "code",
   "execution_count": 155,
   "id": "ad68972f",
   "metadata": {},
   "outputs": [],
   "source": [
    "# scaling and normalizing the 'capacity_mw' feature\n",
    "from sklearn.preprocessing import PowerTransformer"
   ]
  },
  {
   "cell_type": "code",
   "execution_count": 156,
   "id": "3f85a48a",
   "metadata": {},
   "outputs": [],
   "source": [
    "df['capacity_mw'] = PowerTransformer().fit_transform(df[['capacity_mw']])"
   ]
  },
  {
   "cell_type": "code",
   "execution_count": 158,
   "id": "c42a0a80",
   "metadata": {},
   "outputs": [],
   "source": [
    "y = df['primary_fuel']\n",
    "x = df.drop('primary_fuel', axis = 1)"
   ]
  },
  {
   "cell_type": "code",
   "execution_count": 160,
   "id": "aaea5d2e",
   "metadata": {},
   "outputs": [],
   "source": [
    "from sklearn.model_selection import train_test_split"
   ]
  },
  {
   "cell_type": "code",
   "execution_count": 161,
   "id": "8477bd9d",
   "metadata": {},
   "outputs": [],
   "source": [
    "xtrain, xtest, ytrain, ytest = train_test_split(x, y, test_size = 0.2, random_state = 42)"
   ]
  },
  {
   "cell_type": "code",
   "execution_count": 169,
   "id": "9f260f5b",
   "metadata": {},
   "outputs": [],
   "source": [
    "from sklearn.metrics import plot_roc_curve, accuracy_score"
   ]
  },
  {
   "cell_type": "code",
   "execution_count": 170,
   "id": "85e4df6c",
   "metadata": {},
   "outputs": [
    {
     "name": "stdout",
     "output_type": "stream",
     "text": [
      "\n",
      "DecisionTreeClassifier : 80.000%\n",
      "\n",
      "LogisticRegression : 73.548%\n",
      "\n",
      "KNeighborsClassifier : 67.097%\n",
      "\n",
      "RandomForestClassifier : 82.581%\n"
     ]
    }
   ],
   "source": [
    "# Building our Logistic regressor models\n",
    "dt = DecisionTreeClassifier()\n",
    "lr = LogisticRegression()\n",
    "kn = KNeighborsClassifier()\n",
    "rf = RandomForestClassifier()\n",
    "\n",
    "estimators = []\n",
    "estimators.append((dt, 'DecisionTreeClassifier'))\n",
    "estimators.append((lr, 'LogisticRegression'))\n",
    "estimators.append((kn, 'KNeighborsClassifier'))\n",
    "estimators.append((rf, 'RandomForestClassifier'))\n",
    "\n",
    "for estimator in estimators:\n",
    "    estimator[0].fit(xtrain, ytrain)\n",
    "    ypred = estimator[0].predict(xtest)\n",
    "    print()\n",
    "    print(f\"{estimator[1]} : {accuracy_score(ytest, ypred)*100:0.3f}%\")"
   ]
  },
  {
   "cell_type": "code",
   "execution_count": 174,
   "id": "af6e1871",
   "metadata": {},
   "outputs": [],
   "source": [
    "param_grid = {'n_estimators':[100, 150, 200, 300],\n",
    "              'criterion' :['gini','entropy'],\n",
    "              'max_depth' :[2, 3, 4, 5, 6, 7],\n",
    "              'min_samples_split': [2, 4, 5, 6, 8]}\n",
    "\n",
    "gs1 = GridSearchCV(RandomForestClassifier(), param_grid = param_grid, n_jobs = -1)\n",
    "gs1.fit(xtrain, ytrain)\n",
    "rf_best_est = gs1.best_estimator_"
   ]
  },
  {
   "cell_type": "markdown",
   "id": "a48a0ff9",
   "metadata": {},
   "source": [
    "The accuracy has impressively improved from 77% to 88.9%, hence we will save this model "
   ]
  },
  {
   "cell_type": "code",
   "execution_count": 175,
   "id": "ed04db5c",
   "metadata": {},
   "outputs": [],
   "source": [
    "import joblib"
   ]
  },
  {
   "cell_type": "code",
   "execution_count": 177,
   "id": "1a158ec0",
   "metadata": {},
   "outputs": [
    {
     "data": {
      "text/plain": [
       "['powerPlant.pkl']"
      ]
     },
     "execution_count": 177,
     "metadata": {},
     "output_type": "execute_result"
    }
   ],
   "source": [
    "joblib.dump(rf_best_est, 'powerPlant.pkl')"
   ]
  },
  {
   "cell_type": "code",
   "execution_count": null,
   "id": "c750e0e6",
   "metadata": {},
   "outputs": [],
   "source": []
  },
  {
   "cell_type": "code",
   "execution_count": null,
   "id": "080f4540",
   "metadata": {},
   "outputs": [],
   "source": []
  },
  {
   "cell_type": "code",
   "execution_count": null,
   "id": "3b80ebd3",
   "metadata": {},
   "outputs": [],
   "source": []
  }
 ],
 "metadata": {
  "kernelspec": {
   "display_name": "Python 3 (ipykernel)",
   "language": "python",
   "name": "python3"
  },
  "language_info": {
   "codemirror_mode": {
    "name": "ipython",
    "version": 3
   },
   "file_extension": ".py",
   "mimetype": "text/x-python",
   "name": "python",
   "nbconvert_exporter": "python",
   "pygments_lexer": "ipython3",
   "version": "3.9.10"
  }
 },
 "nbformat": 4,
 "nbformat_minor": 5
}
