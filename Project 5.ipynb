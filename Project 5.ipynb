{
 "cells": [
  {
   "cell_type": "markdown",
   "id": "116e5ce9",
   "metadata": {},
   "source": [
    "# Census Income Project\n",
    "### Problem Statement:\n",
    "\n",
    "\n",
    "This data was extracted from the 1994 Census bureau database by Ronny Kohavi and Barry Becker (Data Mining and Visualization, Silicon Graphics). A set of reasonably clean records was extracted using the following conditions: ((AAGE>16) && (AGI>100) && (AFNLWGT>1) && (HRSWK>0)). The prediction task is to determine whether a person makes over $50K a year.\n",
    "Description of fnlwgt (final weight)\n",
    "\n",
    "The weights on the Current Population Survey (CPS) files are controlled to independent estimates of the civilian non-institutional population of the US. These are prepared monthly for us by Population Division here at the Census Bureau. We use 3 sets of controls. These are:\n",
    "\n",
    "    A single cell estimate of the population 16+ for each state.\n",
    "\n",
    "    Controls for Hispanic Origin by age and sex.\n",
    "\n",
    "    Controls by Race, age and sex.\n",
    "\n",
    "We use all three sets of controls in our weighting program and \"rake\" through them 6 times so that by the end we come back to all the controls we used. The term estimate refers to population totals derived from CPS by creating \"weighted tallies\" of any specified socio-economic characteristics of the population. People with similar demographic characteristics should have similar weights. There is one important caveat to remember about this statement. That is that since the CPS sample is actually a collection of 51 state samples, each with its own probability of selection, the statement only applies within state."
   ]
  },
  {
   "cell_type": "code",
   "execution_count": 5,
   "id": "900e026d",
   "metadata": {},
   "outputs": [],
   "source": [
    "# 1. Import the libraries\n",
    "# basics\n",
    "import pandas as pd\n",
    "import numpy as np\n",
    "import matplotlib.pyplot as plt\n",
    "import seaborn as sns\n",
    "\n",
    "# statistical libraries\n",
    "import phik\n",
    "from scipy.stats import pearsonr\n",
    "from scipy.stats import zscore\n",
    "\n",
    "# feature engineering\n",
    "from sklearn.model_selection import train_test_split\n",
    "from sklearn.preprocessing import StandardScaler\n",
    "from sklearn.preprocessing import PowerTransformer\n",
    "\n",
    "from sklearn.linear_model import LinearRegression, LogisticRegression\n",
    "from sklearn.tree import DecisionTreeRegressor, DecisionTreeClassifier\n",
    "from sklearn.neighbors import KNeighborsRegressor, KNeighborsClassifier\n",
    "from sklearn.ensemble import RandomForestClassifier\n",
    "\n",
    "# metrics \n",
    "from sklearn.metrics import mean_squared_error, r2_score\n",
    "from sklearn.metrics import confusion_matrix, f1_score, roc_auc_score, classification_report\n",
    "\n",
    "# Hyperparameter tuning\n",
    "from sklearn.model_selection import GridSearchCV\n",
    "\n",
    "# suppress warnings\n",
    "import warnings\n",
    "warnings.filterwarnings('ignore')"
   ]
  },
  {
   "cell_type": "code",
   "execution_count": 6,
   "id": "649f41e6",
   "metadata": {},
   "outputs": [],
   "source": [
    "df = pd.read_csv('https://raw.githubusercontent.com/dsrscientist/dataset1/master/census_income.csv')"
   ]
  },
  {
   "cell_type": "code",
   "execution_count": 7,
   "id": "44664d29",
   "metadata": {},
   "outputs": [
    {
     "data": {
      "text/html": [
       "<div>\n",
       "<style scoped>\n",
       "    .dataframe tbody tr th:only-of-type {\n",
       "        vertical-align: middle;\n",
       "    }\n",
       "\n",
       "    .dataframe tbody tr th {\n",
       "        vertical-align: top;\n",
       "    }\n",
       "\n",
       "    .dataframe thead th {\n",
       "        text-align: right;\n",
       "    }\n",
       "</style>\n",
       "<table border=\"1\" class=\"dataframe\">\n",
       "  <thead>\n",
       "    <tr style=\"text-align: right;\">\n",
       "      <th></th>\n",
       "      <th>Age</th>\n",
       "      <th>Workclass</th>\n",
       "      <th>Fnlwgt</th>\n",
       "      <th>Education</th>\n",
       "      <th>Education_num</th>\n",
       "      <th>Marital_status</th>\n",
       "      <th>Occupation</th>\n",
       "      <th>Relationship</th>\n",
       "      <th>Race</th>\n",
       "      <th>Sex</th>\n",
       "      <th>Capital_gain</th>\n",
       "      <th>Capital_loss</th>\n",
       "      <th>Hours_per_week</th>\n",
       "      <th>Native_country</th>\n",
       "      <th>Income</th>\n",
       "    </tr>\n",
       "  </thead>\n",
       "  <tbody>\n",
       "    <tr>\n",
       "      <th>0</th>\n",
       "      <td>50</td>\n",
       "      <td>Self-emp-not-inc</td>\n",
       "      <td>83311</td>\n",
       "      <td>Bachelors</td>\n",
       "      <td>13</td>\n",
       "      <td>Married-civ-spouse</td>\n",
       "      <td>Exec-managerial</td>\n",
       "      <td>Husband</td>\n",
       "      <td>White</td>\n",
       "      <td>Male</td>\n",
       "      <td>0</td>\n",
       "      <td>0</td>\n",
       "      <td>13</td>\n",
       "      <td>United-States</td>\n",
       "      <td>&lt;=50K</td>\n",
       "    </tr>\n",
       "    <tr>\n",
       "      <th>1</th>\n",
       "      <td>38</td>\n",
       "      <td>Private</td>\n",
       "      <td>215646</td>\n",
       "      <td>HS-grad</td>\n",
       "      <td>9</td>\n",
       "      <td>Divorced</td>\n",
       "      <td>Handlers-cleaners</td>\n",
       "      <td>Not-in-family</td>\n",
       "      <td>White</td>\n",
       "      <td>Male</td>\n",
       "      <td>0</td>\n",
       "      <td>0</td>\n",
       "      <td>40</td>\n",
       "      <td>United-States</td>\n",
       "      <td>&lt;=50K</td>\n",
       "    </tr>\n",
       "    <tr>\n",
       "      <th>2</th>\n",
       "      <td>53</td>\n",
       "      <td>Private</td>\n",
       "      <td>234721</td>\n",
       "      <td>11th</td>\n",
       "      <td>7</td>\n",
       "      <td>Married-civ-spouse</td>\n",
       "      <td>Handlers-cleaners</td>\n",
       "      <td>Husband</td>\n",
       "      <td>Black</td>\n",
       "      <td>Male</td>\n",
       "      <td>0</td>\n",
       "      <td>0</td>\n",
       "      <td>40</td>\n",
       "      <td>United-States</td>\n",
       "      <td>&lt;=50K</td>\n",
       "    </tr>\n",
       "    <tr>\n",
       "      <th>3</th>\n",
       "      <td>28</td>\n",
       "      <td>Private</td>\n",
       "      <td>338409</td>\n",
       "      <td>Bachelors</td>\n",
       "      <td>13</td>\n",
       "      <td>Married-civ-spouse</td>\n",
       "      <td>Prof-specialty</td>\n",
       "      <td>Wife</td>\n",
       "      <td>Black</td>\n",
       "      <td>Female</td>\n",
       "      <td>0</td>\n",
       "      <td>0</td>\n",
       "      <td>40</td>\n",
       "      <td>Cuba</td>\n",
       "      <td>&lt;=50K</td>\n",
       "    </tr>\n",
       "    <tr>\n",
       "      <th>4</th>\n",
       "      <td>37</td>\n",
       "      <td>Private</td>\n",
       "      <td>284582</td>\n",
       "      <td>Masters</td>\n",
       "      <td>14</td>\n",
       "      <td>Married-civ-spouse</td>\n",
       "      <td>Exec-managerial</td>\n",
       "      <td>Wife</td>\n",
       "      <td>White</td>\n",
       "      <td>Female</td>\n",
       "      <td>0</td>\n",
       "      <td>0</td>\n",
       "      <td>40</td>\n",
       "      <td>United-States</td>\n",
       "      <td>&lt;=50K</td>\n",
       "    </tr>\n",
       "  </tbody>\n",
       "</table>\n",
       "</div>"
      ],
      "text/plain": [
       "   Age          Workclass  Fnlwgt   Education  Education_num  \\\n",
       "0   50   Self-emp-not-inc   83311   Bachelors             13   \n",
       "1   38            Private  215646     HS-grad              9   \n",
       "2   53            Private  234721        11th              7   \n",
       "3   28            Private  338409   Bachelors             13   \n",
       "4   37            Private  284582     Masters             14   \n",
       "\n",
       "        Marital_status          Occupation    Relationship    Race      Sex  \\\n",
       "0   Married-civ-spouse     Exec-managerial         Husband   White     Male   \n",
       "1             Divorced   Handlers-cleaners   Not-in-family   White     Male   \n",
       "2   Married-civ-spouse   Handlers-cleaners         Husband   Black     Male   \n",
       "3   Married-civ-spouse      Prof-specialty            Wife   Black   Female   \n",
       "4   Married-civ-spouse     Exec-managerial            Wife   White   Female   \n",
       "\n",
       "   Capital_gain  Capital_loss  Hours_per_week  Native_country  Income  \n",
       "0             0             0              13   United-States   <=50K  \n",
       "1             0             0              40   United-States   <=50K  \n",
       "2             0             0              40   United-States   <=50K  \n",
       "3             0             0              40            Cuba   <=50K  \n",
       "4             0             0              40   United-States   <=50K  "
      ]
     },
     "execution_count": 7,
     "metadata": {},
     "output_type": "execute_result"
    }
   ],
   "source": [
    "# Checking the dataset\n",
    "df.head()"
   ]
  },
  {
   "cell_type": "code",
   "execution_count": 8,
   "id": "c7d8fea0",
   "metadata": {},
   "outputs": [
    {
     "name": "stdout",
     "output_type": "stream",
     "text": [
      "<class 'pandas.core.frame.DataFrame'>\n",
      "RangeIndex: 32560 entries, 0 to 32559\n",
      "Data columns (total 15 columns):\n",
      " #   Column          Non-Null Count  Dtype \n",
      "---  ------          --------------  ----- \n",
      " 0   Age             32560 non-null  int64 \n",
      " 1   Workclass       32560 non-null  object\n",
      " 2   Fnlwgt          32560 non-null  int64 \n",
      " 3   Education       32560 non-null  object\n",
      " 4   Education_num   32560 non-null  int64 \n",
      " 5   Marital_status  32560 non-null  object\n",
      " 6   Occupation      32560 non-null  object\n",
      " 7   Relationship    32560 non-null  object\n",
      " 8   Race            32560 non-null  object\n",
      " 9   Sex             32560 non-null  object\n",
      " 10  Capital_gain    32560 non-null  int64 \n",
      " 11  Capital_loss    32560 non-null  int64 \n",
      " 12  Hours_per_week  32560 non-null  int64 \n",
      " 13  Native_country  32560 non-null  object\n",
      " 14  Income          32560 non-null  object\n",
      "dtypes: int64(6), object(9)\n",
      "memory usage: 3.7+ MB\n"
     ]
    }
   ],
   "source": [
    "# check for the data statistics and datatypes\n",
    "df.info()"
   ]
  },
  {
   "cell_type": "code",
   "execution_count": 9,
   "id": "c4a382a6",
   "metadata": {},
   "outputs": [
    {
     "data": {
      "text/plain": [
       "Age               0\n",
       "Workclass         0\n",
       "Fnlwgt            0\n",
       "Education         0\n",
       "Education_num     0\n",
       "Marital_status    0\n",
       "Occupation        0\n",
       "Relationship      0\n",
       "Race              0\n",
       "Sex               0\n",
       "Capital_gain      0\n",
       "Capital_loss      0\n",
       "Hours_per_week    0\n",
       "Native_country    0\n",
       "Income            0\n",
       "dtype: int64"
      ]
     },
     "execution_count": 9,
     "metadata": {},
     "output_type": "execute_result"
    }
   ],
   "source": [
    "# Checking for null values \n",
    "df.isnull().sum()"
   ]
  },
  {
   "cell_type": "markdown",
   "id": "d91b03a9",
   "metadata": {},
   "source": [
    "there aren't any null values"
   ]
  },
  {
   "cell_type": "code",
   "execution_count": 10,
   "id": "3e00be48",
   "metadata": {},
   "outputs": [
    {
     "data": {
      "text/html": [
       "<div>\n",
       "<style scoped>\n",
       "    .dataframe tbody tr th:only-of-type {\n",
       "        vertical-align: middle;\n",
       "    }\n",
       "\n",
       "    .dataframe tbody tr th {\n",
       "        vertical-align: top;\n",
       "    }\n",
       "\n",
       "    .dataframe thead th {\n",
       "        text-align: right;\n",
       "    }\n",
       "</style>\n",
       "<table border=\"1\" class=\"dataframe\">\n",
       "  <thead>\n",
       "    <tr style=\"text-align: right;\">\n",
       "      <th></th>\n",
       "      <th>Age</th>\n",
       "      <th>Fnlwgt</th>\n",
       "      <th>Education_num</th>\n",
       "      <th>Capital_gain</th>\n",
       "      <th>Capital_loss</th>\n",
       "      <th>Hours_per_week</th>\n",
       "    </tr>\n",
       "  </thead>\n",
       "  <tbody>\n",
       "    <tr>\n",
       "      <th>count</th>\n",
       "      <td>32560.0</td>\n",
       "      <td>32560.0</td>\n",
       "      <td>32560.0</td>\n",
       "      <td>32560.0</td>\n",
       "      <td>32560.0</td>\n",
       "      <td>32560.0</td>\n",
       "    </tr>\n",
       "    <tr>\n",
       "      <th>mean</th>\n",
       "      <td>39.0</td>\n",
       "      <td>189782.0</td>\n",
       "      <td>10.0</td>\n",
       "      <td>1078.0</td>\n",
       "      <td>87.0</td>\n",
       "      <td>40.0</td>\n",
       "    </tr>\n",
       "    <tr>\n",
       "      <th>std</th>\n",
       "      <td>14.0</td>\n",
       "      <td>105550.0</td>\n",
       "      <td>3.0</td>\n",
       "      <td>7385.0</td>\n",
       "      <td>403.0</td>\n",
       "      <td>12.0</td>\n",
       "    </tr>\n",
       "    <tr>\n",
       "      <th>min</th>\n",
       "      <td>17.0</td>\n",
       "      <td>12285.0</td>\n",
       "      <td>1.0</td>\n",
       "      <td>0.0</td>\n",
       "      <td>0.0</td>\n",
       "      <td>1.0</td>\n",
       "    </tr>\n",
       "    <tr>\n",
       "      <th>25%</th>\n",
       "      <td>28.0</td>\n",
       "      <td>117832.0</td>\n",
       "      <td>9.0</td>\n",
       "      <td>0.0</td>\n",
       "      <td>0.0</td>\n",
       "      <td>40.0</td>\n",
       "    </tr>\n",
       "    <tr>\n",
       "      <th>50%</th>\n",
       "      <td>37.0</td>\n",
       "      <td>178363.0</td>\n",
       "      <td>10.0</td>\n",
       "      <td>0.0</td>\n",
       "      <td>0.0</td>\n",
       "      <td>40.0</td>\n",
       "    </tr>\n",
       "    <tr>\n",
       "      <th>75%</th>\n",
       "      <td>48.0</td>\n",
       "      <td>237054.0</td>\n",
       "      <td>12.0</td>\n",
       "      <td>0.0</td>\n",
       "      <td>0.0</td>\n",
       "      <td>45.0</td>\n",
       "    </tr>\n",
       "    <tr>\n",
       "      <th>max</th>\n",
       "      <td>90.0</td>\n",
       "      <td>1484705.0</td>\n",
       "      <td>16.0</td>\n",
       "      <td>99999.0</td>\n",
       "      <td>4356.0</td>\n",
       "      <td>99.0</td>\n",
       "    </tr>\n",
       "  </tbody>\n",
       "</table>\n",
       "</div>"
      ],
      "text/plain": [
       "           Age     Fnlwgt  Education_num  Capital_gain  Capital_loss  \\\n",
       "count  32560.0    32560.0        32560.0       32560.0       32560.0   \n",
       "mean      39.0   189782.0           10.0        1078.0          87.0   \n",
       "std       14.0   105550.0            3.0        7385.0         403.0   \n",
       "min       17.0    12285.0            1.0           0.0           0.0   \n",
       "25%       28.0   117832.0            9.0           0.0           0.0   \n",
       "50%       37.0   178363.0           10.0           0.0           0.0   \n",
       "75%       48.0   237054.0           12.0           0.0           0.0   \n",
       "max       90.0  1484705.0           16.0       99999.0        4356.0   \n",
       "\n",
       "       Hours_per_week  \n",
       "count         32560.0  \n",
       "mean             40.0  \n",
       "std              12.0  \n",
       "min               1.0  \n",
       "25%              40.0  \n",
       "50%              40.0  \n",
       "75%              45.0  \n",
       "max              99.0  "
      ]
     },
     "execution_count": 10,
     "metadata": {},
     "output_type": "execute_result"
    }
   ],
   "source": [
    "# checking for the data statistics\n",
    "df.describe().round()"
   ]
  },
  {
   "cell_type": "code",
   "execution_count": 51,
   "id": "c1e0c662",
   "metadata": {},
   "outputs": [
    {
     "name": "stdout",
     "output_type": "stream",
     "text": [
      "%age zeros in Age                  : 0.0\n",
      "%age zeros in Fnlwgt               : 0.0\n",
      "%age zeros in Education_num        : 0.0\n",
      "%age zeros in Hours_per_week       : 0.0\n"
     ]
    }
   ],
   "source": [
    "# looking for zero values since, Capital_gain and Capital_loss have huge standard deviations\n",
    "from pandas.api.types import is_numeric_dtype\n",
    "for col in df.columns:\n",
    "    if is_numeric_dtype(df[col]):\n",
    "        print(f\"%age zeros in {col:20s} : {np.where(df[col] == 0)[0].shape[0]/len(df)}\")"
   ]
  },
  {
   "cell_type": "markdown",
   "id": "35b2e773",
   "metadata": {},
   "source": [
    "Apparently Capital_gain and Capital_loss have a very large number of zeros and hence we discard the two"
   ]
  },
  {
   "cell_type": "code",
   "execution_count": 21,
   "id": "7caded81",
   "metadata": {},
   "outputs": [],
   "source": [
    "df.drop(columns = ['Capital_gain', 'Capital_loss'], inplace = True)"
   ]
  },
  {
   "cell_type": "code",
   "execution_count": 23,
   "id": "2dbbd0f5",
   "metadata": {},
   "outputs": [],
   "source": [
    "# Next we check for the distribution of the numeric columns\n",
    "numeric_col = []\n",
    "for col in df.columns:\n",
    "    if is_numeric_dtype(df[col]):\n",
    "        numeric_col.append(col)"
   ]
  },
  {
   "cell_type": "code",
   "execution_count": 24,
   "id": "59d558b2",
   "metadata": {},
   "outputs": [
    {
     "data": {
      "image/png": "[encoded data removed]",
      "text/plain": [
       "<Figure size 1080x1080 with 4 Axes>"
      ]
     },
     "metadata": {
      "needs_background": "light"
     },
     "output_type": "display_data"
    }
   ],
   "source": [
    "plt.figure(figsize = (15, 15))\n",
    "plotnumber = 1\n",
    "for col in numeric_col:\n",
    "    plt.subplot(2,2, plotnumber)\n",
    "    sns.histplot(df[col], kde = True, stat = 'density')\n",
    "    plt.xlabel(col, fontsize = 18)\n",
    "    plotnumber += 1\n",
    "plt.show()"
   ]
  },
  {
   "cell_type": "markdown",
   "id": "afb1569c",
   "metadata": {},
   "source": [
    "Education number apparently is a categorical encoded dataset and hence we remove it from our lists of numeric columns.For the remaining three we check the box plot for outliers"
   ]
  },
  {
   "cell_type": "code",
   "execution_count": 25,
   "id": "a07957cd",
   "metadata": {},
   "outputs": [],
   "source": [
    "numeric_col.remove('Education_num')"
   ]
  },
  {
   "cell_type": "code",
   "execution_count": 27,
   "id": "1b0f656f",
   "metadata": {},
   "outputs": [
    {
     "data": {
      "image/png": "[encoded data removed]",
      "text/plain": [
       "<Figure size 720x720 with 3 Axes>"
      ]
     },
     "metadata": {
      "needs_background": "light"
     },
     "output_type": "display_data"
    }
   ],
   "source": [
    "plt.figure(figsize = (10, 10))\n",
    "plotnumber = 1\n",
    "for col in numeric_col:\n",
    "    plt.subplot(1,3, plotnumber)\n",
    "    sns.boxplot(df[col], orient = 'h')\n",
    "    plt.xlabel(col, fontsize = 18)\n",
    "    plotnumber += 1"
   ]
  },
  {
   "cell_type": "code",
   "execution_count": 29,
   "id": "8357defe",
   "metadata": {},
   "outputs": [],
   "source": [
    "# first we estimate the number of outliers in each feature before we attempt to remove them\n",
    "from scipy.stats import zscore"
   ]
  },
  {
   "cell_type": "code",
   "execution_count": 46,
   "id": "c86bacb0",
   "metadata": {},
   "outputs": [],
   "source": [
    "sum = 0\n",
    "for col in numeric_col:\n",
    "    sum += len(df[(np.abs(zscore(df[[col]]))>3.).all(axis = 1)])"
   ]
  },
  {
   "cell_type": "code",
   "execution_count": 52,
   "id": "40a0db6a",
   "metadata": {},
   "outputs": [
    {
     "name": "stdout",
     "output_type": "stream",
     "text": [
      "%age of data lost : 2.79%\n"
     ]
    }
   ],
   "source": [
    "# %age of data that would be lost is we remove the outliers\n",
    "print(f\"%age of data lost : {sum/len(df)*100:0.2f}%\")"
   ]
  },
  {
   "cell_type": "code",
   "execution_count": 54,
   "id": "ca5d5628",
   "metadata": {},
   "outputs": [],
   "source": [
    "# Hence we got about removing the outliers from the dataset\n",
    "for col in numeric_col:\n",
    "    df = df[(np.abs(zscore(df[[col]]))<3.).all(axis = 1)]\n"
   ]
  },
  {
   "cell_type": "code",
   "execution_count": 60,
   "id": "6494c183",
   "metadata": {},
   "outputs": [
    {
     "data": {
      "image/png": "[encoded data removed]",
      "text/plain": [
       "<Figure size 720x720 with 3 Axes>"
      ]
     },
     "metadata": {
      "needs_background": "light"
     },
     "output_type": "display_data"
    }
   ],
   "source": [
    "# plotting the values again to check if the if the outliers have be removed\n",
    "plt.figure(figsize = (10, 10))\n",
    "plotnumber = 1\n",
    "for col in numeric_col:\n",
    "    plt.subplot(3,2,plotnumber)\n",
    "    sns.boxplot(df[col], orient = 'h')\n",
    "    plt.xlabel(col, fontsize = 18)\n",
    "    plotnumber += 1\n",
    "plt.show()"
   ]
  },
  {
   "cell_type": "code",
   "execution_count": 61,
   "id": "4506bdb6",
   "metadata": {},
   "outputs": [
    {
     "data": {
      "image/png": "[encoded data removed]",
      "text/plain": [
       "<Figure size 720x720 with 3 Axes>"
      ]
     },
     "metadata": {
      "needs_background": "light"
     },
     "output_type": "display_data"
    }
   ],
   "source": [
    "plt.figure(figsize = (10, 10))\n",
    "plotnumber = 1\n",
    "for col in numeric_col:\n",
    "    plt.subplot(3,2,plotnumber)\n",
    "    sns.histplot(df[col], kde = True, stat = 'density')\n",
    "    plt.xlabel(col, fontsize = 18)\n",
    "    plotnumber += 1\n",
    "plt.show()"
   ]
  },
  {
   "cell_type": "markdown",
   "id": "b742e14e",
   "metadata": {},
   "source": [
    "The hours per week still have some outliers which we will try and remove using the quantile range"
   ]
  },
  {
   "cell_type": "code",
   "execution_count": 64,
   "id": "04e72267",
   "metadata": {},
   "outputs": [],
   "source": [
    "q1 = df['Hours_per_week'].quantile(0.25)\n",
    "q3 = df['Hours_per_week'].quantile(0.75)"
   ]
  },
  {
   "cell_type": "code",
   "execution_count": 65,
   "id": "f35b9b15",
   "metadata": {},
   "outputs": [],
   "source": [
    "iqr = q3 - q1\n",
    "lo  = q1 - 1.5 * iqr\n",
    "hi  = q3 + 1.5 * iqr\n",
    "\n",
    "low_indices = np.where(df['Hours_per_week'] > hi)\n",
    "high_indices= np.where(df['Hours_per_week'] < lo)"
   ]
  },
  {
   "cell_type": "code",
   "execution_count": 70,
   "id": "635ef977",
   "metadata": {},
   "outputs": [
    {
     "data": {
      "text/plain": [
       "9.829802014588399"
      ]
     },
     "execution_count": 70,
     "metadata": {},
     "output_type": "execute_result"
    }
   ],
   "source": [
    "low_indices[0].shape[0]/len(df)*100"
   ]
  },
  {
   "cell_type": "code",
   "execution_count": 72,
   "id": "0d672beb",
   "metadata": {},
   "outputs": [
    {
     "data": {
      "text/plain": [
       "16.754554927531657"
      ]
     },
     "execution_count": 72,
     "metadata": {},
     "output_type": "execute_result"
    }
   ],
   "source": [
    "high_indices[0].shape[0]/len(df)*100"
   ]
  },
  {
   "cell_type": "code",
   "execution_count": 73,
   "id": "737f699f",
   "metadata": {},
   "outputs": [],
   "source": [
    "# we lose 25% of our data, which is quite high and hence we drop the feature all together"
   ]
  },
  {
   "cell_type": "code",
   "execution_count": 74,
   "id": "81ab9e9f",
   "metadata": {},
   "outputs": [],
   "source": [
    "df.drop('Hours_per_week', axis = 1, inplace =True)"
   ]
  },
  {
   "cell_type": "code",
   "execution_count": 80,
   "id": "776a9a35",
   "metadata": {},
   "outputs": [],
   "source": [
    "# The Education columns and the education num both are the same column, the latter being encoded and hence we must drop it\n",
    "df.drop('Education', axis = 1, inplace = True)"
   ]
  },
  {
   "cell_type": "code",
   "execution_count": 84,
   "id": "9249ff33",
   "metadata": {},
   "outputs": [],
   "source": [
    "# The final weight is the target variable\n",
    "y = df['Fnlwgt']\n",
    "x = df.drop('Fnlwgt', axis = 1)\n",
    "import phik"
   ]
  },
  {
   "cell_type": "code",
   "execution_count": 87,
   "id": "25dda161",
   "metadata": {},
   "outputs": [],
   "source": [
    "temp = pd.DataFrame()\n",
    "pvalue = []\n",
    "score  = []\n",
    "feature= []\n",
    "for col in x.columns:\n",
    "    if(is_numeric_dtype(x[col])):\n",
    "        score.append(phik.phik_from_array(x[col], y, [col]))\n",
    "        pvalue.append(phik.significance.significance_from_array(x[col], y, [col])[0])\n",
    "        feature.append(col)\n",
    "    else:\n",
    "        score.append(phik.phik_from_array(x[col], y))\n",
    "        pvalue.append(phik.significance.significance_from_array(x[col], y)[0])\n",
    "        feature.append(col)"
   ]
  },
  {
   "cell_type": "code",
   "execution_count": 88,
   "id": "5c3edc58",
   "metadata": {},
   "outputs": [],
   "source": [
    "temp['Features'] = feature\n",
    "temp['Score'] = score\n",
    "temp['pvalue']= pvalue"
   ]
  },
  {
   "cell_type": "code",
   "execution_count": 97,
   "id": "bec667f6",
   "metadata": {},
   "outputs": [],
   "source": [
    "temp.set_index('Features', inplace = True)"
   ]
  },
  {
   "cell_type": "code",
   "execution_count": 100,
   "id": "d8a1be99",
   "metadata": {},
   "outputs": [
    {
     "data": {
      "image/png": "[encoded data removed]",
      "text/plain": [
       "<Figure size 432x288 with 2 Axes>"
      ]
     },
     "metadata": {
      "needs_background": "light"
     },
     "output_type": "display_data"
    }
   ],
   "source": [
    "temp.sort_values('Score', ascending  = False).plot.bar(subplots = True)\n",
    "plt.show()"
   ]
  },
  {
   "cell_type": "code",
   "execution_count": 102,
   "id": "fbedbddb",
   "metadata": {},
   "outputs": [],
   "source": [
    "# All the features share a high score with the target values, especially the Sex, Race and Age"
   ]
  },
  {
   "cell_type": "code",
   "execution_count": 105,
   "id": "79df2340",
   "metadata": {},
   "outputs": [],
   "source": [
    "# We encode the data next \n",
    "categorical_col = [col for col in x.columns if not (is_numeric_dtype(df[col]))]"
   ]
  },
  {
   "cell_type": "code",
   "execution_count": 106,
   "id": "c94231cc",
   "metadata": {},
   "outputs": [
    {
     "data": {
      "text/plain": [
       "['Workclass',\n",
       " 'Marital_status',\n",
       " 'Occupation',\n",
       " 'Relationship',\n",
       " 'Race',\n",
       " 'Sex',\n",
       " 'Native_country',\n",
       " 'Income']"
      ]
     },
     "execution_count": 106,
     "metadata": {},
     "output_type": "execute_result"
    }
   ],
   "source": [
    "categorical_col"
   ]
  },
  {
   "cell_type": "code",
   "execution_count": 113,
   "id": "9d5956d7",
   "metadata": {},
   "outputs": [
    {
     "name": "stdout",
     "output_type": "stream",
     "text": [
      "Workclass            : 0.028419%\n",
      "Marital_status       : 0.022104%\n",
      "Occupation           : 0.047365%\n",
      "Relationship         : 0.018946%\n",
      "Race                 : 0.015788%\n",
      "Sex                  : 0.006315%\n",
      "Native_country       : 0.132622%\n",
      "Income               : 0.006315%\n"
     ]
    }
   ],
   "source": [
    "# Checking for the variance in each of the features\n",
    "for col in categorical_col:\n",
    "    print(f\"{col:20s} : {df[col].unique().shape[0]/len(df)*100:2f}%\")"
   ]
  },
  {
   "cell_type": "code",
   "execution_count": 119,
   "id": "499516f7",
   "metadata": {},
   "outputs": [],
   "source": [
    "for col in categorical_col:\n",
    "    if df[col].unique().shape[0] == 1:\n",
    "        print(f\"{col:20s}\")"
   ]
  },
  {
   "cell_type": "markdown",
   "id": "a6d17844",
   "metadata": {},
   "source": [
    "There isn't a wide variance within the dataset and there is also no features with one unique value "
   ]
  },
  {
   "cell_type": "code",
   "execution_count": 122,
   "id": "1dbd162a",
   "metadata": {},
   "outputs": [
    {
     "data": {
      "text/plain": [
       "array([' Self-emp-not-inc', ' Private', ' State-gov', ' Federal-gov',\n",
       "       ' Local-gov', ' ?', ' Self-emp-inc', ' Without-pay',\n",
       "       ' Never-worked'], dtype=object)"
      ]
     },
     "execution_count": 122,
     "metadata": {},
     "output_type": "execute_result"
    }
   ],
   "source": [
    "# Next we encode the values \n",
    "df['Workclass'].unique()"
   ]
  },
  {
   "cell_type": "code",
   "execution_count": 127,
   "id": "ec313a3b",
   "metadata": {},
   "outputs": [
    {
     "name": "stdout",
     "output_type": "stream",
     "text": [
      "5.47%\n"
     ]
    }
   ],
   "source": [
    "# Since the WorkClass feature has some missing values\n",
    "print(f\"{np.where(df['Workclass'] == ' ?')[0].shape[0]/len(df) * 100:0.2f}%\")"
   ]
  },
  {
   "cell_type": "code",
   "execution_count": 162,
   "id": "b642bdc4",
   "metadata": {},
   "outputs": [],
   "source": [
    "df.reset_index(inplace = True)"
   ]
  },
  {
   "cell_type": "code",
   "execution_count": 163,
   "id": "9534e49b",
   "metadata": {},
   "outputs": [],
   "source": [
    "# We decide to drop the missing values from the dataset\n",
    "indices = np.where(df['Workclass'] == ' ?')[0]"
   ]
  },
  {
   "cell_type": "code",
   "execution_count": 165,
   "id": "d33c4696",
   "metadata": {},
   "outputs": [],
   "source": [
    "df.drop(index = indices, inplace = True)"
   ]
  },
  {
   "cell_type": "code",
   "execution_count": 167,
   "id": "0e78070c",
   "metadata": {},
   "outputs": [],
   "source": [
    "df.drop('index', inplace = True, axis = 1)"
   ]
  },
  {
   "cell_type": "code",
   "execution_count": 168,
   "id": "05434db9",
   "metadata": {},
   "outputs": [
    {
     "data": {
      "text/html": [
       "<div>\n",
       "<style scoped>\n",
       "    .dataframe tbody tr th:only-of-type {\n",
       "        vertical-align: middle;\n",
       "    }\n",
       "\n",
       "    .dataframe tbody tr th {\n",
       "        vertical-align: top;\n",
       "    }\n",
       "\n",
       "    .dataframe thead th {\n",
       "        text-align: right;\n",
       "    }\n",
       "</style>\n",
       "<table border=\"1\" class=\"dataframe\">\n",
       "  <thead>\n",
       "    <tr style=\"text-align: right;\">\n",
       "      <th></th>\n",
       "      <th>Age</th>\n",
       "      <th>Workclass</th>\n",
       "      <th>Fnlwgt</th>\n",
       "      <th>Education_num</th>\n",
       "      <th>Marital_status</th>\n",
       "      <th>Occupation</th>\n",
       "      <th>Relationship</th>\n",
       "      <th>Race</th>\n",
       "      <th>Sex</th>\n",
       "      <th>Native_country</th>\n",
       "      <th>Income</th>\n",
       "    </tr>\n",
       "  </thead>\n",
       "  <tbody>\n",
       "    <tr>\n",
       "      <th>0</th>\n",
       "      <td>50</td>\n",
       "      <td>Self-emp-not-inc</td>\n",
       "      <td>83311</td>\n",
       "      <td>13</td>\n",
       "      <td>Married-civ-spouse</td>\n",
       "      <td>Exec-managerial</td>\n",
       "      <td>Husband</td>\n",
       "      <td>White</td>\n",
       "      <td>Male</td>\n",
       "      <td>United-States</td>\n",
       "      <td>&lt;=50K</td>\n",
       "    </tr>\n",
       "    <tr>\n",
       "      <th>1</th>\n",
       "      <td>38</td>\n",
       "      <td>Private</td>\n",
       "      <td>215646</td>\n",
       "      <td>9</td>\n",
       "      <td>Divorced</td>\n",
       "      <td>Handlers-cleaners</td>\n",
       "      <td>Not-in-family</td>\n",
       "      <td>White</td>\n",
       "      <td>Male</td>\n",
       "      <td>United-States</td>\n",
       "      <td>&lt;=50K</td>\n",
       "    </tr>\n",
       "    <tr>\n",
       "      <th>2</th>\n",
       "      <td>53</td>\n",
       "      <td>Private</td>\n",
       "      <td>234721</td>\n",
       "      <td>7</td>\n",
       "      <td>Married-civ-spouse</td>\n",
       "      <td>Handlers-cleaners</td>\n",
       "      <td>Husband</td>\n",
       "      <td>Black</td>\n",
       "      <td>Male</td>\n",
       "      <td>United-States</td>\n",
       "      <td>&lt;=50K</td>\n",
       "    </tr>\n",
       "    <tr>\n",
       "      <th>3</th>\n",
       "      <td>28</td>\n",
       "      <td>Private</td>\n",
       "      <td>338409</td>\n",
       "      <td>13</td>\n",
       "      <td>Married-civ-spouse</td>\n",
       "      <td>Prof-specialty</td>\n",
       "      <td>Wife</td>\n",
       "      <td>Black</td>\n",
       "      <td>Female</td>\n",
       "      <td>Cuba</td>\n",
       "      <td>&lt;=50K</td>\n",
       "    </tr>\n",
       "    <tr>\n",
       "      <th>4</th>\n",
       "      <td>37</td>\n",
       "      <td>Private</td>\n",
       "      <td>284582</td>\n",
       "      <td>14</td>\n",
       "      <td>Married-civ-spouse</td>\n",
       "      <td>Exec-managerial</td>\n",
       "      <td>Wife</td>\n",
       "      <td>White</td>\n",
       "      <td>Female</td>\n",
       "      <td>United-States</td>\n",
       "      <td>&lt;=50K</td>\n",
       "    </tr>\n",
       "    <tr>\n",
       "      <th>...</th>\n",
       "      <td>...</td>\n",
       "      <td>...</td>\n",
       "      <td>...</td>\n",
       "      <td>...</td>\n",
       "      <td>...</td>\n",
       "      <td>...</td>\n",
       "      <td>...</td>\n",
       "      <td>...</td>\n",
       "      <td>...</td>\n",
       "      <td>...</td>\n",
       "      <td>...</td>\n",
       "    </tr>\n",
       "    <tr>\n",
       "      <th>31664</th>\n",
       "      <td>27</td>\n",
       "      <td>Private</td>\n",
       "      <td>257302</td>\n",
       "      <td>12</td>\n",
       "      <td>Married-civ-spouse</td>\n",
       "      <td>Tech-support</td>\n",
       "      <td>Wife</td>\n",
       "      <td>White</td>\n",
       "      <td>Female</td>\n",
       "      <td>United-States</td>\n",
       "      <td>&lt;=50K</td>\n",
       "    </tr>\n",
       "    <tr>\n",
       "      <th>31665</th>\n",
       "      <td>40</td>\n",
       "      <td>Private</td>\n",
       "      <td>154374</td>\n",
       "      <td>9</td>\n",
       "      <td>Married-civ-spouse</td>\n",
       "      <td>Machine-op-inspct</td>\n",
       "      <td>Husband</td>\n",
       "      <td>White</td>\n",
       "      <td>Male</td>\n",
       "      <td>United-States</td>\n",
       "      <td>&gt;50K</td>\n",
       "    </tr>\n",
       "    <tr>\n",
       "      <th>31666</th>\n",
       "      <td>58</td>\n",
       "      <td>Private</td>\n",
       "      <td>151910</td>\n",
       "      <td>9</td>\n",
       "      <td>Widowed</td>\n",
       "      <td>Adm-clerical</td>\n",
       "      <td>Unmarried</td>\n",
       "      <td>White</td>\n",
       "      <td>Female</td>\n",
       "      <td>United-States</td>\n",
       "      <td>&lt;=50K</td>\n",
       "    </tr>\n",
       "    <tr>\n",
       "      <th>31667</th>\n",
       "      <td>22</td>\n",
       "      <td>Private</td>\n",
       "      <td>201490</td>\n",
       "      <td>9</td>\n",
       "      <td>Never-married</td>\n",
       "      <td>Adm-clerical</td>\n",
       "      <td>Own-child</td>\n",
       "      <td>White</td>\n",
       "      <td>Male</td>\n",
       "      <td>United-States</td>\n",
       "      <td>&lt;=50K</td>\n",
       "    </tr>\n",
       "    <tr>\n",
       "      <th>31668</th>\n",
       "      <td>52</td>\n",
       "      <td>Self-emp-inc</td>\n",
       "      <td>287927</td>\n",
       "      <td>9</td>\n",
       "      <td>Married-civ-spouse</td>\n",
       "      <td>Exec-managerial</td>\n",
       "      <td>Wife</td>\n",
       "      <td>White</td>\n",
       "      <td>Female</td>\n",
       "      <td>United-States</td>\n",
       "      <td>&gt;50K</td>\n",
       "    </tr>\n",
       "  </tbody>\n",
       "</table>\n",
       "<p>29937 rows × 11 columns</p>\n",
       "</div>"
      ],
      "text/plain": [
       "       Age          Workclass  Fnlwgt  Education_num       Marital_status  \\\n",
       "0       50   Self-emp-not-inc   83311             13   Married-civ-spouse   \n",
       "1       38            Private  215646              9             Divorced   \n",
       "2       53            Private  234721              7   Married-civ-spouse   \n",
       "3       28            Private  338409             13   Married-civ-spouse   \n",
       "4       37            Private  284582             14   Married-civ-spouse   \n",
       "...    ...                ...     ...            ...                  ...   \n",
       "31664   27            Private  257302             12   Married-civ-spouse   \n",
       "31665   40            Private  154374              9   Married-civ-spouse   \n",
       "31666   58            Private  151910              9              Widowed   \n",
       "31667   22            Private  201490              9        Never-married   \n",
       "31668   52       Self-emp-inc  287927              9   Married-civ-spouse   \n",
       "\n",
       "               Occupation    Relationship    Race      Sex  Native_country  \\\n",
       "0         Exec-managerial         Husband   White     Male   United-States   \n",
       "1       Handlers-cleaners   Not-in-family   White     Male   United-States   \n",
       "2       Handlers-cleaners         Husband   Black     Male   United-States   \n",
       "3          Prof-specialty            Wife   Black   Female            Cuba   \n",
       "4         Exec-managerial            Wife   White   Female   United-States   \n",
       "...                   ...             ...     ...      ...             ...   \n",
       "31664        Tech-support            Wife   White   Female   United-States   \n",
       "31665   Machine-op-inspct         Husband   White     Male   United-States   \n",
       "31666        Adm-clerical       Unmarried   White   Female   United-States   \n",
       "31667        Adm-clerical       Own-child   White     Male   United-States   \n",
       "31668     Exec-managerial            Wife   White   Female   United-States   \n",
       "\n",
       "       Income  \n",
       "0       <=50K  \n",
       "1       <=50K  \n",
       "2       <=50K  \n",
       "3       <=50K  \n",
       "4       <=50K  \n",
       "...       ...  \n",
       "31664   <=50K  \n",
       "31665    >50K  \n",
       "31666   <=50K  \n",
       "31667   <=50K  \n",
       "31668    >50K  \n",
       "\n",
       "[29937 rows x 11 columns]"
      ]
     },
     "execution_count": 168,
     "metadata": {},
     "output_type": "execute_result"
    }
   ],
   "source": [
    "df"
   ]
  },
  {
   "cell_type": "code",
   "execution_count": 170,
   "id": "8bca4eee",
   "metadata": {},
   "outputs": [],
   "source": [
    "# Label Encoding the WorkClass feature\n",
    "from sklearn.preprocessing import LabelEncoder\n",
    "le = LabelEncoder()"
   ]
  },
  {
   "cell_type": "code",
   "execution_count": 172,
   "id": "db9628d2",
   "metadata": {},
   "outputs": [],
   "source": [
    "df['Workclass'] = le.fit_transform(df['Workclass'])"
   ]
  },
  {
   "cell_type": "code",
   "execution_count": 174,
   "id": "19fdcf5f",
   "metadata": {},
   "outputs": [],
   "source": [
    "# Encoding the Marital Status\n",
    "df['Marital_status'] = le.fit_transform(df['Marital_status'])"
   ]
  },
  {
   "cell_type": "code",
   "execution_count": 176,
   "id": "3f03dc82",
   "metadata": {},
   "outputs": [
    {
     "data": {
      "text/plain": [
       "array([' Exec-managerial', ' Handlers-cleaners', ' Prof-specialty',\n",
       "       ' Other-service', ' Adm-clerical', ' Sales', ' Craft-repair',\n",
       "       ' Transport-moving', ' Farming-fishing', ' Machine-op-inspct',\n",
       "       ' Tech-support', ' Protective-serv', ' Armed-Forces',\n",
       "       ' Priv-house-serv', ' ?'], dtype=object)"
      ]
     },
     "execution_count": 176,
     "metadata": {},
     "output_type": "execute_result"
    }
   ],
   "source": [
    "# Encoding the Occupation \n",
    "df['Occupation'].unique()"
   ]
  },
  {
   "cell_type": "code",
   "execution_count": 182,
   "id": "39c51de1",
   "metadata": {},
   "outputs": [],
   "source": [
    "# There are missing values\n",
    "indices = np.where(df == ' ?')[0]"
   ]
  },
  {
   "cell_type": "code",
   "execution_count": 196,
   "id": "950cbe34",
   "metadata": {},
   "outputs": [],
   "source": [
    "# dropping all the missing values\n",
    "df = df.reset_index().drop(index = indices)"
   ]
  },
  {
   "cell_type": "code",
   "execution_count": 197,
   "id": "1e8afe50",
   "metadata": {},
   "outputs": [],
   "source": [
    "df.drop('index', axis = 1, inplace = True)"
   ]
  },
  {
   "cell_type": "code",
   "execution_count": 199,
   "id": "5a9be76d",
   "metadata": {},
   "outputs": [],
   "source": [
    "# Encoding ghe Occupation feature\n",
    "df['Occupation'] = le.fit_transform(df['Occupation'])"
   ]
  },
  {
   "cell_type": "code",
   "execution_count": 203,
   "id": "271c2e17",
   "metadata": {},
   "outputs": [],
   "source": [
    "df['Relationship'] = le.fit_transform(df['Relationship'])"
   ]
  },
  {
   "cell_type": "code",
   "execution_count": 206,
   "id": "b577289c",
   "metadata": {},
   "outputs": [],
   "source": [
    "df['Race'] = le.fit_transform(df['Race'])"
   ]
  },
  {
   "cell_type": "code",
   "execution_count": 210,
   "id": "951bebd1",
   "metadata": {},
   "outputs": [],
   "source": [
    "df['Sex'] = pd.get_dummies(df['Sex'], drop_first = True)"
   ]
  },
  {
   "cell_type": "code",
   "execution_count": 214,
   "id": "8e761350",
   "metadata": {},
   "outputs": [],
   "source": [
    "df['Native_country'] = le.fit_transform(df['Native_country'])"
   ]
  },
  {
   "cell_type": "code",
   "execution_count": 219,
   "id": "47b6b7ce",
   "metadata": {},
   "outputs": [],
   "source": [
    "df['Income'] = pd.get_dummies(df['Income'], drop_first = True)"
   ]
  },
  {
   "cell_type": "code",
   "execution_count": 220,
   "id": "d95cbdd1",
   "metadata": {},
   "outputs": [
    {
     "data": {
      "text/html": [
       "<div>\n",
       "<style scoped>\n",
       "    .dataframe tbody tr th:only-of-type {\n",
       "        vertical-align: middle;\n",
       "    }\n",
       "\n",
       "    .dataframe tbody tr th {\n",
       "        vertical-align: top;\n",
       "    }\n",
       "\n",
       "    .dataframe thead th {\n",
       "        text-align: right;\n",
       "    }\n",
       "</style>\n",
       "<table border=\"1\" class=\"dataframe\">\n",
       "  <thead>\n",
       "    <tr style=\"text-align: right;\">\n",
       "      <th></th>\n",
       "      <th>Age</th>\n",
       "      <th>Workclass</th>\n",
       "      <th>Fnlwgt</th>\n",
       "      <th>Education_num</th>\n",
       "      <th>Marital_status</th>\n",
       "      <th>Occupation</th>\n",
       "      <th>Relationship</th>\n",
       "      <th>Race</th>\n",
       "      <th>Sex</th>\n",
       "      <th>Native_country</th>\n",
       "      <th>Income</th>\n",
       "    </tr>\n",
       "  </thead>\n",
       "  <tbody>\n",
       "    <tr>\n",
       "      <th>0</th>\n",
       "      <td>50</td>\n",
       "      <td>5</td>\n",
       "      <td>83311</td>\n",
       "      <td>13</td>\n",
       "      <td>2</td>\n",
       "      <td>3</td>\n",
       "      <td>0</td>\n",
       "      <td>4</td>\n",
       "      <td>1</td>\n",
       "      <td>38</td>\n",
       "      <td>0</td>\n",
       "    </tr>\n",
       "    <tr>\n",
       "      <th>1</th>\n",
       "      <td>38</td>\n",
       "      <td>3</td>\n",
       "      <td>215646</td>\n",
       "      <td>9</td>\n",
       "      <td>0</td>\n",
       "      <td>5</td>\n",
       "      <td>1</td>\n",
       "      <td>4</td>\n",
       "      <td>1</td>\n",
       "      <td>38</td>\n",
       "      <td>0</td>\n",
       "    </tr>\n",
       "    <tr>\n",
       "      <th>2</th>\n",
       "      <td>53</td>\n",
       "      <td>3</td>\n",
       "      <td>234721</td>\n",
       "      <td>7</td>\n",
       "      <td>2</td>\n",
       "      <td>5</td>\n",
       "      <td>0</td>\n",
       "      <td>2</td>\n",
       "      <td>1</td>\n",
       "      <td>38</td>\n",
       "      <td>0</td>\n",
       "    </tr>\n",
       "    <tr>\n",
       "      <th>3</th>\n",
       "      <td>28</td>\n",
       "      <td>3</td>\n",
       "      <td>338409</td>\n",
       "      <td>13</td>\n",
       "      <td>2</td>\n",
       "      <td>9</td>\n",
       "      <td>5</td>\n",
       "      <td>2</td>\n",
       "      <td>0</td>\n",
       "      <td>4</td>\n",
       "      <td>0</td>\n",
       "    </tr>\n",
       "    <tr>\n",
       "      <th>4</th>\n",
       "      <td>37</td>\n",
       "      <td>3</td>\n",
       "      <td>284582</td>\n",
       "      <td>14</td>\n",
       "      <td>2</td>\n",
       "      <td>3</td>\n",
       "      <td>5</td>\n",
       "      <td>4</td>\n",
       "      <td>0</td>\n",
       "      <td>38</td>\n",
       "      <td>0</td>\n",
       "    </tr>\n",
       "    <tr>\n",
       "      <th>...</th>\n",
       "      <td>...</td>\n",
       "      <td>...</td>\n",
       "      <td>...</td>\n",
       "      <td>...</td>\n",
       "      <td>...</td>\n",
       "      <td>...</td>\n",
       "      <td>...</td>\n",
       "      <td>...</td>\n",
       "      <td>...</td>\n",
       "      <td>...</td>\n",
       "      <td>...</td>\n",
       "    </tr>\n",
       "    <tr>\n",
       "      <th>29932</th>\n",
       "      <td>27</td>\n",
       "      <td>3</td>\n",
       "      <td>257302</td>\n",
       "      <td>12</td>\n",
       "      <td>2</td>\n",
       "      <td>12</td>\n",
       "      <td>5</td>\n",
       "      <td>4</td>\n",
       "      <td>0</td>\n",
       "      <td>38</td>\n",
       "      <td>0</td>\n",
       "    </tr>\n",
       "    <tr>\n",
       "      <th>29933</th>\n",
       "      <td>40</td>\n",
       "      <td>3</td>\n",
       "      <td>154374</td>\n",
       "      <td>9</td>\n",
       "      <td>2</td>\n",
       "      <td>6</td>\n",
       "      <td>0</td>\n",
       "      <td>4</td>\n",
       "      <td>1</td>\n",
       "      <td>38</td>\n",
       "      <td>1</td>\n",
       "    </tr>\n",
       "    <tr>\n",
       "      <th>29934</th>\n",
       "      <td>58</td>\n",
       "      <td>3</td>\n",
       "      <td>151910</td>\n",
       "      <td>9</td>\n",
       "      <td>6</td>\n",
       "      <td>0</td>\n",
       "      <td>4</td>\n",
       "      <td>4</td>\n",
       "      <td>0</td>\n",
       "      <td>38</td>\n",
       "      <td>0</td>\n",
       "    </tr>\n",
       "    <tr>\n",
       "      <th>29935</th>\n",
       "      <td>22</td>\n",
       "      <td>3</td>\n",
       "      <td>201490</td>\n",
       "      <td>9</td>\n",
       "      <td>4</td>\n",
       "      <td>0</td>\n",
       "      <td>3</td>\n",
       "      <td>4</td>\n",
       "      <td>1</td>\n",
       "      <td>38</td>\n",
       "      <td>0</td>\n",
       "    </tr>\n",
       "    <tr>\n",
       "      <th>29936</th>\n",
       "      <td>52</td>\n",
       "      <td>4</td>\n",
       "      <td>287927</td>\n",
       "      <td>9</td>\n",
       "      <td>2</td>\n",
       "      <td>3</td>\n",
       "      <td>5</td>\n",
       "      <td>4</td>\n",
       "      <td>0</td>\n",
       "      <td>38</td>\n",
       "      <td>1</td>\n",
       "    </tr>\n",
       "  </tbody>\n",
       "</table>\n",
       "<p>29390 rows × 11 columns</p>\n",
       "</div>"
      ],
      "text/plain": [
       "       Age  Workclass  Fnlwgt  Education_num  Marital_status  Occupation  \\\n",
       "0       50          5   83311             13               2           3   \n",
       "1       38          3  215646              9               0           5   \n",
       "2       53          3  234721              7               2           5   \n",
       "3       28          3  338409             13               2           9   \n",
       "4       37          3  284582             14               2           3   \n",
       "...    ...        ...     ...            ...             ...         ...   \n",
       "29932   27          3  257302             12               2          12   \n",
       "29933   40          3  154374              9               2           6   \n",
       "29934   58          3  151910              9               6           0   \n",
       "29935   22          3  201490              9               4           0   \n",
       "29936   52          4  287927              9               2           3   \n",
       "\n",
       "       Relationship  Race  Sex  Native_country  Income  \n",
       "0                 0     4    1              38       0  \n",
       "1                 1     4    1              38       0  \n",
       "2                 0     2    1              38       0  \n",
       "3                 5     2    0               4       0  \n",
       "4                 5     4    0              38       0  \n",
       "...             ...   ...  ...             ...     ...  \n",
       "29932             5     4    0              38       0  \n",
       "29933             0     4    1              38       1  \n",
       "29934             4     4    0              38       0  \n",
       "29935             3     4    1              38       0  \n",
       "29936             5     4    0              38       1  \n",
       "\n",
       "[29390 rows x 11 columns]"
      ]
     },
     "execution_count": 220,
     "metadata": {},
     "output_type": "execute_result"
    }
   ],
   "source": [
    "df"
   ]
  },
  {
   "cell_type": "code",
   "execution_count": 221,
   "id": "b444e82b",
   "metadata": {},
   "outputs": [],
   "source": [
    "# split the dataset in the training variables and target variable\n",
    "x = df.drop('Fnlwgt', axis = 1)\n",
    "y = df['Fnlwgt']"
   ]
  },
  {
   "cell_type": "code",
   "execution_count": null,
   "id": "2727f9e1",
   "metadata": {},
   "outputs": [],
   "source": [
    "# Standardize the data\n",
    "x_standardized = StandardScaler().fit_transform(x)"
   ]
  },
  {
   "cell_type": "code",
   "execution_count": 223,
   "id": "beca2e55",
   "metadata": {},
   "outputs": [],
   "source": [
    "# split the dataset into a training and testing set\n",
    "xtrain, xtest, ytrain, ytest = train_test_split(x,y,test_size = 0.25, random_state = 42)"
   ]
  },
  {
   "cell_type": "code",
   "execution_count": 224,
   "id": "fe86754a",
   "metadata": {},
   "outputs": [],
   "source": [
    "estimators = []\n",
    "\n",
    "lr = LinearRegression()\n",
    "estimators.append(('Linear Regressor',lr))\n",
    "dt = DecisionTreeRegressor()\n",
    "estimators.append(('Decision Tree Regressor',dt))\n",
    "kn = KNeighborsRegressor()\n",
    "estimators.append(('K-Neighbors Regressor',kn))"
   ]
  },
  {
   "cell_type": "code",
   "execution_count": 225,
   "id": "dc7e83c5",
   "metadata": {},
   "outputs": [
    {
     "name": "stdout",
     "output_type": "stream",
     "text": [
      "Linear Regressor\n",
      "94084.528\n",
      "-67.349\n",
      "Decision Tree Regressor\n",
      "125765.524\n",
      "-0.964\n",
      "K-Neighbors Regressor\n",
      "101008.523\n",
      "-3.928\n"
     ]
    }
   ],
   "source": [
    "# fit the estimators \n",
    "for estimator in estimators:\n",
    "    estimator[1].fit(xtrain, ytrain)\n",
    "    ypred = estimator[1].predict(xtest)\n",
    "    print(estimator[0])\n",
    "    print(f'{mean_squared_error(ypred, ytest,squared = False):0.3f}')\n",
    "    print(f'{r2_score(ypred, ytest):0.3f}')"
   ]
  },
  {
   "cell_type": "markdown",
   "id": "3063183e",
   "metadata": {},
   "source": [
    "The linear regression model is found to have smallest mean squared error and also high r2 coeffcient. We can attempt to fine tune the linear regression model in order to find a better estimate"
   ]
  },
  {
   "cell_type": "code",
   "execution_count": 226,
   "id": "1772c098",
   "metadata": {},
   "outputs": [
    {
     "name": "stdout",
     "output_type": "stream",
     "text": [
      "94083.879\n",
      "0.011\n"
     ]
    }
   ],
   "source": [
    "# using LassoCV to find better parameters for the Linear Regression\n",
    "from sklearn.linear_model import LassoCV\n",
    "lcv = LassoCV()\n",
    "lcv.fit(xtrain, ytrain)\n",
    "ypred2 = lcv.predict(xtest)\n",
    "print(f'{mean_squared_error(ypred2, ytest, squared = False):0.3f}')\n",
    "print(f'{r2_score(ytest, ypred2):0.3f}')"
   ]
  },
  {
   "cell_type": "code",
   "execution_count": 227,
   "id": "998909ec",
   "metadata": {},
   "outputs": [
    {
     "name": "stdout",
     "output_type": "stream",
     "text": [
      "94278.494\n",
      "0.007\n"
     ]
    }
   ],
   "source": [
    "# Using Elastic Net regularization\n",
    "from sklearn.linear_model import ElasticNetCV\n",
    "ecv = ElasticNetCV()\n",
    "ecv.fit(xtrain, ytrain)\n",
    "ypred3 = ecv.predict(xtest)\n",
    "print(f'{mean_squared_error(ytest, ypred3, squared = False):0.3f}')\n",
    "print(f'{r2_score(ytest, ypred3):0.3f}')"
   ]
  },
  {
   "cell_type": "code",
   "execution_count": 228,
   "id": "5f780b56",
   "metadata": {},
   "outputs": [
    {
     "name": "stdout",
     "output_type": "stream",
     "text": [
      "94084.524\n",
      "0.011\n"
     ]
    }
   ],
   "source": [
    "# Using L2 regularization\n",
    "from sklearn.linear_model import RidgeCV\n",
    "rcv = RidgeCV()\n",
    "rcv.fit(xtrain, ytrain)\n",
    "ypred4 = rcv.predict(xtest)\n",
    "print(f'{mean_squared_error(ytest, ypred4, squared = False):0.3f}')\n",
    "print(f'{r2_score(ytest, ypred4):0.3f}')"
   ]
  },
  {
   "cell_type": "markdown",
   "id": "a86ac8a1",
   "metadata": {},
   "source": [
    "<font color = green>\n",
    "The linear regression regularized using the RidgeCV gives the lowest error and highest R2 score even compared to other Regression models. Hence it will be selected\n",
    "</font>"
   ]
  },
  {
   "cell_type": "code",
   "execution_count": 229,
   "id": "f824b08b",
   "metadata": {},
   "outputs": [
    {
     "data": {
      "text/plain": [
       "['L2_regularized_linear_model.pkl']"
      ]
     },
     "execution_count": 229,
     "metadata": {},
     "output_type": "execute_result"
    }
   ],
   "source": [
    "# saving the model\n",
    "import joblib\n",
    "joblib.dump(rcv, 'L2_regularized_linear_model.pkl')"
   ]
  },
  {
   "cell_type": "code",
   "execution_count": null,
   "id": "71ae1adb",
   "metadata": {},
   "outputs": [],
   "source": []
  },
  {
   "cell_type": "code",
   "execution_count": null,
   "id": "fab9a561",
   "metadata": {},
   "outputs": [],
   "source": []
  }
 ],
 "metadata": {
  "kernelspec": {
   "display_name": "Python 3 (ipykernel)",
   "language": "python",
   "name": "python3"
  },
  "language_info": {
   "codemirror_mode": {
    "name": "ipython",
    "version": 3
   },
   "file_extension": ".py",
   "mimetype": "text/x-python",
   "name": "python",
   "nbconvert_exporter": "python",
   "pygments_lexer": "ipython3",
   "version": "3.9.10"
  }
 },
 "nbformat": 4,
 "nbformat_minor": 5
}
