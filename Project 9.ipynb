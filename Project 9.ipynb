{
 "cells": [
  {
   "cell_type": "markdown",
   "id": "2f4a9b8d",
   "metadata": {},
   "source": [
    "Rainfall Prediction - Weather Forecasting\n",
    "Problem Statement:\n",
    "\n",
    "Rain Prediction –Weather forecasting\n",
    "\n",
    "Weather forecasting is the application of science and technology to predict the conditions of the atmosphere for a given location and time. Weather forecasts are made by collecting quantitative data about the current state of the atmosphere at a given place and using meteorology to project how the atmosphere will change.\n",
    "Rain Dataset is to predict whether or not it will rain tomorrow. The Dataset contains about 10 years of daily weather observations of different locations in Australia. Here, predict two things:\n",
    " \n",
    "1. Problem Statement: \n",
    "\n",
    "a) Design a predictive model with the use of machine learning algorithms to forecast whether or not it will rain tomorrow.\n",
    "\n",
    "b)  Design a predictive model with the use of machine learning algorithms to predict how much rainfall could be there.\n",
    "\n",
    "Dataset Description:\n",
    "\n",
    "Number of columns: 23\n",
    "\n",
    "Date  - The date of observation\n",
    "\n",
    "Location  -The common name of the location of the weather station\n",
    "\n",
    "MinTemp  -The minimum temperature in degrees celsius\n",
    "\n",
    "MaxTemp -The maximum temperature in degrees celsius\n",
    "\n",
    "Rainfall  -The amount of rainfall recorded for the day in mm\n",
    "\n",
    "Evaporation  -The so-called Class A pan evaporation (mm) in the 24 hours to 9am\n",
    "\n",
    "Sunshine  -The number of hours of bright sunshine in the day.\n",
    "\n",
    "WindGustDi r- The direction of the strongest wind gust in the 24 hours to midnight\n",
    "\n",
    "WindGustSpeed -The speed (km/h) of the strongest wind gust in the 24 hours to midnight\n",
    "\n",
    "WindDir9am -Direction of the wind at 9am\n",
    "\n",
    "WindDir3pm -Direction of the wind at 3pm\n",
    "\n",
    "WindSpeed9am -Wind speed (km/hr) averaged over 10 minutes prior to 9am\n",
    "\n",
    "WindSpeed3pm -Wind speed (km/hr) averaged over 10 minutes prior to 3pm\n",
    "\n",
    "Humidity9am -Humidity (percent) at 9am\n",
    "\n",
    "Humidity3pm -Humidity (percent) at 3pm\n",
    "\n",
    "Pressure9am -Atmospheric pressure (hpa) reduced to mean sea level at 9am\n",
    "\n",
    "Pressure3pm -Atmospheric pressure (hpa) reduced to mean sea level at 3pm\n",
    "\n",
    "Cloud9am - Fraction of sky obscured by cloud at 9am. \n",
    "\n",
    "Cloud3pm -Fraction of sky obscured by cloud \n",
    "\n",
    "Temp9am-Temperature (degrees C) at 9am\n",
    "\n",
    "Temp3pm -Temperature (degrees C) at 3pm\n",
    "\n",
    "RainToday -Boolean: 1 if precipitation (mm) in the 24 hours to 9am exceeds 1mm, otherwise 0\n",
    "\n",
    "RainTomorrow -The amount of next day rain in mm. Used to create response variable . A kind of measure of the \"risk\".\n",
    "\n",
    "Dataset available below"
   ]
  },
  {
   "cell_type": "code",
   "execution_count": 2,
   "id": "76477c0c",
   "metadata": {},
   "outputs": [],
   "source": [
    "# 1. Import the libraries\n",
    "# basics\n",
    "import pandas as pd\n",
    "import numpy as np\n",
    "import matplotlib.pyplot as plt\n",
    "import seaborn as sns\n",
    "\n",
    "# statistical libraries\n",
    "import phik\n",
    "from scipy.stats import pearsonr\n",
    "from scipy.stats import zscore\n",
    "\n",
    "# feature engineering\n",
    "from sklearn.model_selection import train_test_split\n",
    "from sklearn.preprocessing import StandardScaler\n",
    "from sklearn.preprocessing import PowerTransformer\n",
    "\n",
    "from sklearn.linear_model import LinearRegression, LogisticRegression\n",
    "from sklearn.tree import DecisionTreeRegressor, DecisionTreeClassifier\n",
    "from sklearn.neighbors import KNeighborsRegressor, KNeighborsClassifier\n",
    "from sklearn.ensemble import RandomForestClassifier\n",
    "\n",
    "# metrics \n",
    "from sklearn.metrics import mean_squared_error, r2_score\n",
    "from sklearn.metrics import confusion_matrix, f1_score, roc_auc_score, classification_report\n",
    "\n",
    "# Hyperparameter tuning\n",
    "from sklearn.model_selection import GridSearchCV\n",
    "\n",
    "# suppress warnings\n",
    "import warnings\n",
    "warnings.filterwarnings('ignore')"
   ]
  },
  {
   "cell_type": "code",
   "execution_count": 368,
   "id": "369de6c1",
   "metadata": {},
   "outputs": [],
   "source": [
    "df = pd.read_csv('https://raw.githubusercontent.com/dsrscientist/dataset3/main/weatherAUS.csv')"
   ]
  },
  {
   "cell_type": "code",
   "execution_count": 369,
   "id": "38d5ea06",
   "metadata": {},
   "outputs": [
    {
     "data": {
      "text/html": [
       "<div>\n",
       "<style scoped>\n",
       "    .dataframe tbody tr th:only-of-type {\n",
       "        vertical-align: middle;\n",
       "    }\n",
       "\n",
       "    .dataframe tbody tr th {\n",
       "        vertical-align: top;\n",
       "    }\n",
       "\n",
       "    .dataframe thead th {\n",
       "        text-align: right;\n",
       "    }\n",
       "</style>\n",
       "<table border=\"1\" class=\"dataframe\">\n",
       "  <thead>\n",
       "    <tr style=\"text-align: right;\">\n",
       "      <th></th>\n",
       "      <th>Date</th>\n",
       "      <th>Location</th>\n",
       "      <th>MinTemp</th>\n",
       "      <th>MaxTemp</th>\n",
       "      <th>Rainfall</th>\n",
       "      <th>Evaporation</th>\n",
       "      <th>Sunshine</th>\n",
       "      <th>WindGustDir</th>\n",
       "      <th>WindGustSpeed</th>\n",
       "      <th>WindDir9am</th>\n",
       "      <th>...</th>\n",
       "      <th>Humidity9am</th>\n",
       "      <th>Humidity3pm</th>\n",
       "      <th>Pressure9am</th>\n",
       "      <th>Pressure3pm</th>\n",
       "      <th>Cloud9am</th>\n",
       "      <th>Cloud3pm</th>\n",
       "      <th>Temp9am</th>\n",
       "      <th>Temp3pm</th>\n",
       "      <th>RainToday</th>\n",
       "      <th>RainTomorrow</th>\n",
       "    </tr>\n",
       "  </thead>\n",
       "  <tbody>\n",
       "    <tr>\n",
       "      <th>0</th>\n",
       "      <td>2008-12-01</td>\n",
       "      <td>Albury</td>\n",
       "      <td>13.4</td>\n",
       "      <td>22.9</td>\n",
       "      <td>0.6</td>\n",
       "      <td>NaN</td>\n",
       "      <td>NaN</td>\n",
       "      <td>W</td>\n",
       "      <td>44.0</td>\n",
       "      <td>W</td>\n",
       "      <td>...</td>\n",
       "      <td>71.0</td>\n",
       "      <td>22.0</td>\n",
       "      <td>1007.7</td>\n",
       "      <td>1007.1</td>\n",
       "      <td>8.0</td>\n",
       "      <td>NaN</td>\n",
       "      <td>16.9</td>\n",
       "      <td>21.8</td>\n",
       "      <td>No</td>\n",
       "      <td>No</td>\n",
       "    </tr>\n",
       "    <tr>\n",
       "      <th>1</th>\n",
       "      <td>2008-12-02</td>\n",
       "      <td>Albury</td>\n",
       "      <td>7.4</td>\n",
       "      <td>25.1</td>\n",
       "      <td>0.0</td>\n",
       "      <td>NaN</td>\n",
       "      <td>NaN</td>\n",
       "      <td>WNW</td>\n",
       "      <td>44.0</td>\n",
       "      <td>NNW</td>\n",
       "      <td>...</td>\n",
       "      <td>44.0</td>\n",
       "      <td>25.0</td>\n",
       "      <td>1010.6</td>\n",
       "      <td>1007.8</td>\n",
       "      <td>NaN</td>\n",
       "      <td>NaN</td>\n",
       "      <td>17.2</td>\n",
       "      <td>24.3</td>\n",
       "      <td>No</td>\n",
       "      <td>No</td>\n",
       "    </tr>\n",
       "    <tr>\n",
       "      <th>2</th>\n",
       "      <td>2008-12-03</td>\n",
       "      <td>Albury</td>\n",
       "      <td>12.9</td>\n",
       "      <td>25.7</td>\n",
       "      <td>0.0</td>\n",
       "      <td>NaN</td>\n",
       "      <td>NaN</td>\n",
       "      <td>WSW</td>\n",
       "      <td>46.0</td>\n",
       "      <td>W</td>\n",
       "      <td>...</td>\n",
       "      <td>38.0</td>\n",
       "      <td>30.0</td>\n",
       "      <td>1007.6</td>\n",
       "      <td>1008.7</td>\n",
       "      <td>NaN</td>\n",
       "      <td>2.0</td>\n",
       "      <td>21.0</td>\n",
       "      <td>23.2</td>\n",
       "      <td>No</td>\n",
       "      <td>No</td>\n",
       "    </tr>\n",
       "    <tr>\n",
       "      <th>3</th>\n",
       "      <td>2008-12-04</td>\n",
       "      <td>Albury</td>\n",
       "      <td>9.2</td>\n",
       "      <td>28.0</td>\n",
       "      <td>0.0</td>\n",
       "      <td>NaN</td>\n",
       "      <td>NaN</td>\n",
       "      <td>NE</td>\n",
       "      <td>24.0</td>\n",
       "      <td>SE</td>\n",
       "      <td>...</td>\n",
       "      <td>45.0</td>\n",
       "      <td>16.0</td>\n",
       "      <td>1017.6</td>\n",
       "      <td>1012.8</td>\n",
       "      <td>NaN</td>\n",
       "      <td>NaN</td>\n",
       "      <td>18.1</td>\n",
       "      <td>26.5</td>\n",
       "      <td>No</td>\n",
       "      <td>No</td>\n",
       "    </tr>\n",
       "    <tr>\n",
       "      <th>4</th>\n",
       "      <td>2008-12-05</td>\n",
       "      <td>Albury</td>\n",
       "      <td>17.5</td>\n",
       "      <td>32.3</td>\n",
       "      <td>1.0</td>\n",
       "      <td>NaN</td>\n",
       "      <td>NaN</td>\n",
       "      <td>W</td>\n",
       "      <td>41.0</td>\n",
       "      <td>ENE</td>\n",
       "      <td>...</td>\n",
       "      <td>82.0</td>\n",
       "      <td>33.0</td>\n",
       "      <td>1010.8</td>\n",
       "      <td>1006.0</td>\n",
       "      <td>7.0</td>\n",
       "      <td>8.0</td>\n",
       "      <td>17.8</td>\n",
       "      <td>29.7</td>\n",
       "      <td>No</td>\n",
       "      <td>No</td>\n",
       "    </tr>\n",
       "  </tbody>\n",
       "</table>\n",
       "<p>5 rows × 23 columns</p>\n",
       "</div>"
      ],
      "text/plain": [
       "         Date Location  MinTemp  MaxTemp  Rainfall  Evaporation  Sunshine  \\\n",
       "0  2008-12-01   Albury     13.4     22.9       0.6          NaN       NaN   \n",
       "1  2008-12-02   Albury      7.4     25.1       0.0          NaN       NaN   \n",
       "2  2008-12-03   Albury     12.9     25.7       0.0          NaN       NaN   \n",
       "3  2008-12-04   Albury      9.2     28.0       0.0          NaN       NaN   \n",
       "4  2008-12-05   Albury     17.5     32.3       1.0          NaN       NaN   \n",
       "\n",
       "  WindGustDir  WindGustSpeed WindDir9am  ... Humidity9am  Humidity3pm  \\\n",
       "0           W           44.0          W  ...        71.0         22.0   \n",
       "1         WNW           44.0        NNW  ...        44.0         25.0   \n",
       "2         WSW           46.0          W  ...        38.0         30.0   \n",
       "3          NE           24.0         SE  ...        45.0         16.0   \n",
       "4           W           41.0        ENE  ...        82.0         33.0   \n",
       "\n",
       "   Pressure9am  Pressure3pm  Cloud9am  Cloud3pm  Temp9am  Temp3pm  RainToday  \\\n",
       "0       1007.7       1007.1       8.0       NaN     16.9     21.8         No   \n",
       "1       1010.6       1007.8       NaN       NaN     17.2     24.3         No   \n",
       "2       1007.6       1008.7       NaN       2.0     21.0     23.2         No   \n",
       "3       1017.6       1012.8       NaN       NaN     18.1     26.5         No   \n",
       "4       1010.8       1006.0       7.0       8.0     17.8     29.7         No   \n",
       "\n",
       "   RainTomorrow  \n",
       "0            No  \n",
       "1            No  \n",
       "2            No  \n",
       "3            No  \n",
       "4            No  \n",
       "\n",
       "[5 rows x 23 columns]"
      ]
     },
     "execution_count": 369,
     "metadata": {},
     "output_type": "execute_result"
    }
   ],
   "source": [
    "df.head()"
   ]
  },
  {
   "cell_type": "code",
   "execution_count": 370,
   "id": "dc3fa2a9",
   "metadata": {},
   "outputs": [
    {
     "data": {
      "text/plain": [
       "Date              0.000000\n",
       "Location          0.000000\n",
       "MinTemp           0.890208\n",
       "MaxTemp           0.712166\n",
       "Rainfall          2.848665\n",
       "Evaporation      41.685460\n",
       "Sunshine         47.406528\n",
       "WindGustDir      11.762611\n",
       "WindGustSpeed    11.762611\n",
       "WindDir9am        9.839763\n",
       "WindDir3pm        3.655786\n",
       "WindSpeed9am      0.902077\n",
       "WindSpeed3pm      1.270030\n",
       "Humidity9am       0.700297\n",
       "Humidity3pm       1.210682\n",
       "Pressure9am      15.537092\n",
       "Pressure3pm      15.572700\n",
       "Cloud9am         28.735905\n",
       "Cloud3pm         29.139466\n",
       "Temp9am           0.664688\n",
       "Temp3pm           1.139466\n",
       "RainToday         2.848665\n",
       "RainTomorrow      2.836795\n",
       "dtype: float64"
      ]
     },
     "execution_count": 370,
     "metadata": {},
     "output_type": "execute_result"
    }
   ],
   "source": [
    "df.isnull().sum()/len(df) * 100"
   ]
  },
  {
   "cell_type": "code",
   "execution_count": 371,
   "id": "fe2a729e",
   "metadata": {},
   "outputs": [],
   "source": [
    "# There are quite a few columns with missing values and hence we drop them\n",
    "drop_col = []\n",
    "\n",
    "for col in df.columns:\n",
    "    if(df[col].isnull().sum()/len(df)*100 > 10):\n",
    "        drop_col.append(col)"
   ]
  },
  {
   "cell_type": "code",
   "execution_count": 372,
   "id": "5143b58b",
   "metadata": {},
   "outputs": [
    {
     "data": {
      "text/plain": [
       "['Evaporation',\n",
       " 'Sunshine',\n",
       " 'WindGustDir',\n",
       " 'WindGustSpeed',\n",
       " 'Pressure9am',\n",
       " 'Pressure3pm',\n",
       " 'Cloud9am',\n",
       " 'Cloud3pm']"
      ]
     },
     "execution_count": 372,
     "metadata": {},
     "output_type": "execute_result"
    }
   ],
   "source": [
    "drop_col"
   ]
  },
  {
   "cell_type": "code",
   "execution_count": 373,
   "id": "4dc9c376",
   "metadata": {},
   "outputs": [],
   "source": [
    "# dropping the columns in drop_col\n",
    "df.drop(columns = drop_col, inplace = True)"
   ]
  },
  {
   "cell_type": "code",
   "execution_count": 374,
   "id": "6c29a548",
   "metadata": {},
   "outputs": [
    {
     "data": {
      "text/plain": [
       "Date            0.000000\n",
       "Location        0.000000\n",
       "MinTemp         0.890208\n",
       "MaxTemp         0.712166\n",
       "Rainfall        2.848665\n",
       "WindDir9am      9.839763\n",
       "WindDir3pm      3.655786\n",
       "WindSpeed9am    0.902077\n",
       "WindSpeed3pm    1.270030\n",
       "Humidity9am     0.700297\n",
       "Humidity3pm     1.210682\n",
       "Temp9am         0.664688\n",
       "Temp3pm         1.139466\n",
       "RainToday       2.848665\n",
       "RainTomorrow    2.836795\n",
       "dtype: float64"
      ]
     },
     "execution_count": 374,
     "metadata": {},
     "output_type": "execute_result"
    }
   ],
   "source": [
    "df.isnull().sum()/len(df)*100"
   ]
  },
  {
   "cell_type": "code",
   "execution_count": 375,
   "id": "f7b10d54",
   "metadata": {},
   "outputs": [],
   "source": [
    "# collecting all the numeric continuous data\n",
    "from pandas.api.types import is_numeric_dtype"
   ]
  },
  {
   "cell_type": "code",
   "execution_count": 376,
   "id": "14ad7431",
   "metadata": {},
   "outputs": [],
   "source": [
    "numeric_col = [col for col in df.columns if is_numeric_dtype(df[col])]"
   ]
  },
  {
   "cell_type": "code",
   "execution_count": 377,
   "id": "6ee32176",
   "metadata": {},
   "outputs": [
    {
     "data": {
      "text/html": [
       "<div>\n",
       "<style scoped>\n",
       "    .dataframe tbody tr th:only-of-type {\n",
       "        vertical-align: middle;\n",
       "    }\n",
       "\n",
       "    .dataframe tbody tr th {\n",
       "        vertical-align: top;\n",
       "    }\n",
       "\n",
       "    .dataframe thead th {\n",
       "        text-align: right;\n",
       "    }\n",
       "</style>\n",
       "<table border=\"1\" class=\"dataframe\">\n",
       "  <thead>\n",
       "    <tr style=\"text-align: right;\">\n",
       "      <th></th>\n",
       "      <th>MinTemp</th>\n",
       "      <th>MaxTemp</th>\n",
       "      <th>Rainfall</th>\n",
       "      <th>WindSpeed9am</th>\n",
       "      <th>WindSpeed3pm</th>\n",
       "      <th>Humidity9am</th>\n",
       "      <th>Humidity3pm</th>\n",
       "      <th>Temp9am</th>\n",
       "      <th>Temp3pm</th>\n",
       "    </tr>\n",
       "  </thead>\n",
       "  <tbody>\n",
       "    <tr>\n",
       "      <th>0</th>\n",
       "      <td>13.4</td>\n",
       "      <td>22.9</td>\n",
       "      <td>0.6</td>\n",
       "      <td>20.0</td>\n",
       "      <td>24.0</td>\n",
       "      <td>71.0</td>\n",
       "      <td>22.0</td>\n",
       "      <td>16.9</td>\n",
       "      <td>21.8</td>\n",
       "    </tr>\n",
       "    <tr>\n",
       "      <th>1</th>\n",
       "      <td>7.4</td>\n",
       "      <td>25.1</td>\n",
       "      <td>0.0</td>\n",
       "      <td>4.0</td>\n",
       "      <td>22.0</td>\n",
       "      <td>44.0</td>\n",
       "      <td>25.0</td>\n",
       "      <td>17.2</td>\n",
       "      <td>24.3</td>\n",
       "    </tr>\n",
       "    <tr>\n",
       "      <th>2</th>\n",
       "      <td>12.9</td>\n",
       "      <td>25.7</td>\n",
       "      <td>0.0</td>\n",
       "      <td>19.0</td>\n",
       "      <td>26.0</td>\n",
       "      <td>38.0</td>\n",
       "      <td>30.0</td>\n",
       "      <td>21.0</td>\n",
       "      <td>23.2</td>\n",
       "    </tr>\n",
       "    <tr>\n",
       "      <th>3</th>\n",
       "      <td>9.2</td>\n",
       "      <td>28.0</td>\n",
       "      <td>0.0</td>\n",
       "      <td>11.0</td>\n",
       "      <td>9.0</td>\n",
       "      <td>45.0</td>\n",
       "      <td>16.0</td>\n",
       "      <td>18.1</td>\n",
       "      <td>26.5</td>\n",
       "    </tr>\n",
       "    <tr>\n",
       "      <th>4</th>\n",
       "      <td>17.5</td>\n",
       "      <td>32.3</td>\n",
       "      <td>1.0</td>\n",
       "      <td>7.0</td>\n",
       "      <td>20.0</td>\n",
       "      <td>82.0</td>\n",
       "      <td>33.0</td>\n",
       "      <td>17.8</td>\n",
       "      <td>29.7</td>\n",
       "    </tr>\n",
       "    <tr>\n",
       "      <th>...</th>\n",
       "      <td>...</td>\n",
       "      <td>...</td>\n",
       "      <td>...</td>\n",
       "      <td>...</td>\n",
       "      <td>...</td>\n",
       "      <td>...</td>\n",
       "      <td>...</td>\n",
       "      <td>...</td>\n",
       "      <td>...</td>\n",
       "    </tr>\n",
       "    <tr>\n",
       "      <th>8420</th>\n",
       "      <td>2.8</td>\n",
       "      <td>23.4</td>\n",
       "      <td>0.0</td>\n",
       "      <td>13.0</td>\n",
       "      <td>11.0</td>\n",
       "      <td>51.0</td>\n",
       "      <td>24.0</td>\n",
       "      <td>10.1</td>\n",
       "      <td>22.4</td>\n",
       "    </tr>\n",
       "    <tr>\n",
       "      <th>8421</th>\n",
       "      <td>3.6</td>\n",
       "      <td>25.3</td>\n",
       "      <td>0.0</td>\n",
       "      <td>13.0</td>\n",
       "      <td>9.0</td>\n",
       "      <td>56.0</td>\n",
       "      <td>21.0</td>\n",
       "      <td>10.9</td>\n",
       "      <td>24.5</td>\n",
       "    </tr>\n",
       "    <tr>\n",
       "      <th>8422</th>\n",
       "      <td>5.4</td>\n",
       "      <td>26.9</td>\n",
       "      <td>0.0</td>\n",
       "      <td>9.0</td>\n",
       "      <td>9.0</td>\n",
       "      <td>53.0</td>\n",
       "      <td>24.0</td>\n",
       "      <td>12.5</td>\n",
       "      <td>26.1</td>\n",
       "    </tr>\n",
       "    <tr>\n",
       "      <th>8423</th>\n",
       "      <td>7.8</td>\n",
       "      <td>27.0</td>\n",
       "      <td>0.0</td>\n",
       "      <td>13.0</td>\n",
       "      <td>7.0</td>\n",
       "      <td>51.0</td>\n",
       "      <td>24.0</td>\n",
       "      <td>15.1</td>\n",
       "      <td>26.0</td>\n",
       "    </tr>\n",
       "    <tr>\n",
       "      <th>8424</th>\n",
       "      <td>14.9</td>\n",
       "      <td>NaN</td>\n",
       "      <td>0.0</td>\n",
       "      <td>17.0</td>\n",
       "      <td>17.0</td>\n",
       "      <td>62.0</td>\n",
       "      <td>36.0</td>\n",
       "      <td>15.0</td>\n",
       "      <td>20.9</td>\n",
       "    </tr>\n",
       "  </tbody>\n",
       "</table>\n",
       "<p>8425 rows × 9 columns</p>\n",
       "</div>"
      ],
      "text/plain": [
       "      MinTemp  MaxTemp  Rainfall  WindSpeed9am  WindSpeed3pm  Humidity9am  \\\n",
       "0        13.4     22.9       0.6          20.0          24.0         71.0   \n",
       "1         7.4     25.1       0.0           4.0          22.0         44.0   \n",
       "2        12.9     25.7       0.0          19.0          26.0         38.0   \n",
       "3         9.2     28.0       0.0          11.0           9.0         45.0   \n",
       "4        17.5     32.3       1.0           7.0          20.0         82.0   \n",
       "...       ...      ...       ...           ...           ...          ...   \n",
       "8420      2.8     23.4       0.0          13.0          11.0         51.0   \n",
       "8421      3.6     25.3       0.0          13.0           9.0         56.0   \n",
       "8422      5.4     26.9       0.0           9.0           9.0         53.0   \n",
       "8423      7.8     27.0       0.0          13.0           7.0         51.0   \n",
       "8424     14.9      NaN       0.0          17.0          17.0         62.0   \n",
       "\n",
       "      Humidity3pm  Temp9am  Temp3pm  \n",
       "0            22.0     16.9     21.8  \n",
       "1            25.0     17.2     24.3  \n",
       "2            30.0     21.0     23.2  \n",
       "3            16.0     18.1     26.5  \n",
       "4            33.0     17.8     29.7  \n",
       "...           ...      ...      ...  \n",
       "8420         24.0     10.1     22.4  \n",
       "8421         21.0     10.9     24.5  \n",
       "8422         24.0     12.5     26.1  \n",
       "8423         24.0     15.1     26.0  \n",
       "8424         36.0     15.0     20.9  \n",
       "\n",
       "[8425 rows x 9 columns]"
      ]
     },
     "execution_count": 377,
     "metadata": {},
     "output_type": "execute_result"
    }
   ],
   "source": [
    "df[numeric_col]"
   ]
  },
  {
   "cell_type": "code",
   "execution_count": 378,
   "id": "231513f2",
   "metadata": {},
   "outputs": [],
   "source": [
    "# We can use the statitical quantities to impute the missing values\n",
    "from sklearn.impute import SimpleImputer"
   ]
  },
  {
   "cell_type": "code",
   "execution_count": 379,
   "id": "ef9378d5",
   "metadata": {},
   "outputs": [],
   "source": [
    "si = SimpleImputer( strategy = 'median')"
   ]
  },
  {
   "cell_type": "code",
   "execution_count": 380,
   "id": "69e0262e",
   "metadata": {},
   "outputs": [],
   "source": [
    "for i in range(len(numeric_col)):\n",
    "    df.loc[:,numeric_col[i]] = (si.fit_transform(df[numeric_col[i]].values.reshape(-1,1)))"
   ]
  },
  {
   "cell_type": "code",
   "execution_count": 381,
   "id": "b1fb1ae1",
   "metadata": {},
   "outputs": [
    {
     "data": {
      "text/plain": [
       "Date              0\n",
       "Location          0\n",
       "MinTemp           0\n",
       "MaxTemp           0\n",
       "Rainfall          0\n",
       "WindDir9am      829\n",
       "WindDir3pm      308\n",
       "WindSpeed9am      0\n",
       "WindSpeed3pm      0\n",
       "Humidity9am       0\n",
       "Humidity3pm       0\n",
       "Temp9am           0\n",
       "Temp3pm           0\n",
       "RainToday       240\n",
       "RainTomorrow    239\n",
       "dtype: int64"
      ]
     },
     "execution_count": 381,
     "metadata": {},
     "output_type": "execute_result"
    }
   ],
   "source": [
    "df.isnull().sum()"
   ]
  },
  {
   "cell_type": "code",
   "execution_count": 382,
   "id": "859d35a2",
   "metadata": {},
   "outputs": [],
   "source": [
    "# The missing values in the numeric columns have been filled\n",
    "# we check the distribution of the columns"
   ]
  },
  {
   "cell_type": "code",
   "execution_count": 383,
   "id": "61975ffe",
   "metadata": {},
   "outputs": [
    {
     "data": {
      "image/png": "[encoded data removed]",
      "text/plain": [
       "<Figure size 1800x1440 with 9 Axes>"
      ]
     },
     "metadata": {
      "needs_background": "light"
     },
     "output_type": "display_data"
    }
   ],
   "source": [
    "plt.figure(figsize = (25, 20))\n",
    "plotnumber = 1\n",
    "for col in numeric_col:\n",
    "    if (plotnumber < 10):\n",
    "        plt.subplot(3,3, plotnumber)\n",
    "        sns.histplot(df[col], kde = True, stat = 'density')\n",
    "        plt.xlabel(col, fontsize = 18)\n",
    "    plotnumber += 1\n",
    "plt.show()"
   ]
  },
  {
   "cell_type": "code",
   "execution_count": 384,
   "id": "8b3786b6",
   "metadata": {},
   "outputs": [],
   "source": [
    "# The distribution for all the numeric features is very well distributed, \n",
    "# however the feature 'Rainfall' seems to have an issue and hence we inspect "
   ]
  },
  {
   "cell_type": "code",
   "execution_count": 385,
   "id": "cfb72bcd",
   "metadata": {},
   "outputs": [
    {
     "name": "stdout",
     "output_type": "stream",
     "text": [
      "MinTemp                        :  3.383%\n",
      "MaxTemp                        :  3.929%\n",
      "Rainfall                       :  2.967%\n",
      "WindSpeed9am                   :  0.404%\n",
      "WindSpeed3pm                   :  0.415%\n",
      "Humidity9am                    :  1.068%\n",
      "Humidity3pm                    :  1.116%\n",
      "Temp9am                        :  3.608%\n",
      "Temp3pm                        :  3.893%\n"
     ]
    }
   ],
   "source": [
    "# Checking for the variance in the numeric features\n",
    "for col in numeric_col:\n",
    "    print(f\"{col:30s} :  {df[col].unique().shape[0]/len(df)*100:0.3f}%\")"
   ]
  },
  {
   "cell_type": "code",
   "execution_count": 386,
   "id": "bcd22b51",
   "metadata": {},
   "outputs": [
    {
     "data": {
      "text/html": [
       "<div>\n",
       "<style scoped>\n",
       "    .dataframe tbody tr th:only-of-type {\n",
       "        vertical-align: middle;\n",
       "    }\n",
       "\n",
       "    .dataframe tbody tr th {\n",
       "        vertical-align: top;\n",
       "    }\n",
       "\n",
       "    .dataframe thead th {\n",
       "        text-align: right;\n",
       "    }\n",
       "</style>\n",
       "<table border=\"1\" class=\"dataframe\">\n",
       "  <thead>\n",
       "    <tr style=\"text-align: right;\">\n",
       "      <th></th>\n",
       "      <th>MinTemp</th>\n",
       "      <th>MaxTemp</th>\n",
       "      <th>Rainfall</th>\n",
       "      <th>WindSpeed9am</th>\n",
       "      <th>WindSpeed3pm</th>\n",
       "      <th>Humidity9am</th>\n",
       "      <th>Humidity3pm</th>\n",
       "      <th>Temp9am</th>\n",
       "      <th>Temp3pm</th>\n",
       "    </tr>\n",
       "  </thead>\n",
       "  <tbody>\n",
       "    <tr>\n",
       "      <th>count</th>\n",
       "      <td>8425.0</td>\n",
       "      <td>8425.0</td>\n",
       "      <td>8425.0</td>\n",
       "      <td>8425.0</td>\n",
       "      <td>8425.0</td>\n",
       "      <td>8425.0</td>\n",
       "      <td>8425.0</td>\n",
       "      <td>8425.0</td>\n",
       "      <td>8425.0</td>\n",
       "    </tr>\n",
       "    <tr>\n",
       "      <th>mean</th>\n",
       "      <td>13.0</td>\n",
       "      <td>24.0</td>\n",
       "      <td>3.0</td>\n",
       "      <td>14.0</td>\n",
       "      <td>19.0</td>\n",
       "      <td>68.0</td>\n",
       "      <td>51.0</td>\n",
       "      <td>18.0</td>\n",
       "      <td>22.0</td>\n",
       "    </tr>\n",
       "    <tr>\n",
       "      <th>std</th>\n",
       "      <td>5.0</td>\n",
       "      <td>6.0</td>\n",
       "      <td>10.0</td>\n",
       "      <td>10.0</td>\n",
       "      <td>10.0</td>\n",
       "      <td>17.0</td>\n",
       "      <td>18.0</td>\n",
       "      <td>6.0</td>\n",
       "      <td>6.0</td>\n",
       "    </tr>\n",
       "    <tr>\n",
       "      <th>min</th>\n",
       "      <td>-2.0</td>\n",
       "      <td>8.0</td>\n",
       "      <td>0.0</td>\n",
       "      <td>0.0</td>\n",
       "      <td>0.0</td>\n",
       "      <td>10.0</td>\n",
       "      <td>6.0</td>\n",
       "      <td>2.0</td>\n",
       "      <td>7.0</td>\n",
       "    </tr>\n",
       "    <tr>\n",
       "      <th>25%</th>\n",
       "      <td>9.0</td>\n",
       "      <td>19.0</td>\n",
       "      <td>0.0</td>\n",
       "      <td>6.0</td>\n",
       "      <td>11.0</td>\n",
       "      <td>56.0</td>\n",
       "      <td>39.0</td>\n",
       "      <td>14.0</td>\n",
       "      <td>18.0</td>\n",
       "    </tr>\n",
       "    <tr>\n",
       "      <th>50%</th>\n",
       "      <td>13.0</td>\n",
       "      <td>23.0</td>\n",
       "      <td>0.0</td>\n",
       "      <td>13.0</td>\n",
       "      <td>19.0</td>\n",
       "      <td>68.0</td>\n",
       "      <td>51.0</td>\n",
       "      <td>18.0</td>\n",
       "      <td>22.0</td>\n",
       "    </tr>\n",
       "    <tr>\n",
       "      <th>75%</th>\n",
       "      <td>17.0</td>\n",
       "      <td>28.0</td>\n",
       "      <td>1.0</td>\n",
       "      <td>20.0</td>\n",
       "      <td>24.0</td>\n",
       "      <td>80.0</td>\n",
       "      <td>63.0</td>\n",
       "      <td>22.0</td>\n",
       "      <td>26.0</td>\n",
       "    </tr>\n",
       "    <tr>\n",
       "      <th>max</th>\n",
       "      <td>28.0</td>\n",
       "      <td>46.0</td>\n",
       "      <td>371.0</td>\n",
       "      <td>63.0</td>\n",
       "      <td>83.0</td>\n",
       "      <td>100.0</td>\n",
       "      <td>99.0</td>\n",
       "      <td>39.0</td>\n",
       "      <td>44.0</td>\n",
       "    </tr>\n",
       "  </tbody>\n",
       "</table>\n",
       "</div>"
      ],
      "text/plain": [
       "       MinTemp  MaxTemp  Rainfall  WindSpeed9am  WindSpeed3pm  Humidity9am  \\\n",
       "count   8425.0   8425.0    8425.0        8425.0        8425.0       8425.0   \n",
       "mean      13.0     24.0       3.0          14.0          19.0         68.0   \n",
       "std        5.0      6.0      10.0          10.0          10.0         17.0   \n",
       "min       -2.0      8.0       0.0           0.0           0.0         10.0   \n",
       "25%        9.0     19.0       0.0           6.0          11.0         56.0   \n",
       "50%       13.0     23.0       0.0          13.0          19.0         68.0   \n",
       "75%       17.0     28.0       1.0          20.0          24.0         80.0   \n",
       "max       28.0     46.0     371.0          63.0          83.0        100.0   \n",
       "\n",
       "       Humidity3pm  Temp9am  Temp3pm  \n",
       "count       8425.0   8425.0   8425.0  \n",
       "mean          51.0     18.0     22.0  \n",
       "std           18.0      6.0      6.0  \n",
       "min            6.0      2.0      7.0  \n",
       "25%           39.0     14.0     18.0  \n",
       "50%           51.0     18.0     22.0  \n",
       "75%           63.0     22.0     26.0  \n",
       "max           99.0     39.0     44.0  "
      ]
     },
     "execution_count": 386,
     "metadata": {},
     "output_type": "execute_result"
    }
   ],
   "source": [
    "# Checking the statistics for the numerical features\n",
    "df[numeric_col].describe().round()"
   ]
  },
  {
   "cell_type": "code",
   "execution_count": 387,
   "id": "f2c71934",
   "metadata": {},
   "outputs": [
    {
     "data": {
      "text/plain": [
       "<AxesSubplot:xlabel='Rainfall', ylabel='Density'>"
      ]
     },
     "execution_count": 387,
     "metadata": {},
     "output_type": "execute_result"
    },
    {
     "data": {
      "image/png": "[encoded data removed]",
      "text/plain": [
       "<Figure size 432x288 with 1 Axes>"
      ]
     },
     "metadata": {
      "needs_background": "light"
     },
     "output_type": "display_data"
    }
   ],
   "source": [
    "sns.histplot(np.log1p(df['Rainfall']), kde = True, stat = 'density')"
   ]
  },
  {
   "cell_type": "code",
   "execution_count": 388,
   "id": "889a362e",
   "metadata": {},
   "outputs": [
    {
     "data": {
      "text/plain": [
       "<AxesSubplot:xlabel='Rainfall'>"
      ]
     },
     "execution_count": 388,
     "metadata": {},
     "output_type": "execute_result"
    },
    {
     "data": {
      "image/png": "[encoded data removed]",
      "text/plain": [
       "<Figure size 432x288 with 1 Axes>"
      ]
     },
     "metadata": {
      "needs_background": "light"
     },
     "output_type": "display_data"
    }
   ],
   "source": [
    "sns.boxplot(df['Rainfall'], orient = 'h')"
   ]
  },
  {
   "cell_type": "code",
   "execution_count": 389,
   "id": "9093c693",
   "metadata": {},
   "outputs": [
    {
     "name": "stdout",
     "output_type": "stream",
     "text": [
      "%age of outlier data : 19.407%\n"
     ]
    }
   ],
   "source": [
    "# apparently there are quite a few outliers in the feature\n",
    "# checking the number of outliers in the feature\n",
    "\n",
    "q1 = df['Rainfall'].quantile(0.25)\n",
    "q3 = df['Rainfall'].quantile(0.75)\n",
    "iqr = q3 - q1\n",
    "hi = q3 + 1.5 * iqr\n",
    "\n",
    "print(f\"%age of outlier data : {np.where(df['Rainfall'] > hi)[0].shape[0]/len(df)*100:0.3f}%\")"
   ]
  },
  {
   "cell_type": "code",
   "execution_count": 390,
   "id": "f1ceaf5c",
   "metadata": {},
   "outputs": [
    {
     "name": "stdout",
     "output_type": "stream",
     "text": [
      "65.745\n"
     ]
    }
   ],
   "source": [
    "print(f\"{np.where(df['Rainfall'].values == 0)[0].shape[0]/len(df)*100:0.3f}\")"
   ]
  },
  {
   "cell_type": "code",
   "execution_count": 391,
   "id": "50fb171c",
   "metadata": {},
   "outputs": [],
   "source": [
    "# 65% of the feature Rainfall reports no rain. This feature would make more sense to be used\n",
    "# as a binary categorical feature"
   ]
  },
  {
   "cell_type": "code",
   "execution_count": 392,
   "id": "26bf8c1c",
   "metadata": {},
   "outputs": [],
   "source": [
    "indices = np.where(df['Rainfall'].values == 0)[0]"
   ]
  },
  {
   "cell_type": "code",
   "execution_count": 393,
   "id": "06157a16",
   "metadata": {},
   "outputs": [],
   "source": [
    "df.loc[~df.index.isin(indices), 'Rainfall'] = 1"
   ]
  },
  {
   "cell_type": "code",
   "execution_count": 394,
   "id": "7d17290f",
   "metadata": {},
   "outputs": [
    {
     "name": "stdout",
     "output_type": "stream",
     "text": [
      "<class 'pandas.core.frame.DataFrame'>\n",
      "RangeIndex: 8425 entries, 0 to 8424\n",
      "Data columns (total 15 columns):\n",
      " #   Column        Non-Null Count  Dtype  \n",
      "---  ------        --------------  -----  \n",
      " 0   Date          8425 non-null   object \n",
      " 1   Location      8425 non-null   object \n",
      " 2   MinTemp       8425 non-null   float64\n",
      " 3   MaxTemp       8425 non-null   float64\n",
      " 4   Rainfall      8425 non-null   float64\n",
      " 5   WindDir9am    7596 non-null   object \n",
      " 6   WindDir3pm    8117 non-null   object \n",
      " 7   WindSpeed9am  8425 non-null   float64\n",
      " 8   WindSpeed3pm  8425 non-null   float64\n",
      " 9   Humidity9am   8425 non-null   float64\n",
      " 10  Humidity3pm   8425 non-null   float64\n",
      " 11  Temp9am       8425 non-null   float64\n",
      " 12  Temp3pm       8425 non-null   float64\n",
      " 13  RainToday     8185 non-null   object \n",
      " 14  RainTomorrow  8186 non-null   object \n",
      "dtypes: float64(9), object(6)\n",
      "memory usage: 987.4+ KB\n"
     ]
    }
   ],
   "source": [
    "df.info()"
   ]
  },
  {
   "cell_type": "code",
   "execution_count": 395,
   "id": "92bc40e1",
   "metadata": {},
   "outputs": [],
   "source": [
    "# now we use the KNNImputer to remove the outliers in the categorical features\n",
    "categorical_col = []\n",
    "for col in df.columns:\n",
    "    if not is_numeric_dtype(df[col]):\n",
    "        categorical_col.append(col)"
   ]
  },
  {
   "cell_type": "code",
   "execution_count": 396,
   "id": "0f7b2b06",
   "metadata": {},
   "outputs": [],
   "source": [
    "from feature_engine.imputation import CategoricalImputer"
   ]
  },
  {
   "cell_type": "code",
   "execution_count": 397,
   "id": "49331a7b",
   "metadata": {},
   "outputs": [],
   "source": [
    "categorical_col = categorical_col[2:]"
   ]
  },
  {
   "cell_type": "code",
   "execution_count": 398,
   "id": "1d6bf669",
   "metadata": {},
   "outputs": [
    {
     "data": {
      "text/plain": [
       "WindDir9am      829\n",
       "WindDir3pm      308\n",
       "RainToday       240\n",
       "RainTomorrow    239\n",
       "dtype: int64"
      ]
     },
     "execution_count": 398,
     "metadata": {},
     "output_type": "execute_result"
    }
   ],
   "source": [
    "df[categorical_col].isnull().sum()"
   ]
  },
  {
   "cell_type": "code",
   "execution_count": 399,
   "id": "f593ea93",
   "metadata": {},
   "outputs": [],
   "source": [
    "df[categorical_col] = CategoricalImputer(imputation_method = 'frequent').fit_transform(df[categorical_col])"
   ]
  },
  {
   "cell_type": "code",
   "execution_count": 400,
   "id": "30e72a9d",
   "metadata": {},
   "outputs": [
    {
     "data": {
      "text/plain": [
       "Date            0\n",
       "Location        0\n",
       "MinTemp         0\n",
       "MaxTemp         0\n",
       "Rainfall        0\n",
       "WindDir9am      0\n",
       "WindDir3pm      0\n",
       "WindSpeed9am    0\n",
       "WindSpeed3pm    0\n",
       "Humidity9am     0\n",
       "Humidity3pm     0\n",
       "Temp9am         0\n",
       "Temp3pm         0\n",
       "RainToday       0\n",
       "RainTomorrow    0\n",
       "dtype: int64"
      ]
     },
     "execution_count": 400,
     "metadata": {},
     "output_type": "execute_result"
    }
   ],
   "source": [
    "df.isnull().sum()"
   ]
  },
  {
   "cell_type": "code",
   "execution_count": 358,
   "id": "9f36ddc4",
   "metadata": {},
   "outputs": [],
   "source": [
    "# all missing values have been removed"
   ]
  },
  {
   "cell_type": "code",
   "execution_count": 402,
   "id": "cc211c94",
   "metadata": {},
   "outputs": [],
   "source": [
    "# Checking to the see the correlation of the features with the target variable\n",
    "from pandas.api.types import is_numeric_dtype\n"
   ]
  },
  {
   "cell_type": "code",
   "execution_count": 403,
   "id": "28ebdb82",
   "metadata": {},
   "outputs": [],
   "source": [
    "# Encoding the categorical columns\n",
    "df['Date'] = pd.to_datetime(df['Date']).dt.year\n",
    "df['Date'] = df['Date'] - df['Date'].min()"
   ]
  },
  {
   "cell_type": "code",
   "execution_count": 404,
   "id": "718daf4b",
   "metadata": {},
   "outputs": [],
   "source": [
    "x = df.drop(columns = df.columns[-1])\n",
    "y = df[df.columns[-1]]"
   ]
  },
  {
   "cell_type": "code",
   "execution_count": 405,
   "id": "113c4487",
   "metadata": {},
   "outputs": [],
   "source": [
    "temp = pd.DataFrame()\n",
    "pvalue = []\n",
    "score = []\n",
    "feature = []\n",
    "\n",
    "for col in x.columns:\n",
    "    if is_numeric_dtype(x[col]):\n",
    "        feature.append(col)\n",
    "        score.append(phik.phik_from_array(x[col], y, [col]))\n",
    "        pvalue.append(phik.significance.significance_from_array(x[col], y, [col])[0])\n",
    "    else:\n",
    "        feature.append(col)\n",
    "        score.append(phik.phik_from_array(x[col], y))\n",
    "        pvalue.append(phik.significance.significance_from_array(x[col], y)[0])"
   ]
  },
  {
   "cell_type": "code",
   "execution_count": 406,
   "id": "348cbb4d",
   "metadata": {},
   "outputs": [],
   "source": [
    "temp['feature'] = feature\n",
    "temp['score'] = score\n",
    "temp['pvalue'] = pvalue"
   ]
  },
  {
   "cell_type": "code",
   "execution_count": 409,
   "id": "aa5f6c0e",
   "metadata": {},
   "outputs": [
    {
     "data": {
      "image/png": "[encoded data removed]",
      "text/plain": [
       "<Figure size 432x288 with 2 Axes>"
      ]
     },
     "metadata": {
      "needs_background": "light"
     },
     "output_type": "display_data"
    }
   ],
   "source": [
    "temp.set_index('feature', inplace = True)\n",
    "temp.sort_values('score', ascending = False).plot.bar(subplots = True)\n",
    "plt.show()"
   ]
  },
  {
   "cell_type": "code",
   "execution_count": 411,
   "id": "14894626",
   "metadata": {},
   "outputs": [
    {
     "data": {
      "text/html": [
       "<div>\n",
       "<style scoped>\n",
       "    .dataframe tbody tr th:only-of-type {\n",
       "        vertical-align: middle;\n",
       "    }\n",
       "\n",
       "    .dataframe tbody tr th {\n",
       "        vertical-align: top;\n",
       "    }\n",
       "\n",
       "    .dataframe thead th {\n",
       "        text-align: right;\n",
       "    }\n",
       "</style>\n",
       "<table border=\"1\" class=\"dataframe\">\n",
       "  <thead>\n",
       "    <tr style=\"text-align: right;\">\n",
       "      <th></th>\n",
       "      <th>score</th>\n",
       "      <th>pvalue</th>\n",
       "    </tr>\n",
       "    <tr>\n",
       "      <th>feature</th>\n",
       "      <th></th>\n",
       "      <th></th>\n",
       "    </tr>\n",
       "  </thead>\n",
       "  <tbody>\n",
       "    <tr>\n",
       "      <th>Humidity3pm</th>\n",
       "      <td>0.628368</td>\n",
       "      <td>0.000000e+00</td>\n",
       "    </tr>\n",
       "    <tr>\n",
       "      <th>RainToday</th>\n",
       "      <td>0.471299</td>\n",
       "      <td>5.655853e-165</td>\n",
       "    </tr>\n",
       "    <tr>\n",
       "      <th>Rainfall</th>\n",
       "      <td>0.447896</td>\n",
       "      <td>3.332137e-156</td>\n",
       "    </tr>\n",
       "    <tr>\n",
       "      <th>Humidity9am</th>\n",
       "      <td>0.371727</td>\n",
       "      <td>1.528872e-141</td>\n",
       "    </tr>\n",
       "    <tr>\n",
       "      <th>Temp3pm</th>\n",
       "      <td>0.263502</td>\n",
       "      <td>3.517024e-68</td>\n",
       "    </tr>\n",
       "    <tr>\n",
       "      <th>MaxTemp</th>\n",
       "      <td>0.200283</td>\n",
       "      <td>1.948716e-39</td>\n",
       "    </tr>\n",
       "    <tr>\n",
       "      <th>MinTemp</th>\n",
       "      <td>0.126218</td>\n",
       "      <td>9.104900e-16</td>\n",
       "    </tr>\n",
       "    <tr>\n",
       "      <th>WindDir9am</th>\n",
       "      <td>0.122983</td>\n",
       "      <td>2.388734e-14</td>\n",
       "    </tr>\n",
       "    <tr>\n",
       "      <th>WindDir3pm</th>\n",
       "      <td>0.110835</td>\n",
       "      <td>6.107992e-10</td>\n",
       "    </tr>\n",
       "    <tr>\n",
       "      <th>Location</th>\n",
       "      <td>0.097754</td>\n",
       "      <td>1.260959e-10</td>\n",
       "    </tr>\n",
       "    <tr>\n",
       "      <th>WindSpeed9am</th>\n",
       "      <td>0.094727</td>\n",
       "      <td>3.565864e-08</td>\n",
       "    </tr>\n",
       "    <tr>\n",
       "      <th>Date</th>\n",
       "      <td>0.088868</td>\n",
       "      <td>3.207770e-07</td>\n",
       "    </tr>\n",
       "    <tr>\n",
       "      <th>WindSpeed3pm</th>\n",
       "      <td>0.079335</td>\n",
       "      <td>1.021700e-09</td>\n",
       "    </tr>\n",
       "    <tr>\n",
       "      <th>Temp9am</th>\n",
       "      <td>0.060576</td>\n",
       "      <td>7.233303e-04</td>\n",
       "    </tr>\n",
       "  </tbody>\n",
       "</table>\n",
       "</div>"
      ],
      "text/plain": [
       "                 score         pvalue\n",
       "feature                              \n",
       "Humidity3pm   0.628368   0.000000e+00\n",
       "RainToday     0.471299  5.655853e-165\n",
       "Rainfall      0.447896  3.332137e-156\n",
       "Humidity9am   0.371727  1.528872e-141\n",
       "Temp3pm       0.263502   3.517024e-68\n",
       "MaxTemp       0.200283   1.948716e-39\n",
       "MinTemp       0.126218   9.104900e-16\n",
       "WindDir9am    0.122983   2.388734e-14\n",
       "WindDir3pm    0.110835   6.107992e-10\n",
       "Location      0.097754   1.260959e-10\n",
       "WindSpeed9am  0.094727   3.565864e-08\n",
       "Date          0.088868   3.207770e-07\n",
       "WindSpeed3pm  0.079335   1.021700e-09\n",
       "Temp9am       0.060576   7.233303e-04"
      ]
     },
     "execution_count": 411,
     "metadata": {},
     "output_type": "execute_result"
    }
   ],
   "source": [
    "temp.sort_values('score',ascending = False)"
   ]
  },
  {
   "cell_type": "code",
   "execution_count": 412,
   "id": "bf23f387",
   "metadata": {},
   "outputs": [],
   "source": [
    "# All the features show a good correlation with the target variable and hence they can be kept"
   ]
  },
  {
   "cell_type": "code",
   "execution_count": 417,
   "id": "d75a2308",
   "metadata": {},
   "outputs": [
    {
     "data": {
      "image/png": "[encoded data removed]",
      "text/plain": [
       "<Figure size 1800x1800 with 2 Axes>"
      ]
     },
     "metadata": {
      "needs_background": "light"
     },
     "output_type": "display_data"
    }
   ],
   "source": [
    "# we check to see for any correlation within the numerical features itself\n",
    "plt.figure(figsize = (25,25))\n",
    "sns.heatmap(df.corr(), annot = True)\n",
    "plt.show()"
   ]
  },
  {
   "cell_type": "code",
   "execution_count": 428,
   "id": "82126198",
   "metadata": {},
   "outputs": [],
   "source": [
    "# apparently there appears to be some correlation within some features and we investigate them with VIF\n",
    "from statsmodels.stats.outliers_influence import variance_inflation_factor as vif"
   ]
  },
  {
   "cell_type": "code",
   "execution_count": 447,
   "id": "24a456d8",
   "metadata": {},
   "outputs": [
    {
     "data": {
      "text/html": [
       "<div>\n",
       "<style scoped>\n",
       "    .dataframe tbody tr th:only-of-type {\n",
       "        vertical-align: middle;\n",
       "    }\n",
       "\n",
       "    .dataframe tbody tr th {\n",
       "        vertical-align: top;\n",
       "    }\n",
       "\n",
       "    .dataframe thead th {\n",
       "        text-align: right;\n",
       "    }\n",
       "</style>\n",
       "<table border=\"1\" class=\"dataframe\">\n",
       "  <thead>\n",
       "    <tr style=\"text-align: right;\">\n",
       "      <th></th>\n",
       "      <th>feature</th>\n",
       "      <th>Score</th>\n",
       "    </tr>\n",
       "  </thead>\n",
       "  <tbody>\n",
       "    <tr>\n",
       "      <th>8</th>\n",
       "      <td>Temp3pm</td>\n",
       "      <td>446.458331</td>\n",
       "    </tr>\n",
       "    <tr>\n",
       "      <th>1</th>\n",
       "      <td>MaxTemp</td>\n",
       "      <td>407.636562</td>\n",
       "    </tr>\n",
       "    <tr>\n",
       "      <th>7</th>\n",
       "      <td>Temp9am</td>\n",
       "      <td>176.552127</td>\n",
       "    </tr>\n",
       "    <tr>\n",
       "      <th>5</th>\n",
       "      <td>Humidity9am</td>\n",
       "      <td>56.944118</td>\n",
       "    </tr>\n",
       "    <tr>\n",
       "      <th>6</th>\n",
       "      <td>Humidity3pm</td>\n",
       "      <td>39.984346</td>\n",
       "    </tr>\n",
       "    <tr>\n",
       "      <th>0</th>\n",
       "      <td>MinTemp</td>\n",
       "      <td>37.589456</td>\n",
       "    </tr>\n",
       "    <tr>\n",
       "      <th>4</th>\n",
       "      <td>WindSpeed3pm</td>\n",
       "      <td>6.939518</td>\n",
       "    </tr>\n",
       "    <tr>\n",
       "      <th>3</th>\n",
       "      <td>WindSpeed9am</td>\n",
       "      <td>4.335112</td>\n",
       "    </tr>\n",
       "    <tr>\n",
       "      <th>2</th>\n",
       "      <td>Rainfall</td>\n",
       "      <td>2.046018</td>\n",
       "    </tr>\n",
       "  </tbody>\n",
       "</table>\n",
       "</div>"
      ],
      "text/plain": [
       "        feature       Score\n",
       "8       Temp3pm  446.458331\n",
       "1       MaxTemp  407.636562\n",
       "7       Temp9am  176.552127\n",
       "5   Humidity9am   56.944118\n",
       "6   Humidity3pm   39.984346\n",
       "0       MinTemp   37.589456\n",
       "4  WindSpeed3pm    6.939518\n",
       "3  WindSpeed9am    4.335112\n",
       "2      Rainfall    2.046018"
      ]
     },
     "execution_count": 447,
     "metadata": {},
     "output_type": "execute_result"
    }
   ],
   "source": [
    "temp = pd.DataFrame()\n",
    "df_num = df[numeric_col]\n",
    "temp['feature'] = numeric_col\n",
    "temp['Score'] = [vif(df_num , i) for i in range(len(df_num.columns))]\n",
    "temp.sort_values('Score', ascending = False)"
   ]
  },
  {
   "cell_type": "code",
   "execution_count": 448,
   "id": "3fb64ac7",
   "metadata": {},
   "outputs": [],
   "source": [
    "# Now we check for which features show a high correlation and remove the ones that do"
   ]
  },
  {
   "cell_type": "markdown",
   "id": "2cbbf72d",
   "metadata": {},
   "source": [
    "Now the feature Temp3pm shares a strong correlation with the Temp9am and the MaxTemp both of which have a lower correlation with the target variable. Hence we drop the latter two features"
   ]
  },
  {
   "cell_type": "code",
   "execution_count": 451,
   "id": "f367071a",
   "metadata": {},
   "outputs": [],
   "source": [
    "df.drop(columns = ['Temp9am', 'MaxTemp'], inplace = True)"
   ]
  },
  {
   "cell_type": "code",
   "execution_count": 453,
   "id": "0985888d",
   "metadata": {},
   "outputs": [],
   "source": [
    "from sklearn.preprocessing import LabelEncoder\n",
    "df['Location'] = LabelEncoder().fit_transform(df['Location'])"
   ]
  },
  {
   "cell_type": "code",
   "execution_count": 454,
   "id": "73ca80b6",
   "metadata": {},
   "outputs": [],
   "source": [
    "df['RainToday'] = pd.get_dummies(df['RainToday'], drop_first=  True)\n",
    "df['RainTomorrow'] = pd.get_dummies(df['RainTomorrow'], drop_first = True)"
   ]
  },
  {
   "cell_type": "code",
   "execution_count": 455,
   "id": "540e2a2f",
   "metadata": {},
   "outputs": [],
   "source": [
    "df['WindDir9am'] = LabelEncoder().fit_transform(df['WindDir9am'])\n",
    "df['WindDir3pm'] = LabelEncoder().fit_transform(df['WindDir3pm'])"
   ]
  },
  {
   "cell_type": "code",
   "execution_count": 456,
   "id": "feacd1bb",
   "metadata": {},
   "outputs": [
    {
     "data": {
      "text/html": [
       "<div>\n",
       "<style scoped>\n",
       "    .dataframe tbody tr th:only-of-type {\n",
       "        vertical-align: middle;\n",
       "    }\n",
       "\n",
       "    .dataframe tbody tr th {\n",
       "        vertical-align: top;\n",
       "    }\n",
       "\n",
       "    .dataframe thead th {\n",
       "        text-align: right;\n",
       "    }\n",
       "</style>\n",
       "<table border=\"1\" class=\"dataframe\">\n",
       "  <thead>\n",
       "    <tr style=\"text-align: right;\">\n",
       "      <th></th>\n",
       "      <th>Date</th>\n",
       "      <th>Location</th>\n",
       "      <th>MinTemp</th>\n",
       "      <th>Rainfall</th>\n",
       "      <th>WindDir9am</th>\n",
       "      <th>WindDir3pm</th>\n",
       "      <th>WindSpeed9am</th>\n",
       "      <th>WindSpeed3pm</th>\n",
       "      <th>Humidity9am</th>\n",
       "      <th>Humidity3pm</th>\n",
       "      <th>Temp3pm</th>\n",
       "      <th>RainToday</th>\n",
       "      <th>RainTomorrow</th>\n",
       "    </tr>\n",
       "  </thead>\n",
       "  <tbody>\n",
       "    <tr>\n",
       "      <th>0</th>\n",
       "      <td>0</td>\n",
       "      <td>1</td>\n",
       "      <td>13.4</td>\n",
       "      <td>1.0</td>\n",
       "      <td>13</td>\n",
       "      <td>14</td>\n",
       "      <td>20.0</td>\n",
       "      <td>24.0</td>\n",
       "      <td>71.0</td>\n",
       "      <td>22.0</td>\n",
       "      <td>21.8</td>\n",
       "      <td>0</td>\n",
       "      <td>0</td>\n",
       "    </tr>\n",
       "    <tr>\n",
       "      <th>1</th>\n",
       "      <td>0</td>\n",
       "      <td>1</td>\n",
       "      <td>7.4</td>\n",
       "      <td>0.0</td>\n",
       "      <td>6</td>\n",
       "      <td>15</td>\n",
       "      <td>4.0</td>\n",
       "      <td>22.0</td>\n",
       "      <td>44.0</td>\n",
       "      <td>25.0</td>\n",
       "      <td>24.3</td>\n",
       "      <td>0</td>\n",
       "      <td>0</td>\n",
       "    </tr>\n",
       "    <tr>\n",
       "      <th>2</th>\n",
       "      <td>0</td>\n",
       "      <td>1</td>\n",
       "      <td>12.9</td>\n",
       "      <td>0.0</td>\n",
       "      <td>13</td>\n",
       "      <td>15</td>\n",
       "      <td>19.0</td>\n",
       "      <td>26.0</td>\n",
       "      <td>38.0</td>\n",
       "      <td>30.0</td>\n",
       "      <td>23.2</td>\n",
       "      <td>0</td>\n",
       "      <td>0</td>\n",
       "    </tr>\n",
       "    <tr>\n",
       "      <th>3</th>\n",
       "      <td>0</td>\n",
       "      <td>1</td>\n",
       "      <td>9.2</td>\n",
       "      <td>0.0</td>\n",
       "      <td>9</td>\n",
       "      <td>0</td>\n",
       "      <td>11.0</td>\n",
       "      <td>9.0</td>\n",
       "      <td>45.0</td>\n",
       "      <td>16.0</td>\n",
       "      <td>26.5</td>\n",
       "      <td>0</td>\n",
       "      <td>0</td>\n",
       "    </tr>\n",
       "    <tr>\n",
       "      <th>4</th>\n",
       "      <td>0</td>\n",
       "      <td>1</td>\n",
       "      <td>17.5</td>\n",
       "      <td>1.0</td>\n",
       "      <td>1</td>\n",
       "      <td>7</td>\n",
       "      <td>7.0</td>\n",
       "      <td>20.0</td>\n",
       "      <td>82.0</td>\n",
       "      <td>33.0</td>\n",
       "      <td>29.7</td>\n",
       "      <td>0</td>\n",
       "      <td>0</td>\n",
       "    </tr>\n",
       "    <tr>\n",
       "      <th>...</th>\n",
       "      <td>...</td>\n",
       "      <td>...</td>\n",
       "      <td>...</td>\n",
       "      <td>...</td>\n",
       "      <td>...</td>\n",
       "      <td>...</td>\n",
       "      <td>...</td>\n",
       "      <td>...</td>\n",
       "      <td>...</td>\n",
       "      <td>...</td>\n",
       "      <td>...</td>\n",
       "      <td>...</td>\n",
       "      <td>...</td>\n",
       "    </tr>\n",
       "    <tr>\n",
       "      <th>8420</th>\n",
       "      <td>9</td>\n",
       "      <td>9</td>\n",
       "      <td>2.8</td>\n",
       "      <td>0.0</td>\n",
       "      <td>9</td>\n",
       "      <td>1</td>\n",
       "      <td>13.0</td>\n",
       "      <td>11.0</td>\n",
       "      <td>51.0</td>\n",
       "      <td>24.0</td>\n",
       "      <td>22.4</td>\n",
       "      <td>0</td>\n",
       "      <td>0</td>\n",
       "    </tr>\n",
       "    <tr>\n",
       "      <th>8421</th>\n",
       "      <td>9</td>\n",
       "      <td>9</td>\n",
       "      <td>3.6</td>\n",
       "      <td>0.0</td>\n",
       "      <td>9</td>\n",
       "      <td>3</td>\n",
       "      <td>13.0</td>\n",
       "      <td>9.0</td>\n",
       "      <td>56.0</td>\n",
       "      <td>21.0</td>\n",
       "      <td>24.5</td>\n",
       "      <td>0</td>\n",
       "      <td>0</td>\n",
       "    </tr>\n",
       "    <tr>\n",
       "      <th>8422</th>\n",
       "      <td>9</td>\n",
       "      <td>9</td>\n",
       "      <td>5.4</td>\n",
       "      <td>0.0</td>\n",
       "      <td>9</td>\n",
       "      <td>14</td>\n",
       "      <td>9.0</td>\n",
       "      <td>9.0</td>\n",
       "      <td>53.0</td>\n",
       "      <td>24.0</td>\n",
       "      <td>26.1</td>\n",
       "      <td>0</td>\n",
       "      <td>0</td>\n",
       "    </tr>\n",
       "    <tr>\n",
       "      <th>8423</th>\n",
       "      <td>9</td>\n",
       "      <td>9</td>\n",
       "      <td>7.8</td>\n",
       "      <td>0.0</td>\n",
       "      <td>10</td>\n",
       "      <td>3</td>\n",
       "      <td>13.0</td>\n",
       "      <td>7.0</td>\n",
       "      <td>51.0</td>\n",
       "      <td>24.0</td>\n",
       "      <td>26.0</td>\n",
       "      <td>0</td>\n",
       "      <td>0</td>\n",
       "    </tr>\n",
       "    <tr>\n",
       "      <th>8424</th>\n",
       "      <td>9</td>\n",
       "      <td>9</td>\n",
       "      <td>14.9</td>\n",
       "      <td>0.0</td>\n",
       "      <td>2</td>\n",
       "      <td>2</td>\n",
       "      <td>17.0</td>\n",
       "      <td>17.0</td>\n",
       "      <td>62.0</td>\n",
       "      <td>36.0</td>\n",
       "      <td>20.9</td>\n",
       "      <td>0</td>\n",
       "      <td>0</td>\n",
       "    </tr>\n",
       "  </tbody>\n",
       "</table>\n",
       "<p>8425 rows × 13 columns</p>\n",
       "</div>"
      ],
      "text/plain": [
       "      Date  Location  MinTemp  Rainfall  WindDir9am  WindDir3pm  WindSpeed9am  \\\n",
       "0        0         1     13.4       1.0          13          14          20.0   \n",
       "1        0         1      7.4       0.0           6          15           4.0   \n",
       "2        0         1     12.9       0.0          13          15          19.0   \n",
       "3        0         1      9.2       0.0           9           0          11.0   \n",
       "4        0         1     17.5       1.0           1           7           7.0   \n",
       "...    ...       ...      ...       ...         ...         ...           ...   \n",
       "8420     9         9      2.8       0.0           9           1          13.0   \n",
       "8421     9         9      3.6       0.0           9           3          13.0   \n",
       "8422     9         9      5.4       0.0           9          14           9.0   \n",
       "8423     9         9      7.8       0.0          10           3          13.0   \n",
       "8424     9         9     14.9       0.0           2           2          17.0   \n",
       "\n",
       "      WindSpeed3pm  Humidity9am  Humidity3pm  Temp3pm  RainToday  RainTomorrow  \n",
       "0             24.0         71.0         22.0     21.8          0             0  \n",
       "1             22.0         44.0         25.0     24.3          0             0  \n",
       "2             26.0         38.0         30.0     23.2          0             0  \n",
       "3              9.0         45.0         16.0     26.5          0             0  \n",
       "4             20.0         82.0         33.0     29.7          0             0  \n",
       "...            ...          ...          ...      ...        ...           ...  \n",
       "8420          11.0         51.0         24.0     22.4          0             0  \n",
       "8421           9.0         56.0         21.0     24.5          0             0  \n",
       "8422           9.0         53.0         24.0     26.1          0             0  \n",
       "8423           7.0         51.0         24.0     26.0          0             0  \n",
       "8424          17.0         62.0         36.0     20.9          0             0  \n",
       "\n",
       "[8425 rows x 13 columns]"
      ]
     },
     "execution_count": 456,
     "metadata": {},
     "output_type": "execute_result"
    }
   ],
   "source": [
    "df"
   ]
  },
  {
   "cell_type": "code",
   "execution_count": 474,
   "id": "7b14bf25",
   "metadata": {},
   "outputs": [
    {
     "data": {
      "text/plain": [
       "0    6434\n",
       "1    1991\n",
       "Name: RainTomorrow, dtype: int64"
      ]
     },
     "execution_count": 474,
     "metadata": {},
     "output_type": "execute_result"
    }
   ],
   "source": [
    "# Checking for class imbalance\n",
    "df['RainTomorrow'].value_counts()"
   ]
  },
  {
   "cell_type": "code",
   "execution_count": 475,
   "id": "723dcc96",
   "metadata": {},
   "outputs": [
    {
     "data": {
      "image/png": "[encoded data removed]",
      "text/plain": [
       "<Figure size 432x288 with 1 Axes>"
      ]
     },
     "metadata": {
      "needs_background": "light"
     },
     "output_type": "display_data"
    }
   ],
   "source": [
    "sns.countplot(df['RainTomorrow'])\n",
    "plt.show()"
   ]
  },
  {
   "cell_type": "code",
   "execution_count": 476,
   "id": "207740e8",
   "metadata": {},
   "outputs": [],
   "source": [
    "# The class is severely imbalanced and hence we upsample the data\n",
    "\n",
    "from imblearn.over_sampling import RandomOverSampler"
   ]
  },
  {
   "cell_type": "code",
   "execution_count": 478,
   "id": "83666c3d",
   "metadata": {},
   "outputs": [],
   "source": [
    "x = df.drop('RainTomorrow', axis = 1)\n",
    "y = df['RainTomorrow'].copy()"
   ]
  },
  {
   "cell_type": "code",
   "execution_count": 479,
   "id": "83ef4d8a",
   "metadata": {},
   "outputs": [],
   "source": [
    "x_resampled, y_resampled = RandomOverSampler().fit_resample(x,y)"
   ]
  },
  {
   "cell_type": "code",
   "execution_count": 481,
   "id": "6bb3c8de",
   "metadata": {},
   "outputs": [
    {
     "data": {
      "image/png": "[encoded data removed]",
      "text/plain": [
       "<Figure size 432x288 with 1 Axes>"
      ]
     },
     "metadata": {
      "needs_background": "light"
     },
     "output_type": "display_data"
    }
   ],
   "source": [
    "# Checking for resampled data\n",
    "sns.countplot(y_resampled)\n",
    "plt.show()"
   ]
  },
  {
   "cell_type": "code",
   "execution_count": 486,
   "id": "911a08d5",
   "metadata": {},
   "outputs": [],
   "source": [
    "# Splitting the data into a training and test data set\n",
    "xtrain, xtest, ytrain, ytest = train_test_split(x,y,test_size = 0.25, random_state = 42)"
   ]
  },
  {
   "cell_type": "code",
   "execution_count": 487,
   "id": "578791d0",
   "metadata": {},
   "outputs": [],
   "source": [
    "# Building our Logistic regressor models\n",
    "dt = DecisionTreeClassifier()\n",
    "lr = LogisticRegression()\n",
    "kn = KNeighborsClassifier()\n",
    "rf = RandomForestClassifier()"
   ]
  },
  {
   "cell_type": "code",
   "execution_count": 488,
   "id": "474ea69a",
   "metadata": {},
   "outputs": [],
   "source": [
    "estimators = []\n",
    "estimators.append((dt, 'DecisionTreeClassifier'))\n",
    "estimators.append((lr, 'LogisticRegression'))\n",
    "estimators.append((kn, 'KNeighborsClassifier'))\n",
    "estimators.append((rf, 'RandomForestClassifier'))"
   ]
  },
  {
   "cell_type": "code",
   "execution_count": 490,
   "id": "24037a57",
   "metadata": {},
   "outputs": [
    {
     "name": "stdout",
     "output_type": "stream",
     "text": [
      "\n",
      "DecisionTreeClassifier : 84.623%\n",
      "\n",
      "LogisticRegression : 82.677%\n",
      "\n",
      "KNeighborsClassifier : 82.534%\n",
      "\n",
      "RandomForestClassifier : 89.511%\n"
     ]
    }
   ],
   "source": [
    "from sklearn.metrics import accuracy_score, plot_roc_curve\n",
    "\n",
    "for estimator in estimators:\n",
    "    estimator[0].fit(xtrain, ytrain)\n",
    "    ypred = estimator[0].predict(xtest)\n",
    "    print()\n",
    "    print(f\"{estimator[1]} : {accuracy_score(ytest, ypred)*100:0.3f}%\")"
   ]
  },
  {
   "cell_type": "markdown",
   "id": "9e1c6ca8",
   "metadata": {},
   "source": [
    "The DecisionTreeClassifier and the RandomForestClassifier show the best accuracy however we check the ROC curves to best estimate their predictions"
   ]
  },
  {
   "cell_type": "code",
   "execution_count": 491,
   "id": "dc3b634e",
   "metadata": {},
   "outputs": [
    {
     "data": {
      "image/png": "[encoded data removed]",
      "text/plain": [
       "<Figure size 432x288 with 1 Axes>"
      ]
     },
     "metadata": {
      "needs_background": "light"
     },
     "output_type": "display_data"
    }
   ],
   "source": [
    "axis = plot_roc_curve(dt, xtrain, ytrain)\n",
    "for estimator in estimators[1:]:\n",
    "    plot_roc_curve(estimator[0], xtrain, ytrain, ax = axis.ax_)"
   ]
  },
  {
   "cell_type": "code",
   "execution_count": 492,
   "id": "0488b367",
   "metadata": {},
   "outputs": [
    {
     "data": {
      "image/png": "[encoded data removed]",
      "text/plain": [
       "<Figure size 432x288 with 1 Axes>"
      ]
     },
     "metadata": {
      "needs_background": "light"
     },
     "output_type": "display_data"
    }
   ],
   "source": [
    "axis = plot_roc_curve(dt, xtest, ytest)\n",
    "for estimator in estimators[1:]:\n",
    "    plot_roc_curve(estimator[0], xtest, ytest, ax = axis.ax_)"
   ]
  },
  {
   "cell_type": "markdown",
   "id": "78741a2e",
   "metadata": {},
   "source": [
    "The RandomForestClassifier gives the best performance compared "
   ]
  },
  {
   "cell_type": "code",
   "execution_count": 494,
   "id": "6665f8a9",
   "metadata": {},
   "outputs": [],
   "source": [
    "param_grid = {'n_estimators':[100, 150, 200, 300],\n",
    "              'criterion' :['gini','entropy'],\n",
    "              'max_depth' :[2, 3, 4, 5, 6, 7],\n",
    "              'min_samples_split': [2, 4, 5, 6, 8]}\n",
    "\n",
    "gs1 = GridSearchCV(RandomForestClassifier(), param_grid = param_grid, n_jobs = -1)\n",
    "gs1.fit(xtrain, ytrain)\n",
    "rf_best_est = gs1.best_estimator_"
   ]
  },
  {
   "cell_type": "code",
   "execution_count": 495,
   "id": "ad8cc307",
   "metadata": {},
   "outputs": [
    {
     "name": "stdout",
     "output_type": "stream",
     "text": [
      "92.311%\n"
     ]
    }
   ],
   "source": [
    "rf_best_est.fit(xtrain, ytrain)\n",
    "ytest = rf_best_est.predict(xtest)\n",
    "print(f\"{accuracy_score(ytest, ypred)*100:0.3f}%\")"
   ]
  },
  {
   "cell_type": "markdown",
   "id": "97860354",
   "metadata": {},
   "source": [
    "<font color = red>\n",
    "Apparently the best paramters tend to give the same Accuracy score\n",
    "</font>\n",
    "\n",
    "<font color = blue>Hence we stick with the original RandomForestClassifier and save it</font>"
   ]
  },
  {
   "cell_type": "code",
   "execution_count": 498,
   "id": "7d34b5c6",
   "metadata": {},
   "outputs": [
    {
     "data": {
      "text/plain": [
       "['Rainfall_prediction.pkl']"
      ]
     },
     "execution_count": 498,
     "metadata": {},
     "output_type": "execute_result"
    }
   ],
   "source": [
    "import joblib\n",
    "joblib.dump(rf, 'Rainfall_prediction.pkl')"
   ]
  },
  {
   "cell_type": "code",
   "execution_count": null,
   "id": "1cd820c1",
   "metadata": {},
   "outputs": [],
   "source": []
  }
 ],
 "metadata": {
  "kernelspec": {
   "display_name": "Python 3 (ipykernel)",
   "language": "python",
   "name": "python3"
  },
  "language_info": {
   "codemirror_mode": {
    "name": "ipython",
    "version": 3
   },
   "file_extension": ".py",
   "mimetype": "text/x-python",
   "name": "python",
   "nbconvert_exporter": "python",
   "pygments_lexer": "ipython3",
   "version": "3.9.10"
  }
 },
 "nbformat": 4,
 "nbformat_minor": 5
}
