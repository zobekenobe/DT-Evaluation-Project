{
 "cells": [
  {
   "cell_type": "markdown",
   "id": "0633b270",
   "metadata": {},
   "source": [
    "# Avacado Project\n",
    "### <u>Problem Statement</u>:\n",
    "\n",
    "<div style=\"text-align: justify\">\n",
    "Avocado is a fruit consumed by people heavily in the United States. \n",
    "Content. This data was downloaded from the Hass Avocado Board website in May of 2018 & compiled into a single CSV. The table below represents weekly 2018 retail scan data for National retail volume (units) and price. Retail scan data comes directly from retailers’ cash registers based on actual retail sales of Hass avocados. \n",
    "\n",
    "Starting in 2013, the table below reflects an expanded, multi-outlet retail data set.Multi-outlet reporting includes an aggregation of the following channels: grocery, mass, club, drug, dollar and military. The Average Price (of avocados) in the table reflects a per unit (per avocado) cost, even when multiple units (avocados) are sold in bags. \n",
    "\n",
    "The Product Lookup codes (PLU’s) in the table are only for Hass avocados. Other varieties of avocados (e.g. greenskins) are not included in this table.\n",
    "</div>\n",
    "\n",
    "Some relevant columns in the dataset:\n",
    "\n",
    "Date - The date of the observation\n",
    "   * AveragePrice - the average price of a single avocado\n",
    "   * type - conventional or organic\n",
    "   * year - the year\n",
    "   * Region - the city or region of the observation\n",
    "   * Total Volume - Total number of avocados sold\n",
    "   * 4046 - Total number of avocados with PLU 4046 sold\n",
    "   * 4225 - Total number of avocados with PLU 4225 sold\n",
    "   * 4770 - Total number of avocados with PLU 4770 sold"
   ]
  },
  {
   "cell_type": "code",
   "execution_count": 1,
   "id": "427cbb20",
   "metadata": {},
   "outputs": [],
   "source": [
    "# 1. Import the libraries\n",
    "# basics\n",
    "import pandas as pd\n",
    "import numpy as np\n",
    "import matplotlib.pyplot as plt\n",
    "import seaborn as sns\n",
    "\n",
    "# statistical libraries\n",
    "import phik\n",
    "from scipy.stats import pearsonr\n",
    "from scipy.stats import zscore\n",
    "\n",
    "from pandas.api.types import is_numeric_dtype\n",
    "\n",
    "# feature engineering\n",
    "from sklearn.model_selection import train_test_split\n",
    "from sklearn.preprocessing import StandardScaler\n",
    "from sklearn.preprocessing import PowerTransformer\n",
    "\n",
    "from sklearn.linear_model import LinearRegression, LogisticRegression\n",
    "from sklearn.tree import DecisionTreeRegressor, DecisionTreeClassifier\n",
    "from sklearn.neighbors import KNeighborsRegressor, KNeighborsClassifier\n",
    "from sklearn.ensemble import RandomForestClassifier\n",
    "\n",
    "# metrics \n",
    "from sklearn.metrics import mean_squared_error, r2_score\n",
    "from sklearn.metrics import confusion_matrix, f1_score, roc_auc_score, classification_report\n",
    "\n",
    "# Hyperparameter tuning\n",
    "from sklearn.model_selection import GridSearchCV\n",
    "\n",
    "# suppress warnings\n",
    "import warnings\n",
    "warnings.filterwarnings('ignore')"
   ]
  },
  {
   "cell_type": "code",
   "execution_count": 2,
   "id": "24a3cb79",
   "metadata": {},
   "outputs": [],
   "source": [
    "df = pd.read_csv('avocado.csv')"
   ]
  },
  {
   "cell_type": "code",
   "execution_count": 3,
   "id": "4286cdf1",
   "metadata": {},
   "outputs": [
    {
     "data": {
      "text/html": [
       "<div>\n",
       "<style scoped>\n",
       "    .dataframe tbody tr th:only-of-type {\n",
       "        vertical-align: middle;\n",
       "    }\n",
       "\n",
       "    .dataframe tbody tr th {\n",
       "        vertical-align: top;\n",
       "    }\n",
       "\n",
       "    .dataframe thead th {\n",
       "        text-align: right;\n",
       "    }\n",
       "</style>\n",
       "<table border=\"1\" class=\"dataframe\">\n",
       "  <thead>\n",
       "    <tr style=\"text-align: right;\">\n",
       "      <th></th>\n",
       "      <th>Unnamed: 0</th>\n",
       "      <th>Date</th>\n",
       "      <th>AveragePrice</th>\n",
       "      <th>Total Volume</th>\n",
       "      <th>4046</th>\n",
       "      <th>4225</th>\n",
       "      <th>4770</th>\n",
       "      <th>Total Bags</th>\n",
       "      <th>Small Bags</th>\n",
       "      <th>Large Bags</th>\n",
       "      <th>XLarge Bags</th>\n",
       "      <th>type</th>\n",
       "      <th>year</th>\n",
       "      <th>region</th>\n",
       "    </tr>\n",
       "  </thead>\n",
       "  <tbody>\n",
       "    <tr>\n",
       "      <th>0</th>\n",
       "      <td>0</td>\n",
       "      <td>2015-12-27</td>\n",
       "      <td>1.33</td>\n",
       "      <td>64236.62</td>\n",
       "      <td>1036.74</td>\n",
       "      <td>54454.85</td>\n",
       "      <td>48.16</td>\n",
       "      <td>8696.87</td>\n",
       "      <td>8603.62</td>\n",
       "      <td>93.25</td>\n",
       "      <td>0.0</td>\n",
       "      <td>conventional</td>\n",
       "      <td>2015</td>\n",
       "      <td>Albany</td>\n",
       "    </tr>\n",
       "    <tr>\n",
       "      <th>1</th>\n",
       "      <td>1</td>\n",
       "      <td>2015-12-20</td>\n",
       "      <td>1.35</td>\n",
       "      <td>54876.98</td>\n",
       "      <td>674.28</td>\n",
       "      <td>44638.81</td>\n",
       "      <td>58.33</td>\n",
       "      <td>9505.56</td>\n",
       "      <td>9408.07</td>\n",
       "      <td>97.49</td>\n",
       "      <td>0.0</td>\n",
       "      <td>conventional</td>\n",
       "      <td>2015</td>\n",
       "      <td>Albany</td>\n",
       "    </tr>\n",
       "    <tr>\n",
       "      <th>2</th>\n",
       "      <td>2</td>\n",
       "      <td>2015-12-13</td>\n",
       "      <td>0.93</td>\n",
       "      <td>118220.22</td>\n",
       "      <td>794.70</td>\n",
       "      <td>109149.67</td>\n",
       "      <td>130.50</td>\n",
       "      <td>8145.35</td>\n",
       "      <td>8042.21</td>\n",
       "      <td>103.14</td>\n",
       "      <td>0.0</td>\n",
       "      <td>conventional</td>\n",
       "      <td>2015</td>\n",
       "      <td>Albany</td>\n",
       "    </tr>\n",
       "    <tr>\n",
       "      <th>3</th>\n",
       "      <td>3</td>\n",
       "      <td>2015-12-06</td>\n",
       "      <td>1.08</td>\n",
       "      <td>78992.15</td>\n",
       "      <td>1132.00</td>\n",
       "      <td>71976.41</td>\n",
       "      <td>72.58</td>\n",
       "      <td>5811.16</td>\n",
       "      <td>5677.40</td>\n",
       "      <td>133.76</td>\n",
       "      <td>0.0</td>\n",
       "      <td>conventional</td>\n",
       "      <td>2015</td>\n",
       "      <td>Albany</td>\n",
       "    </tr>\n",
       "    <tr>\n",
       "      <th>4</th>\n",
       "      <td>4</td>\n",
       "      <td>2015-11-29</td>\n",
       "      <td>1.28</td>\n",
       "      <td>51039.60</td>\n",
       "      <td>941.48</td>\n",
       "      <td>43838.39</td>\n",
       "      <td>75.78</td>\n",
       "      <td>6183.95</td>\n",
       "      <td>5986.26</td>\n",
       "      <td>197.69</td>\n",
       "      <td>0.0</td>\n",
       "      <td>conventional</td>\n",
       "      <td>2015</td>\n",
       "      <td>Albany</td>\n",
       "    </tr>\n",
       "  </tbody>\n",
       "</table>\n",
       "</div>"
      ],
      "text/plain": [
       "   Unnamed: 0        Date  AveragePrice  Total Volume     4046       4225  \\\n",
       "0           0  2015-12-27          1.33      64236.62  1036.74   54454.85   \n",
       "1           1  2015-12-20          1.35      54876.98   674.28   44638.81   \n",
       "2           2  2015-12-13          0.93     118220.22   794.70  109149.67   \n",
       "3           3  2015-12-06          1.08      78992.15  1132.00   71976.41   \n",
       "4           4  2015-11-29          1.28      51039.60   941.48   43838.39   \n",
       "\n",
       "     4770  Total Bags  Small Bags  Large Bags  XLarge Bags          type  \\\n",
       "0   48.16     8696.87     8603.62       93.25          0.0  conventional   \n",
       "1   58.33     9505.56     9408.07       97.49          0.0  conventional   \n",
       "2  130.50     8145.35     8042.21      103.14          0.0  conventional   \n",
       "3   72.58     5811.16     5677.40      133.76          0.0  conventional   \n",
       "4   75.78     6183.95     5986.26      197.69          0.0  conventional   \n",
       "\n",
       "   year  region  \n",
       "0  2015  Albany  \n",
       "1  2015  Albany  \n",
       "2  2015  Albany  \n",
       "3  2015  Albany  \n",
       "4  2015  Albany  "
      ]
     },
     "execution_count": 3,
     "metadata": {},
     "output_type": "execute_result"
    }
   ],
   "source": [
    "df.head()"
   ]
  },
  {
   "cell_type": "code",
   "execution_count": 4,
   "id": "ec53723a",
   "metadata": {},
   "outputs": [
    {
     "name": "stdout",
     "output_type": "stream",
     "text": [
      "<class 'pandas.core.frame.DataFrame'>\n",
      "RangeIndex: 18249 entries, 0 to 18248\n",
      "Data columns (total 14 columns):\n",
      " #   Column        Non-Null Count  Dtype  \n",
      "---  ------        --------------  -----  \n",
      " 0   Unnamed: 0    18249 non-null  int64  \n",
      " 1   Date          18249 non-null  object \n",
      " 2   AveragePrice  18249 non-null  float64\n",
      " 3   Total Volume  18249 non-null  float64\n",
      " 4   4046          18249 non-null  float64\n",
      " 5   4225          18249 non-null  float64\n",
      " 6   4770          18249 non-null  float64\n",
      " 7   Total Bags    18249 non-null  float64\n",
      " 8   Small Bags    18249 non-null  float64\n",
      " 9   Large Bags    18249 non-null  float64\n",
      " 10  XLarge Bags   18249 non-null  float64\n",
      " 11  type          18249 non-null  object \n",
      " 12  year          18249 non-null  int64  \n",
      " 13  region        18249 non-null  object \n",
      "dtypes: float64(9), int64(2), object(3)\n",
      "memory usage: 1.9+ MB\n"
     ]
    }
   ],
   "source": [
    "df.info()"
   ]
  },
  {
   "cell_type": "code",
   "execution_count": 5,
   "id": "c5631ff7",
   "metadata": {},
   "outputs": [
    {
     "data": {
      "text/plain": [
       "Unnamed: 0      0\n",
       "Date            0\n",
       "AveragePrice    0\n",
       "Total Volume    0\n",
       "4046            0\n",
       "4225            0\n",
       "4770            0\n",
       "Total Bags      0\n",
       "Small Bags      0\n",
       "Large Bags      0\n",
       "XLarge Bags     0\n",
       "type            0\n",
       "year            0\n",
       "region          0\n",
       "dtype: int64"
      ]
     },
     "execution_count": 5,
     "metadata": {},
     "output_type": "execute_result"
    }
   ],
   "source": [
    "# checking for null values\n",
    "df.isnull().sum()"
   ]
  },
  {
   "cell_type": "markdown",
   "id": "25e05dc4",
   "metadata": {},
   "source": [
    "<font color = red>\n",
    "The data has three columns as string entries however the date should be changed to date type. Aslo there aren't any null values. Also the first column, being a custom index is dropped\n",
    "</font>"
   ]
  },
  {
   "cell_type": "code",
   "execution_count": 6,
   "id": "fcf18a85",
   "metadata": {},
   "outputs": [],
   "source": [
    "df.drop(df.columns[0], axis =1, inplace = True)"
   ]
  },
  {
   "cell_type": "markdown",
   "id": "7d52544a",
   "metadata": {},
   "source": [
    "also the date column is dropped as it would be redundant since the 'Year' column is already present"
   ]
  },
  {
   "cell_type": "code",
   "execution_count": 7,
   "id": "d7b15b6a",
   "metadata": {},
   "outputs": [],
   "source": [
    "df.drop(df.columns[0], axis = 1, inplace = True)"
   ]
  },
  {
   "cell_type": "code",
   "execution_count": 8,
   "id": "407b629e",
   "metadata": {},
   "outputs": [
    {
     "data": {
      "text/html": [
       "<div>\n",
       "<style scoped>\n",
       "    .dataframe tbody tr th:only-of-type {\n",
       "        vertical-align: middle;\n",
       "    }\n",
       "\n",
       "    .dataframe tbody tr th {\n",
       "        vertical-align: top;\n",
       "    }\n",
       "\n",
       "    .dataframe thead th {\n",
       "        text-align: right;\n",
       "    }\n",
       "</style>\n",
       "<table border=\"1\" class=\"dataframe\">\n",
       "  <thead>\n",
       "    <tr style=\"text-align: right;\">\n",
       "      <th></th>\n",
       "      <th>AveragePrice</th>\n",
       "      <th>Total Volume</th>\n",
       "      <th>4046</th>\n",
       "      <th>4225</th>\n",
       "      <th>4770</th>\n",
       "      <th>Total Bags</th>\n",
       "      <th>Small Bags</th>\n",
       "      <th>Large Bags</th>\n",
       "      <th>XLarge Bags</th>\n",
       "      <th>year</th>\n",
       "    </tr>\n",
       "  </thead>\n",
       "  <tbody>\n",
       "    <tr>\n",
       "      <th>count</th>\n",
       "      <td>18249.0</td>\n",
       "      <td>18249.0</td>\n",
       "      <td>18249.0</td>\n",
       "      <td>18249.0</td>\n",
       "      <td>18249.0</td>\n",
       "      <td>18249.0</td>\n",
       "      <td>18249.0</td>\n",
       "      <td>18249.0</td>\n",
       "      <td>18249.0</td>\n",
       "      <td>18249.0</td>\n",
       "    </tr>\n",
       "    <tr>\n",
       "      <th>mean</th>\n",
       "      <td>1.0</td>\n",
       "      <td>850644.0</td>\n",
       "      <td>293008.0</td>\n",
       "      <td>295155.0</td>\n",
       "      <td>22840.0</td>\n",
       "      <td>239639.0</td>\n",
       "      <td>182195.0</td>\n",
       "      <td>54338.0</td>\n",
       "      <td>3106.0</td>\n",
       "      <td>2016.0</td>\n",
       "    </tr>\n",
       "    <tr>\n",
       "      <th>std</th>\n",
       "      <td>0.0</td>\n",
       "      <td>3453545.0</td>\n",
       "      <td>1264989.0</td>\n",
       "      <td>1204120.0</td>\n",
       "      <td>107464.0</td>\n",
       "      <td>986242.0</td>\n",
       "      <td>746179.0</td>\n",
       "      <td>243966.0</td>\n",
       "      <td>17693.0</td>\n",
       "      <td>1.0</td>\n",
       "    </tr>\n",
       "    <tr>\n",
       "      <th>min</th>\n",
       "      <td>0.0</td>\n",
       "      <td>85.0</td>\n",
       "      <td>0.0</td>\n",
       "      <td>0.0</td>\n",
       "      <td>0.0</td>\n",
       "      <td>0.0</td>\n",
       "      <td>0.0</td>\n",
       "      <td>0.0</td>\n",
       "      <td>0.0</td>\n",
       "      <td>2015.0</td>\n",
       "    </tr>\n",
       "    <tr>\n",
       "      <th>25%</th>\n",
       "      <td>1.0</td>\n",
       "      <td>10839.0</td>\n",
       "      <td>854.0</td>\n",
       "      <td>3009.0</td>\n",
       "      <td>0.0</td>\n",
       "      <td>5089.0</td>\n",
       "      <td>2849.0</td>\n",
       "      <td>127.0</td>\n",
       "      <td>0.0</td>\n",
       "      <td>2015.0</td>\n",
       "    </tr>\n",
       "    <tr>\n",
       "      <th>50%</th>\n",
       "      <td>1.0</td>\n",
       "      <td>107377.0</td>\n",
       "      <td>8645.0</td>\n",
       "      <td>29061.0</td>\n",
       "      <td>185.0</td>\n",
       "      <td>39744.0</td>\n",
       "      <td>26363.0</td>\n",
       "      <td>2648.0</td>\n",
       "      <td>0.0</td>\n",
       "      <td>2016.0</td>\n",
       "    </tr>\n",
       "    <tr>\n",
       "      <th>75%</th>\n",
       "      <td>2.0</td>\n",
       "      <td>432962.0</td>\n",
       "      <td>111020.0</td>\n",
       "      <td>150207.0</td>\n",
       "      <td>6243.0</td>\n",
       "      <td>110783.0</td>\n",
       "      <td>83338.0</td>\n",
       "      <td>22029.0</td>\n",
       "      <td>132.0</td>\n",
       "      <td>2017.0</td>\n",
       "    </tr>\n",
       "    <tr>\n",
       "      <th>max</th>\n",
       "      <td>3.0</td>\n",
       "      <td>62505647.0</td>\n",
       "      <td>22743616.0</td>\n",
       "      <td>20470573.0</td>\n",
       "      <td>2546439.0</td>\n",
       "      <td>19373134.0</td>\n",
       "      <td>13384587.0</td>\n",
       "      <td>5719097.0</td>\n",
       "      <td>551694.0</td>\n",
       "      <td>2018.0</td>\n",
       "    </tr>\n",
       "  </tbody>\n",
       "</table>\n",
       "</div>"
      ],
      "text/plain": [
       "       AveragePrice  Total Volume        4046        4225       4770  \\\n",
       "count       18249.0       18249.0     18249.0     18249.0    18249.0   \n",
       "mean            1.0      850644.0    293008.0    295155.0    22840.0   \n",
       "std             0.0     3453545.0   1264989.0   1204120.0   107464.0   \n",
       "min             0.0          85.0         0.0         0.0        0.0   \n",
       "25%             1.0       10839.0       854.0      3009.0        0.0   \n",
       "50%             1.0      107377.0      8645.0     29061.0      185.0   \n",
       "75%             2.0      432962.0    111020.0    150207.0     6243.0   \n",
       "max             3.0    62505647.0  22743616.0  20470573.0  2546439.0   \n",
       "\n",
       "       Total Bags  Small Bags  Large Bags  XLarge Bags     year  \n",
       "count     18249.0     18249.0     18249.0      18249.0  18249.0  \n",
       "mean     239639.0    182195.0     54338.0       3106.0   2016.0  \n",
       "std      986242.0    746179.0    243966.0      17693.0      1.0  \n",
       "min           0.0         0.0         0.0          0.0   2015.0  \n",
       "25%        5089.0      2849.0       127.0          0.0   2015.0  \n",
       "50%       39744.0     26363.0      2648.0          0.0   2016.0  \n",
       "75%      110783.0     83338.0     22029.0        132.0   2017.0  \n",
       "max    19373134.0  13384587.0   5719097.0     551694.0   2018.0  "
      ]
     },
     "execution_count": 8,
     "metadata": {},
     "output_type": "execute_result"
    }
   ],
   "source": [
    "# checking the statistics of the numerical data\n",
    "df.describe().round()"
   ]
  },
  {
   "cell_type": "code",
   "execution_count": 9,
   "id": "d119aa6f",
   "metadata": {},
   "outputs": [
    {
     "name": "stdout",
     "output_type": "stream",
     "text": [
      "1.419\n",
      "99.934\n",
      "97.003\n",
      "99.200\n",
      "66.146\n",
      "99.167\n",
      "94.915\n",
      "82.646\n",
      "30.621\n",
      "0.011\n",
      "0.022\n",
      "0.296\n"
     ]
    }
   ],
   "source": [
    "# Now we check for variance thresholding\n",
    "low_variance = []\n",
    "high_variance= []\n",
    "for col in df.columns:\n",
    "    val = df[col].unique().shape[0]/len(df)*100\n",
    "    print(f'{val:0.3f}')\n",
    "    if val < 1:\n",
    "        low_variance.append(col)\n",
    "    elif val > 99:\n",
    "        high_variance.append(col)"
   ]
  },
  {
   "cell_type": "code",
   "execution_count": 10,
   "id": "b7db8ee0",
   "metadata": {},
   "outputs": [
    {
     "data": {
      "text/plain": [
       "['type', 'year', 'region']"
      ]
     },
     "execution_count": 10,
     "metadata": {},
     "output_type": "execute_result"
    }
   ],
   "source": [
    "low_variance"
   ]
  },
  {
   "cell_type": "code",
   "execution_count": 11,
   "id": "1565accd",
   "metadata": {},
   "outputs": [
    {
     "data": {
      "text/plain": [
       "['Total Volume', '4225', 'Total Bags']"
      ]
     },
     "execution_count": 11,
     "metadata": {},
     "output_type": "execute_result"
    }
   ],
   "source": [
    "high_variance"
   ]
  },
  {
   "cell_type": "markdown",
   "id": "e6e958dc",
   "metadata": {},
   "source": [
    "The 'type', 'year', 'region', 'Average Price' though have a very low variance they are categorical and hence should not be dropped. <br>\n",
    "The 'Total Volume' apparently has 99% variance, it also the summation of the of the other 3 columns '4046', '4025' and '4770', because of its high variability and redundancy it is dropped from the dataset, similarly the 'total bags' will be dropped for the same reasons"
   ]
  },
  {
   "cell_type": "code",
   "execution_count": 12,
   "id": "ffe7fec5",
   "metadata": {},
   "outputs": [],
   "source": [
    "df.drop(columns = ['Total Volume', 'Total Bags'], inplace = True)"
   ]
  },
  {
   "cell_type": "code",
   "execution_count": 13,
   "id": "b8ff87e9",
   "metadata": {},
   "outputs": [
    {
     "data": {
      "text/plain": [
       "(18249, 10)"
      ]
     },
     "execution_count": 13,
     "metadata": {},
     "output_type": "execute_result"
    }
   ],
   "source": [
    "df.shape"
   ]
  },
  {
   "cell_type": "code",
   "execution_count": 14,
   "id": "837b0006",
   "metadata": {},
   "outputs": [
    {
     "data": {
      "text/html": [
       "<div>\n",
       "<style scoped>\n",
       "    .dataframe tbody tr th:only-of-type {\n",
       "        vertical-align: middle;\n",
       "    }\n",
       "\n",
       "    .dataframe tbody tr th {\n",
       "        vertical-align: top;\n",
       "    }\n",
       "\n",
       "    .dataframe thead th {\n",
       "        text-align: right;\n",
       "    }\n",
       "</style>\n",
       "<table border=\"1\" class=\"dataframe\">\n",
       "  <thead>\n",
       "    <tr style=\"text-align: right;\">\n",
       "      <th></th>\n",
       "      <th>AveragePrice</th>\n",
       "      <th>4046</th>\n",
       "      <th>4225</th>\n",
       "      <th>4770</th>\n",
       "      <th>Small Bags</th>\n",
       "      <th>Large Bags</th>\n",
       "      <th>XLarge Bags</th>\n",
       "      <th>type</th>\n",
       "      <th>year</th>\n",
       "      <th>region</th>\n",
       "    </tr>\n",
       "  </thead>\n",
       "  <tbody>\n",
       "    <tr>\n",
       "      <th>0</th>\n",
       "      <td>1.33</td>\n",
       "      <td>1036.74</td>\n",
       "      <td>54454.85</td>\n",
       "      <td>48.16</td>\n",
       "      <td>8603.62</td>\n",
       "      <td>93.25</td>\n",
       "      <td>0.0</td>\n",
       "      <td>conventional</td>\n",
       "      <td>2015</td>\n",
       "      <td>Albany</td>\n",
       "    </tr>\n",
       "    <tr>\n",
       "      <th>1</th>\n",
       "      <td>1.35</td>\n",
       "      <td>674.28</td>\n",
       "      <td>44638.81</td>\n",
       "      <td>58.33</td>\n",
       "      <td>9408.07</td>\n",
       "      <td>97.49</td>\n",
       "      <td>0.0</td>\n",
       "      <td>conventional</td>\n",
       "      <td>2015</td>\n",
       "      <td>Albany</td>\n",
       "    </tr>\n",
       "    <tr>\n",
       "      <th>2</th>\n",
       "      <td>0.93</td>\n",
       "      <td>794.70</td>\n",
       "      <td>109149.67</td>\n",
       "      <td>130.50</td>\n",
       "      <td>8042.21</td>\n",
       "      <td>103.14</td>\n",
       "      <td>0.0</td>\n",
       "      <td>conventional</td>\n",
       "      <td>2015</td>\n",
       "      <td>Albany</td>\n",
       "    </tr>\n",
       "    <tr>\n",
       "      <th>3</th>\n",
       "      <td>1.08</td>\n",
       "      <td>1132.00</td>\n",
       "      <td>71976.41</td>\n",
       "      <td>72.58</td>\n",
       "      <td>5677.40</td>\n",
       "      <td>133.76</td>\n",
       "      <td>0.0</td>\n",
       "      <td>conventional</td>\n",
       "      <td>2015</td>\n",
       "      <td>Albany</td>\n",
       "    </tr>\n",
       "    <tr>\n",
       "      <th>4</th>\n",
       "      <td>1.28</td>\n",
       "      <td>941.48</td>\n",
       "      <td>43838.39</td>\n",
       "      <td>75.78</td>\n",
       "      <td>5986.26</td>\n",
       "      <td>197.69</td>\n",
       "      <td>0.0</td>\n",
       "      <td>conventional</td>\n",
       "      <td>2015</td>\n",
       "      <td>Albany</td>\n",
       "    </tr>\n",
       "  </tbody>\n",
       "</table>\n",
       "</div>"
      ],
      "text/plain": [
       "   AveragePrice     4046       4225    4770  Small Bags  Large Bags  \\\n",
       "0          1.33  1036.74   54454.85   48.16     8603.62       93.25   \n",
       "1          1.35   674.28   44638.81   58.33     9408.07       97.49   \n",
       "2          0.93   794.70  109149.67  130.50     8042.21      103.14   \n",
       "3          1.08  1132.00   71976.41   72.58     5677.40      133.76   \n",
       "4          1.28   941.48   43838.39   75.78     5986.26      197.69   \n",
       "\n",
       "   XLarge Bags          type  year  region  \n",
       "0          0.0  conventional  2015  Albany  \n",
       "1          0.0  conventional  2015  Albany  \n",
       "2          0.0  conventional  2015  Albany  \n",
       "3          0.0  conventional  2015  Albany  \n",
       "4          0.0  conventional  2015  Albany  "
      ]
     },
     "execution_count": 14,
     "metadata": {},
     "output_type": "execute_result"
    }
   ],
   "source": [
    "# Checking for the remaining columns\n",
    "df.head()"
   ]
  },
  {
   "cell_type": "markdown",
   "id": "278b140f",
   "metadata": {},
   "source": [
    "# Part 1: Regression Problem Average Price Prediction"
   ]
  },
  {
   "cell_type": "code",
   "execution_count": 15,
   "id": "a1ef7e4f",
   "metadata": {},
   "outputs": [],
   "source": [
    "# Firstly we assume the 'year' is a categorical feature and convert it to type 'object'\n",
    "df['year'] = df['year'].astype('object')"
   ]
  },
  {
   "cell_type": "code",
   "execution_count": 16,
   "id": "3b47965e",
   "metadata": {},
   "outputs": [],
   "source": [
    "# Finding the correlation between the average price and the other numerical features\n",
    "temp = pd.DataFrame()\n",
    "score = []\n",
    "pvalue = []\n",
    "feature = []\n",
    "\n",
    "for col in df.columns[1:]:\n",
    "    if(is_numeric_dtype(df[col])):\n",
    "        score.append(pearsonr(df[col], df['AveragePrice'])[0])\n",
    "        pvalue.append(pearsonr(df[col], df['AveragePrice'])[1])\n",
    "        feature.append(col)\n",
    "temp['feature'] = feature\n",
    "temp['score'] = score\n",
    "temp['pvalue']= pvalue"
   ]
  },
  {
   "cell_type": "code",
   "execution_count": 17,
   "id": "b72381f8",
   "metadata": {},
   "outputs": [
    {
     "data": {
      "image/png": "[encoded data removed]",
      "text/plain": [
       "<Figure size 432x288 with 2 Axes>"
      ]
     },
     "metadata": {
      "needs_background": "light"
     },
     "output_type": "display_data"
    }
   ],
   "source": [
    "temp.plot.bar(subplots = True)\n",
    "plt.xlabel(feature)\n",
    "plt.show()"
   ]
  },
  {
   "cell_type": "markdown",
   "id": "dd4e1909",
   "metadata": {},
   "source": [
    "all features negatively correlate with the target variable and this would make sense, since with the increase of the volume of the sales the average price gets driven down"
   ]
  },
  {
   "cell_type": "code",
   "execution_count": 18,
   "id": "4223812d",
   "metadata": {},
   "outputs": [],
   "source": [
    "# checking the correlation with the categorical values and numerical values using phik"
   ]
  },
  {
   "cell_type": "code",
   "execution_count": 19,
   "id": "2c5e7de0",
   "metadata": {},
   "outputs": [],
   "source": [
    "temp = pd.DataFrame()\n",
    "score = []\n",
    "pvalue = []\n",
    "feature = []\n",
    "\n",
    "for col in df.columns[1:]:\n",
    "    if is_numeric_dtype(df[col]):\n",
    "        score.append(phik.phik_from_array(df[col], df['AveragePrice'], [col]))\n",
    "        pvalue.append(phik.significance.significance_from_array(df[col], df['AveragePrice'], [col])[0])\n",
    "        feature.append(col)\n",
    "    else:\n",
    "        score.append(phik.phik_from_array(df[col], df['AveragePrice']))\n",
    "        pvalue.append(phik.significance.significance_from_array(df[col], df['AveragePrice'])[0])\n",
    "        feature.append(col)"
   ]
  },
  {
   "cell_type": "code",
   "execution_count": 20,
   "id": "2cce1d67",
   "metadata": {},
   "outputs": [],
   "source": [
    "temp['feature'] = feature\n",
    "temp['score'] = score\n",
    "temp['pvalue']= pvalue"
   ]
  },
  {
   "cell_type": "code",
   "execution_count": 21,
   "id": "f13a9c40",
   "metadata": {},
   "outputs": [
    {
     "data": {
      "image/png": "[encoded data removed]",
      "text/plain": [
       "<Figure size 432x288 with 2 Axes>"
      ]
     },
     "metadata": {
      "needs_background": "light"
     },
     "output_type": "display_data"
    }
   ],
   "source": [
    "temp.plot.bar(subplots = True)\n",
    "plt.xlabel(feature)\n",
    "plt.show()"
   ]
  },
  {
   "cell_type": "markdown",
   "id": "f0c0d698",
   "metadata": {},
   "source": [
    "<font color = red>\n",
    "'XLarge Bags' apparently has a very poor correlation with the target variable 'AveragePrice', next we will check if it shares a correlation with other features and whether it can be dropped\n",
    "</font>"
   ]
  },
  {
   "cell_type": "code",
   "execution_count": 22,
   "id": "351d3306",
   "metadata": {},
   "outputs": [
    {
     "data": {
      "image/png": "[encoded data removed]",
      "text/plain": [
       "<Figure size 1080x864 with 2 Axes>"
      ]
     },
     "metadata": {
      "needs_background": "light"
     },
     "output_type": "display_data"
    }
   ],
   "source": [
    "# Checking for multicollinearity between the features\n",
    "plt.figure(figsize = (15, 12))\n",
    "sns.heatmap(df.corr(), annot = True)\n",
    "plt.show()"
   ]
  },
  {
   "cell_type": "code",
   "execution_count": 23,
   "id": "be16c6ce",
   "metadata": {},
   "outputs": [],
   "source": [
    "from statsmodels.stats.outliers_influence import variance_inflation_factor as vif"
   ]
  },
  {
   "cell_type": "code",
   "execution_count": 24,
   "id": "2ddfe876",
   "metadata": {},
   "outputs": [],
   "source": [
    "temp = pd.DataFrame()\n",
    "temp['Feature'] = df.iloc[:,1:7].columns\n",
    "temp['VIF Score'] = [vif(df.iloc[:,1:7], i) for i in range(6)]"
   ]
  },
  {
   "cell_type": "code",
   "execution_count": 25,
   "id": "8d30b3f2",
   "metadata": {},
   "outputs": [
    {
     "data": {
      "text/html": [
       "<div>\n",
       "<style scoped>\n",
       "    .dataframe tbody tr th:only-of-type {\n",
       "        vertical-align: middle;\n",
       "    }\n",
       "\n",
       "    .dataframe tbody tr th {\n",
       "        vertical-align: top;\n",
       "    }\n",
       "\n",
       "    .dataframe thead th {\n",
       "        text-align: right;\n",
       "    }\n",
       "</style>\n",
       "<table border=\"1\" class=\"dataframe\">\n",
       "  <thead>\n",
       "    <tr style=\"text-align: right;\">\n",
       "      <th></th>\n",
       "      <th>Feature</th>\n",
       "      <th>VIF Score</th>\n",
       "    </tr>\n",
       "  </thead>\n",
       "  <tbody>\n",
       "    <tr>\n",
       "      <th>3</th>\n",
       "      <td>Small Bags</td>\n",
       "      <td>20.457434</td>\n",
       "    </tr>\n",
       "    <tr>\n",
       "      <th>1</th>\n",
       "      <td>4225</td>\n",
       "      <td>14.060881</td>\n",
       "    </tr>\n",
       "    <tr>\n",
       "      <th>0</th>\n",
       "      <td>4046</td>\n",
       "      <td>10.435894</td>\n",
       "    </tr>\n",
       "    <tr>\n",
       "      <th>4</th>\n",
       "      <td>Large Bags</td>\n",
       "      <td>5.804713</td>\n",
       "    </tr>\n",
       "    <tr>\n",
       "      <th>2</th>\n",
       "      <td>4770</td>\n",
       "      <td>5.585092</td>\n",
       "    </tr>\n",
       "    <tr>\n",
       "      <th>5</th>\n",
       "      <td>XLarge Bags</td>\n",
       "      <td>3.505955</td>\n",
       "    </tr>\n",
       "  </tbody>\n",
       "</table>\n",
       "</div>"
      ],
      "text/plain": [
       "       Feature  VIF Score\n",
       "3   Small Bags  20.457434\n",
       "1         4225  14.060881\n",
       "0         4046  10.435894\n",
       "4   Large Bags   5.804713\n",
       "2         4770   5.585092\n",
       "5  XLarge Bags   3.505955"
      ]
     },
     "execution_count": 25,
     "metadata": {},
     "output_type": "execute_result"
    }
   ],
   "source": [
    "temp.sort_values('VIF Score', ascending = False)"
   ]
  },
  {
   "cell_type": "code",
   "execution_count": 33,
   "id": "029521a4",
   "metadata": {},
   "outputs": [
    {
     "data": {
      "image/png": "[encoded data removed]",
      "text/plain": [
       "<Figure size 1440x1800 with 6 Axes>"
      ]
     },
     "metadata": {
      "needs_background": "light"
     },
     "output_type": "display_data"
    }
   ],
   "source": [
    "# Plotting a histogram to view the distribution of data in each numerical feature\n",
    "plt.figure(figsize = (20,25))\n",
    "plotnumber = 1\n",
    "\n",
    "for col in df.columns[1:]:\n",
    "     if is_numeric_dtype(df[col]):\n",
    "        if plotnumber < 7:\n",
    "            plt.subplot(2,3,plotnumber)\n",
    "            sns.histplot(df[col], kde = True, stat = 'density')\n",
    "            plt.xlabel(col, fontsize = 18)\n",
    "        plotnumber += 1\n",
    "plt.show()"
   ]
  },
  {
   "cell_type": "code",
   "execution_count": 37,
   "id": "29ffc3a2",
   "metadata": {},
   "outputs": [],
   "source": [
    "from sklearn.preprocessing import PowerTransformer"
   ]
  },
  {
   "cell_type": "code",
   "execution_count": 41,
   "id": "cd0daf0c",
   "metadata": {},
   "outputs": [
    {
     "ename": "ImportError",
     "evalue": "cannot import name 'get_numeric_' from 'pandas.api' (C:\\Users\\zobekenobe\\anaconda3\\envs\\datasci\\lib\\site-packages\\pandas\\api\\__init__.py)",
     "output_type": "error",
     "traceback": [
      "\u001b[1;31m---------------------------------------------------------------------------\u001b[0m",
      "\u001b[1;31mImportError\u001b[0m                               Traceback (most recent call last)",
      "Input \u001b[1;32mIn [41]\u001b[0m, in \u001b[0;36m<module>\u001b[1;34m\u001b[0m\n\u001b[1;32m----> 1\u001b[0m \u001b[38;5;28;01mfrom\u001b[39;00m \u001b[38;5;21;01mpandas\u001b[39;00m\u001b[38;5;21;01m.\u001b[39;00m\u001b[38;5;21;01mapi\u001b[39;00m \u001b[38;5;28;01mimport\u001b[39;00m get_numeric_\n",
      "\u001b[1;31mImportError\u001b[0m: cannot import name 'get_numeric_' from 'pandas.api' (C:\\Users\\zobekenobe\\anaconda3\\envs\\datasci\\lib\\site-packages\\pandas\\api\\__init__.py)"
     ]
    }
   ],
   "source": [
    "from pandas.api import get_numeric_"
   ]
  },
  {
   "cell_type": "code",
   "execution_count": 43,
   "id": "07a0b2c9",
   "metadata": {},
   "outputs": [],
   "source": [
    "numerical_features = [col for col in df.columns[1:] if is_numeric_dtype(df[col])]"
   ]
  },
  {
   "cell_type": "code",
   "execution_count": 47,
   "id": "495ebfca",
   "metadata": {},
   "outputs": [],
   "source": [
    "temp = pd.DataFrame(PowerTransformer().fit_transform(df[numerical_features]))"
   ]
  },
  {
   "cell_type": "code",
   "execution_count": 48,
   "id": "887ab2c3",
   "metadata": {},
   "outputs": [
    {
     "data": {
      "text/html": [
       "<div>\n",
       "<style scoped>\n",
       "    .dataframe tbody tr th:only-of-type {\n",
       "        vertical-align: middle;\n",
       "    }\n",
       "\n",
       "    .dataframe tbody tr th {\n",
       "        vertical-align: top;\n",
       "    }\n",
       "\n",
       "    .dataframe thead th {\n",
       "        text-align: right;\n",
       "    }\n",
       "</style>\n",
       "<table border=\"1\" class=\"dataframe\">\n",
       "  <thead>\n",
       "    <tr style=\"text-align: right;\">\n",
       "      <th></th>\n",
       "      <th>0</th>\n",
       "      <th>1</th>\n",
       "      <th>2</th>\n",
       "      <th>3</th>\n",
       "      <th>4</th>\n",
       "      <th>5</th>\n",
       "    </tr>\n",
       "  </thead>\n",
       "  <tbody>\n",
       "    <tr>\n",
       "      <th>0</th>\n",
       "      <td>-0.658619</td>\n",
       "      <td>0.307313</td>\n",
       "      <td>-0.247250</td>\n",
       "      <td>-0.340627</td>\n",
       "      <td>-0.773351</td>\n",
       "      <td>-0.699849</td>\n",
       "    </tr>\n",
       "    <tr>\n",
       "      <th>1</th>\n",
       "      <td>-0.776870</td>\n",
       "      <td>0.231647</td>\n",
       "      <td>-0.201041</td>\n",
       "      <td>-0.306425</td>\n",
       "      <td>-0.763435</td>\n",
       "      <td>-0.699849</td>\n",
       "    </tr>\n",
       "    <tr>\n",
       "      <th>2</th>\n",
       "      <td>-0.731947</td>\n",
       "      <td>0.579503</td>\n",
       "      <td>-0.007072</td>\n",
       "      <td>-0.366303</td>\n",
       "      <td>-0.750820</td>\n",
       "      <td>-0.699849</td>\n",
       "    </tr>\n",
       "    <tr>\n",
       "      <th>3</th>\n",
       "      <td>-0.634200</td>\n",
       "      <td>0.415100</td>\n",
       "      <td>-0.148322</td>\n",
       "      <td>-0.496853</td>\n",
       "      <td>-0.691865</td>\n",
       "      <td>-0.699849</td>\n",
       "    </tr>\n",
       "    <tr>\n",
       "      <th>4</th>\n",
       "      <td>-0.685293</td>\n",
       "      <td>0.224806</td>\n",
       "      <td>-0.137918</td>\n",
       "      <td>-0.477201</td>\n",
       "      <td>-0.600975</td>\n",
       "      <td>-0.699849</td>\n",
       "    </tr>\n",
       "    <tr>\n",
       "      <th>...</th>\n",
       "      <td>...</td>\n",
       "      <td>...</td>\n",
       "      <td>...</td>\n",
       "      <td>...</td>\n",
       "      <td>...</td>\n",
       "      <td>...</td>\n",
       "    </tr>\n",
       "    <tr>\n",
       "      <th>18244</th>\n",
       "      <td>-0.467366</td>\n",
       "      <td>-0.919470</td>\n",
       "      <td>-1.238310</td>\n",
       "      <td>-0.178839</td>\n",
       "      <td>-0.410859</td>\n",
       "      <td>-0.699849</td>\n",
       "    </tr>\n",
       "    <tr>\n",
       "      <th>18245</th>\n",
       "      <td>-0.619883</td>\n",
       "      <td>-0.665372</td>\n",
       "      <td>-1.238310</td>\n",
       "      <td>-0.325977</td>\n",
       "      <td>-0.481465</td>\n",
       "      <td>-0.699849</td>\n",
       "    </tr>\n",
       "    <tr>\n",
       "      <th>18246</th>\n",
       "      <td>-0.619831</td>\n",
       "      <td>-0.772496</td>\n",
       "      <td>0.401546</td>\n",
       "      <td>-0.308728</td>\n",
       "      <td>-0.943486</td>\n",
       "      <td>-0.699849</td>\n",
       "    </tr>\n",
       "    <tr>\n",
       "      <th>18247</th>\n",
       "      <td>-0.550282</td>\n",
       "      <td>-0.710543</td>\n",
       "      <td>0.401246</td>\n",
       "      <td>-0.248932</td>\n",
       "      <td>-0.908510</td>\n",
       "      <td>-0.699849</td>\n",
       "    </tr>\n",
       "    <tr>\n",
       "      <th>18248</th>\n",
       "      <td>-0.367908</td>\n",
       "      <td>-0.785173</td>\n",
       "      <td>0.122919</td>\n",
       "      <td>-0.212590</td>\n",
       "      <td>-1.042250</td>\n",
       "      <td>-0.699849</td>\n",
       "    </tr>\n",
       "  </tbody>\n",
       "</table>\n",
       "<p>18249 rows × 6 columns</p>\n",
       "</div>"
      ],
      "text/plain": [
       "              0         1         2         3         4         5\n",
       "0     -0.658619  0.307313 -0.247250 -0.340627 -0.773351 -0.699849\n",
       "1     -0.776870  0.231647 -0.201041 -0.306425 -0.763435 -0.699849\n",
       "2     -0.731947  0.579503 -0.007072 -0.366303 -0.750820 -0.699849\n",
       "3     -0.634200  0.415100 -0.148322 -0.496853 -0.691865 -0.699849\n",
       "4     -0.685293  0.224806 -0.137918 -0.477201 -0.600975 -0.699849\n",
       "...         ...       ...       ...       ...       ...       ...\n",
       "18244 -0.467366 -0.919470 -1.238310 -0.178839 -0.410859 -0.699849\n",
       "18245 -0.619883 -0.665372 -1.238310 -0.325977 -0.481465 -0.699849\n",
       "18246 -0.619831 -0.772496  0.401546 -0.308728 -0.943486 -0.699849\n",
       "18247 -0.550282 -0.710543  0.401246 -0.248932 -0.908510 -0.699849\n",
       "18248 -0.367908 -0.785173  0.122919 -0.212590 -1.042250 -0.699849\n",
       "\n",
       "[18249 rows x 6 columns]"
      ]
     },
     "execution_count": 48,
     "metadata": {},
     "output_type": "execute_result"
    }
   ],
   "source": [
    "temp"
   ]
  },
  {
   "cell_type": "code",
   "execution_count": 57,
   "id": "2b8fbc34",
   "metadata": {},
   "outputs": [
    {
     "data": {
      "image/png": "[encoded data removed]",
      "text/plain": [
       "<Figure size 1800x1440 with 6 Axes>"
      ]
     },
     "metadata": {
      "needs_background": "light"
     },
     "output_type": "display_data"
    }
   ],
   "source": [
    "plt.figure(figsize = (25, 20))\n",
    "plotnumber = 1\n",
    "\n",
    "for col in range(len(numerical_features)):\n",
    "    plt.subplot(2,3,plotnumber)\n",
    "    sns.histplot(temp[col], kde = True, stat = 'density')\n",
    "    plt.xlabel(col, fontsize = 18)\n",
    "    plotnumber += 1\n",
    "plt.show()"
   ]
  },
  {
   "cell_type": "markdown",
   "id": "fcaabe0c",
   "metadata": {},
   "source": [
    "The data looks much better now, however there is still some skewness in features 2,4 and 5"
   ]
  },
  {
   "cell_type": "code",
   "execution_count": 58,
   "id": "1c1af43f",
   "metadata": {},
   "outputs": [
    {
     "data": {
      "text/plain": [
       "0   -0.022679\n",
       "1   -0.017740\n",
       "2    0.032184\n",
       "3    0.007058\n",
       "4   -0.073809\n",
       "5    0.793520\n",
       "dtype: float64"
      ]
     },
     "execution_count": 58,
     "metadata": {},
     "output_type": "execute_result"
    }
   ],
   "source": [
    "temp.skew()"
   ]
  },
  {
   "cell_type": "code",
   "execution_count": 65,
   "id": "05000c6e",
   "metadata": {},
   "outputs": [
    {
     "data": {
      "image/png": "[encoded data removed]",
      "text/plain": [
       "<Figure size 1800x1440 with 6 Axes>"
      ]
     },
     "metadata": {
      "needs_background": "light"
     },
     "output_type": "display_data"
    }
   ],
   "source": [
    "# we can check for outliers in the features with numerical datatypes\n",
    "plt.figure(figsize = (25, 20))\n",
    "plotnumber = 1\n",
    "for col in temp.columns:\n",
    "    if plotnumber < 7:\n",
    "        plt.subplot(2,3,plotnumber)\n",
    "        sns.boxplot(temp[col], orient = 'h')\n",
    "    plotnumber += 1\n",
    "plt.show()"
   ]
  },
  {
   "cell_type": "markdown",
   "id": "a9e5984e",
   "metadata": {},
   "source": [
    " after performing a power transform and visualizing the via boxplots the data looks like doesn't \n",
    " have many outlier points"
   ]
  },
  {
   "cell_type": "code",
   "execution_count": 81,
   "id": "2b4f45ca",
   "metadata": {},
   "outputs": [],
   "source": [
    "df.loc[:, numerical_features] = temp.values"
   ]
  },
  {
   "cell_type": "code",
   "execution_count": 82,
   "id": "c1bd5965",
   "metadata": {},
   "outputs": [
    {
     "data": {
      "text/html": [
       "<div>\n",
       "<style scoped>\n",
       "    .dataframe tbody tr th:only-of-type {\n",
       "        vertical-align: middle;\n",
       "    }\n",
       "\n",
       "    .dataframe tbody tr th {\n",
       "        vertical-align: top;\n",
       "    }\n",
       "\n",
       "    .dataframe thead th {\n",
       "        text-align: right;\n",
       "    }\n",
       "</style>\n",
       "<table border=\"1\" class=\"dataframe\">\n",
       "  <thead>\n",
       "    <tr style=\"text-align: right;\">\n",
       "      <th></th>\n",
       "      <th>AveragePrice</th>\n",
       "      <th>4046</th>\n",
       "      <th>4225</th>\n",
       "      <th>4770</th>\n",
       "      <th>Small Bags</th>\n",
       "      <th>Large Bags</th>\n",
       "      <th>XLarge Bags</th>\n",
       "      <th>type</th>\n",
       "      <th>year</th>\n",
       "      <th>region</th>\n",
       "    </tr>\n",
       "  </thead>\n",
       "  <tbody>\n",
       "    <tr>\n",
       "      <th>0</th>\n",
       "      <td>1.33</td>\n",
       "      <td>-0.658619</td>\n",
       "      <td>0.307313</td>\n",
       "      <td>-0.247250</td>\n",
       "      <td>-0.340627</td>\n",
       "      <td>-0.773351</td>\n",
       "      <td>0.0</td>\n",
       "      <td>conventional</td>\n",
       "      <td>2015</td>\n",
       "      <td>Albany</td>\n",
       "    </tr>\n",
       "    <tr>\n",
       "      <th>1</th>\n",
       "      <td>1.35</td>\n",
       "      <td>-0.776870</td>\n",
       "      <td>0.231647</td>\n",
       "      <td>-0.201041</td>\n",
       "      <td>-0.306425</td>\n",
       "      <td>-0.763435</td>\n",
       "      <td>0.0</td>\n",
       "      <td>conventional</td>\n",
       "      <td>2015</td>\n",
       "      <td>Albany</td>\n",
       "    </tr>\n",
       "    <tr>\n",
       "      <th>2</th>\n",
       "      <td>0.93</td>\n",
       "      <td>-0.731947</td>\n",
       "      <td>0.579503</td>\n",
       "      <td>-0.007072</td>\n",
       "      <td>-0.366303</td>\n",
       "      <td>-0.750820</td>\n",
       "      <td>0.0</td>\n",
       "      <td>conventional</td>\n",
       "      <td>2015</td>\n",
       "      <td>Albany</td>\n",
       "    </tr>\n",
       "    <tr>\n",
       "      <th>3</th>\n",
       "      <td>1.08</td>\n",
       "      <td>-0.634200</td>\n",
       "      <td>0.415100</td>\n",
       "      <td>-0.148322</td>\n",
       "      <td>-0.496853</td>\n",
       "      <td>-0.691865</td>\n",
       "      <td>0.0</td>\n",
       "      <td>conventional</td>\n",
       "      <td>2015</td>\n",
       "      <td>Albany</td>\n",
       "    </tr>\n",
       "    <tr>\n",
       "      <th>4</th>\n",
       "      <td>1.28</td>\n",
       "      <td>-0.685293</td>\n",
       "      <td>0.224806</td>\n",
       "      <td>-0.137918</td>\n",
       "      <td>-0.477201</td>\n",
       "      <td>-0.600975</td>\n",
       "      <td>0.0</td>\n",
       "      <td>conventional</td>\n",
       "      <td>2015</td>\n",
       "      <td>Albany</td>\n",
       "    </tr>\n",
       "    <tr>\n",
       "      <th>...</th>\n",
       "      <td>...</td>\n",
       "      <td>...</td>\n",
       "      <td>...</td>\n",
       "      <td>...</td>\n",
       "      <td>...</td>\n",
       "      <td>...</td>\n",
       "      <td>...</td>\n",
       "      <td>...</td>\n",
       "      <td>...</td>\n",
       "      <td>...</td>\n",
       "    </tr>\n",
       "    <tr>\n",
       "      <th>18244</th>\n",
       "      <td>1.63</td>\n",
       "      <td>-0.467366</td>\n",
       "      <td>-0.919470</td>\n",
       "      <td>-1.238310</td>\n",
       "      <td>-0.178839</td>\n",
       "      <td>-0.410859</td>\n",
       "      <td>0.0</td>\n",
       "      <td>organic</td>\n",
       "      <td>2018</td>\n",
       "      <td>WestTexNewMexico</td>\n",
       "    </tr>\n",
       "    <tr>\n",
       "      <th>18245</th>\n",
       "      <td>1.71</td>\n",
       "      <td>-0.619883</td>\n",
       "      <td>-0.665372</td>\n",
       "      <td>-1.238310</td>\n",
       "      <td>-0.325977</td>\n",
       "      <td>-0.481465</td>\n",
       "      <td>0.0</td>\n",
       "      <td>organic</td>\n",
       "      <td>2018</td>\n",
       "      <td>WestTexNewMexico</td>\n",
       "    </tr>\n",
       "    <tr>\n",
       "      <th>18246</th>\n",
       "      <td>1.87</td>\n",
       "      <td>-0.619831</td>\n",
       "      <td>-0.772496</td>\n",
       "      <td>0.401546</td>\n",
       "      <td>-0.308728</td>\n",
       "      <td>-0.943486</td>\n",
       "      <td>0.0</td>\n",
       "      <td>organic</td>\n",
       "      <td>2018</td>\n",
       "      <td>WestTexNewMexico</td>\n",
       "    </tr>\n",
       "    <tr>\n",
       "      <th>18247</th>\n",
       "      <td>1.93</td>\n",
       "      <td>-0.550282</td>\n",
       "      <td>-0.710543</td>\n",
       "      <td>0.401246</td>\n",
       "      <td>-0.248932</td>\n",
       "      <td>-0.908510</td>\n",
       "      <td>0.0</td>\n",
       "      <td>organic</td>\n",
       "      <td>2018</td>\n",
       "      <td>WestTexNewMexico</td>\n",
       "    </tr>\n",
       "    <tr>\n",
       "      <th>18248</th>\n",
       "      <td>1.62</td>\n",
       "      <td>-0.367908</td>\n",
       "      <td>-0.785173</td>\n",
       "      <td>0.122919</td>\n",
       "      <td>-0.212590</td>\n",
       "      <td>-1.042250</td>\n",
       "      <td>0.0</td>\n",
       "      <td>organic</td>\n",
       "      <td>2018</td>\n",
       "      <td>WestTexNewMexico</td>\n",
       "    </tr>\n",
       "  </tbody>\n",
       "</table>\n",
       "<p>18249 rows × 10 columns</p>\n",
       "</div>"
      ],
      "text/plain": [
       "       AveragePrice      4046      4225      4770  Small Bags  Large Bags  \\\n",
       "0              1.33 -0.658619  0.307313 -0.247250   -0.340627   -0.773351   \n",
       "1              1.35 -0.776870  0.231647 -0.201041   -0.306425   -0.763435   \n",
       "2              0.93 -0.731947  0.579503 -0.007072   -0.366303   -0.750820   \n",
       "3              1.08 -0.634200  0.415100 -0.148322   -0.496853   -0.691865   \n",
       "4              1.28 -0.685293  0.224806 -0.137918   -0.477201   -0.600975   \n",
       "...             ...       ...       ...       ...         ...         ...   \n",
       "18244          1.63 -0.467366 -0.919470 -1.238310   -0.178839   -0.410859   \n",
       "18245          1.71 -0.619883 -0.665372 -1.238310   -0.325977   -0.481465   \n",
       "18246          1.87 -0.619831 -0.772496  0.401546   -0.308728   -0.943486   \n",
       "18247          1.93 -0.550282 -0.710543  0.401246   -0.248932   -0.908510   \n",
       "18248          1.62 -0.367908 -0.785173  0.122919   -0.212590   -1.042250   \n",
       "\n",
       "       XLarge Bags          type  year            region  \n",
       "0              0.0  conventional  2015            Albany  \n",
       "1              0.0  conventional  2015            Albany  \n",
       "2              0.0  conventional  2015            Albany  \n",
       "3              0.0  conventional  2015            Albany  \n",
       "4              0.0  conventional  2015            Albany  \n",
       "...            ...           ...   ...               ...  \n",
       "18244          0.0       organic  2018  WestTexNewMexico  \n",
       "18245          0.0       organic  2018  WestTexNewMexico  \n",
       "18246          0.0       organic  2018  WestTexNewMexico  \n",
       "18247          0.0       organic  2018  WestTexNewMexico  \n",
       "18248          0.0       organic  2018  WestTexNewMexico  \n",
       "\n",
       "[18249 rows x 10 columns]"
      ]
     },
     "execution_count": 82,
     "metadata": {},
     "output_type": "execute_result"
    }
   ],
   "source": [
    "df"
   ]
  },
  {
   "cell_type": "code",
   "execution_count": 90,
   "id": "3be6831f",
   "metadata": {},
   "outputs": [
    {
     "name": "stdout",
     "output_type": "stream",
     "text": [
      "['conventional' 'organic']\n",
      "[2015 2016 2017 2018]\n",
      "['Albany' 'Atlanta' 'BaltimoreWashington' 'Boise' 'Boston'\n",
      " 'BuffaloRochester' 'California' 'Charlotte' 'Chicago' 'CincinnatiDayton'\n",
      " 'Columbus' 'DallasFtWorth' 'Denver' 'Detroit' 'GrandRapids' 'GreatLakes'\n",
      " 'HarrisburgScranton' 'HartfordSpringfield' 'Houston' 'Indianapolis'\n",
      " 'Jacksonville' 'LasVegas' 'LosAngeles' 'Louisville' 'MiamiFtLauderdale'\n",
      " 'Midsouth' 'Nashville' 'NewOrleansMobile' 'NewYork' 'Northeast'\n",
      " 'NorthernNewEngland' 'Orlando' 'Philadelphia' 'PhoenixTucson'\n",
      " 'Pittsburgh' 'Plains' 'Portland' 'RaleighGreensboro' 'RichmondNorfolk'\n",
      " 'Roanoke' 'Sacramento' 'SanDiego' 'SanFrancisco' 'Seattle'\n",
      " 'SouthCarolina' 'SouthCentral' 'Southeast' 'Spokane' 'StLouis' 'Syracuse'\n",
      " 'Tampa' 'TotalUS' 'West' 'WestTexNewMexico']\n"
     ]
    }
   ],
   "source": [
    "# encoding the categorical features\n",
    "# checking the nature of the categories to which the categorical features belong to \n",
    "print(df['type'].unique())\n",
    "print(df['year'].unique())\n",
    "print(df['region'].unique())"
   ]
  },
  {
   "cell_type": "markdown",
   "id": "ef4cd5d3",
   "metadata": {},
   "source": [
    "The 'type' is to be binary<br>\n",
    "The 'year' is to be label<br>\n",
    "The 'region' is to be label "
   ]
  },
  {
   "cell_type": "code",
   "execution_count": 94,
   "id": "e980395f",
   "metadata": {},
   "outputs": [],
   "source": [
    "df['type'] = pd.get_dummies(df['type'], drop_first = True)"
   ]
  },
  {
   "cell_type": "code",
   "execution_count": 95,
   "id": "bbb773fd",
   "metadata": {},
   "outputs": [],
   "source": [
    "from sklearn.preprocessing import LabelEncoder"
   ]
  },
  {
   "cell_type": "code",
   "execution_count": 97,
   "id": "70679899",
   "metadata": {},
   "outputs": [],
   "source": [
    "le = LabelEncoder()\n",
    "df['year'] = le.fit_transform(df['year'])"
   ]
  },
  {
   "cell_type": "code",
   "execution_count": 100,
   "id": "9852f35c",
   "metadata": {},
   "outputs": [],
   "source": [
    "df['region'] = le.fit_transform(df['region'])"
   ]
  },
  {
   "cell_type": "code",
   "execution_count": 102,
   "id": "c26be612",
   "metadata": {},
   "outputs": [],
   "source": [
    "# now we are ready to perform a regression analysis to make predictions\n",
    "# first we split the data into a training and testing data set\n",
    "\n",
    "x = df.drop('AveragePrice', axis = 1)\n",
    "y = df['AveragePrice']"
   ]
  },
  {
   "cell_type": "code",
   "execution_count": 105,
   "id": "ba076363",
   "metadata": {},
   "outputs": [],
   "source": [
    "xtrain, xtest, ytrain, ytest = train_test_split(x,y,test_size = 0.2, random_state = 42)"
   ]
  },
  {
   "cell_type": "code",
   "execution_count": 112,
   "id": "666b5e1a",
   "metadata": {},
   "outputs": [],
   "source": [
    "estimators = []\n",
    "\n",
    "lr = LinearRegression()\n",
    "estimators.append(('Linear Regressor',lr))\n",
    "dt = DecisionTreeRegressor()\n",
    "estimators.append(('Decision Tree Regressor',dt))\n",
    "kn = KNeighborsRegressor()\n",
    "estimators.append(('K-Neighbors Regressor',kn))"
   ]
  },
  {
   "cell_type": "code",
   "execution_count": 113,
   "id": "a9c6c7a6",
   "metadata": {},
   "outputs": [
    {
     "name": "stdout",
     "output_type": "stream",
     "text": [
      "Linear Regressor\n",
      "0.292\n",
      "-0.118\n",
      "Decision Tree Regressor\n",
      "0.222\n",
      "0.694\n",
      "K-Neighbors Regressor\n",
      "0.162\n",
      "0.806\n"
     ]
    }
   ],
   "source": [
    "# fit the estimators \n",
    "for estimator in estimators:\n",
    "    estimator[1].fit(xtrain, ytrain)\n",
    "    ypred = estimator[1].predict(xtest)\n",
    "    print(estimator[0])\n",
    "    print(f'{mean_squared_error(ypred, ytest,squared = False):0.3f}')\n",
    "    print(f'{r2_score(ypred, ytest):0.3f}')"
   ]
  },
  {
   "cell_type": "markdown",
   "id": "94da9b1d",
   "metadata": {},
   "source": [
    "The K Neighbors regression model is found to have smallest mean squared error and also high r2 coeffcient. We can attempt to fine tune the linear regression model in order to find a better estimate"
   ]
  },
  {
   "cell_type": "code",
   "execution_count": 114,
   "id": "e296852a",
   "metadata": {},
   "outputs": [],
   "source": [
    "# Hyperparamter Tuning\n",
    "# we perform a tuning on the parameters of the K Neighbors Regressor"
   ]
  },
  {
   "cell_type": "code",
   "execution_count": 115,
   "id": "fea43eb8",
   "metadata": {},
   "outputs": [
    {
     "data": {
      "text/plain": [
       "GridSearchCV(estimator=KNeighborsRegressor(),\n",
       "             param_grid={'n_neighbors': [3, 5, 7, 9, 11, 15, 21]})"
      ]
     },
     "execution_count": 115,
     "metadata": {},
     "output_type": "execute_result"
    }
   ],
   "source": [
    "param_grid = {'n_neighbors' : [3,5,7,9,11,15,21]}\n",
    "gs = GridSearchCV(KNeighborsRegressor(), param_grid = param_grid)\n",
    "gs.fit(xtrain, ytrain)\n"
   ]
  },
  {
   "cell_type": "code",
   "execution_count": 117,
   "id": "fc141ac6",
   "metadata": {},
   "outputs": [],
   "source": [
    "knn_best = gs.best_estimator_"
   ]
  },
  {
   "cell_type": "code",
   "execution_count": 118,
   "id": "7358ed11",
   "metadata": {},
   "outputs": [],
   "source": [
    "ypred = knn_best.predict(xtest)"
   ]
  },
  {
   "cell_type": "code",
   "execution_count": 121,
   "id": "9e2b6df4",
   "metadata": {},
   "outputs": [
    {
     "name": "stdout",
     "output_type": "stream",
     "text": [
      "0.161\n",
      "0.819\n"
     ]
    }
   ],
   "source": [
    "print(f'{mean_squared_error(ypred, ytest,squared = False):0.3f}')\n",
    "print(f'{r2_score(ypred, ytest):0.3f}')"
   ]
  },
  {
   "cell_type": "markdown",
   "id": "fa07518e",
   "metadata": {},
   "source": [
    "The root mean squared has decreased further and the r2_score increased using KNeighbors regression model with 3 nearest neighbors"
   ]
  },
  {
   "cell_type": "code",
   "execution_count": 122,
   "id": "af225f87",
   "metadata": {},
   "outputs": [],
   "source": [
    "# Hence we select the above model and save it\n",
    "import joblib\n",
    "joblib.dump()"
   ]
  },
  {
   "cell_type": "code",
   "execution_count": null,
   "id": "5b029082",
   "metadata": {},
   "outputs": [],
   "source": []
  }
 ],
 "metadata": {
  "kernelspec": {
   "display_name": "Python 3 (ipykernel)",
   "language": "python",
   "name": "python3"
  },
  "language_info": {
   "codemirror_mode": {
    "name": "ipython",
    "version": 3
   },
   "file_extension": ".py",
   "mimetype": "text/x-python",
   "name": "python",
   "nbconvert_exporter": "python",
   "pygments_lexer": "ipython3",
   "version": "3.9.10"
  }
 },
 "nbformat": 4,
 "nbformat_minor": 5
}
