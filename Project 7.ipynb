{
 "cells": [
  {
   "cell_type": "markdown",
   "id": "8a45f7b1",
   "metadata": {},
   "source": [
    "Flight Price Prediction\n",
    "Problem Statement:\n",
    "\n",
    "Flight ticket prices can be something hard to guess, today we might see a price, check out the price of the same flight tomorrow, it will be a different story. We might have often heard travellers saying that flight ticket prices are so unpredictable. Here you will be provided with prices of flight tickets for various airlines between the months of March and June of 2019 and between various cities.\n",
    "\n",
    "Size of training set: 10683 records\n",
    "\n",
    "Size of test set: 2671 records\n",
    "FEATURES:\n",
    "\n",
    "Airline: The name of the airline.\n",
    "\n",
    "Date_of_Journey: The date of the journey\n",
    "\n",
    "Source: The source from which the service begins.\n",
    "\n",
    "Destination: The destination where the service ends.\n",
    "\n",
    "Route: The route taken by the flight to reach the destination.\n",
    "\n",
    "Dep_Time: The time when the journey starts from the source.\n",
    "\n",
    "Arrival_Time: Time of arrival at the destination.\n",
    "\n",
    "Duration: Total duration of the flight.\n",
    "\n",
    "Total_Stops: Total stops between the source and destination.\n",
    "\n",
    "Additional_Info: Additional information about the flight\n",
    "\n",
    "Price: The price of the ticket\n",
    "\n",
    " \n",
    "\n",
    "You have to use your skills as a data scientist and build a machine learning model to predict the price of the flight ticket. "
   ]
  },
  {
   "cell_type": "code",
   "execution_count": 4,
   "id": "ed61139b",
   "metadata": {},
   "outputs": [],
   "source": [
    "# 1. Import the libraries\n",
    "# basics\n",
    "import pandas as pd\n",
    "import numpy as np\n",
    "import matplotlib.pyplot as plt\n",
    "import seaborn as sns\n",
    "\n",
    "# statistical libraries\n",
    "import phik\n",
    "from scipy.stats import pearsonr\n",
    "from scipy.stats import zscore\n",
    "\n",
    "from pandas.api.types import is_numeric_dtype\n",
    "\n",
    "# feature engineering\n",
    "from sklearn.model_selection import train_test_split\n",
    "from sklearn.preprocessing import StandardScaler\n",
    "from sklearn.preprocessing import PowerTransformer\n",
    "\n",
    "from sklearn.linear_model import LinearRegression, LogisticRegression\n",
    "from sklearn.tree import DecisionTreeRegressor, DecisionTreeClassifier\n",
    "from sklearn.neighbors import KNeighborsRegressor, KNeighborsClassifier\n",
    "from sklearn.ensemble import RandomForestClassifier\n",
    "\n",
    "# metrics \n",
    "from sklearn.metrics import mean_squared_error, r2_score\n",
    "from sklearn.metrics import confusion_matrix, f1_score, roc_auc_score, classification_report\n",
    "from sklearn.metrics import accuracy_score, plot_roc_curve\n",
    "\n",
    "# Hyperparameter tuning\n",
    "from sklearn.model_selection import GridSearchCV\n",
    "\n",
    "# suppress warnings\n",
    "import warnings\n",
    "warnings.filterwarnings('ignore')"
   ]
  },
  {
   "cell_type": "code",
   "execution_count": 36,
   "id": "9bf66f7c",
   "metadata": {},
   "outputs": [],
   "source": [
    "df1 = pd.read_excel('Flight_Prediction/Data_Train.xlsx')\n",
    "df2 = pd.read_excel('Flight_Prediction/Test_set.xlsx')\n",
    "df3 = pd.read_excel('Flight_Prediction/Sample_submission.xlsx')"
   ]
  },
  {
   "cell_type": "code",
   "execution_count": 37,
   "id": "0f897b01",
   "metadata": {},
   "outputs": [],
   "source": [
    "# Complete test set \n",
    "df2 = pd.concat([df2, df3], axis = 1)"
   ]
  },
  {
   "cell_type": "code",
   "execution_count": 38,
   "id": "2869554d",
   "metadata": {},
   "outputs": [],
   "source": [
    "# Combining the test and training datasets\n",
    "df = pd.concat([df1, df2], axis = 0)"
   ]
  },
  {
   "cell_type": "code",
   "execution_count": 39,
   "id": "b2ca4608",
   "metadata": {},
   "outputs": [],
   "source": [
    "# Now we have shuffled the training and test data set\n",
    "np.random.seed(42)\n",
    "indices = np.random.permutation(range(len(df)))\n",
    "df = df.iloc[indices, :]"
   ]
  },
  {
   "cell_type": "code",
   "execution_count": 43,
   "id": "f04601fe",
   "metadata": {},
   "outputs": [],
   "source": [
    "# looking at the data\n",
    "df.reset_index(inplace = True)\n",
    "df.drop('index', inplace = True, axis = 1)"
   ]
  },
  {
   "cell_type": "code",
   "execution_count": 45,
   "id": "36d276a7",
   "metadata": {},
   "outputs": [
    {
     "data": {
      "text/html": [
       "<div>\n",
       "<style scoped>\n",
       "    .dataframe tbody tr th:only-of-type {\n",
       "        vertical-align: middle;\n",
       "    }\n",
       "\n",
       "    .dataframe tbody tr th {\n",
       "        vertical-align: top;\n",
       "    }\n",
       "\n",
       "    .dataframe thead th {\n",
       "        text-align: right;\n",
       "    }\n",
       "</style>\n",
       "<table border=\"1\" class=\"dataframe\">\n",
       "  <thead>\n",
       "    <tr style=\"text-align: right;\">\n",
       "      <th></th>\n",
       "      <th>Airline</th>\n",
       "      <th>Date_of_Journey</th>\n",
       "      <th>Source</th>\n",
       "      <th>Destination</th>\n",
       "      <th>Route</th>\n",
       "      <th>Dep_Time</th>\n",
       "      <th>Arrival_Time</th>\n",
       "      <th>Duration</th>\n",
       "      <th>Total_Stops</th>\n",
       "      <th>Additional_Info</th>\n",
       "      <th>Price</th>\n",
       "    </tr>\n",
       "  </thead>\n",
       "  <tbody>\n",
       "    <tr>\n",
       "      <th>0</th>\n",
       "      <td>Jet Airways</td>\n",
       "      <td>9/06/2019</td>\n",
       "      <td>Mumbai</td>\n",
       "      <td>Hyderabad</td>\n",
       "      <td>BOM → HYD</td>\n",
       "      <td>07:05</td>\n",
       "      <td>08:30</td>\n",
       "      <td>1h 25m</td>\n",
       "      <td>non-stop</td>\n",
       "      <td>In-flight meal not included</td>\n",
       "      <td>4050</td>\n",
       "    </tr>\n",
       "    <tr>\n",
       "      <th>1</th>\n",
       "      <td>Jet Airways</td>\n",
       "      <td>06/03/2019</td>\n",
       "      <td>Banglore</td>\n",
       "      <td>New Delhi</td>\n",
       "      <td>BLR → BOM → DEL</td>\n",
       "      <td>14:05</td>\n",
       "      <td>09:00 07 Mar</td>\n",
       "      <td>18h 55m</td>\n",
       "      <td>1 stop</td>\n",
       "      <td>No info</td>\n",
       "      <td>17261</td>\n",
       "    </tr>\n",
       "    <tr>\n",
       "      <th>2</th>\n",
       "      <td>Air Asia</td>\n",
       "      <td>21/04/2019</td>\n",
       "      <td>Delhi</td>\n",
       "      <td>Cochin</td>\n",
       "      <td>DEL → BLR → COK</td>\n",
       "      <td>07:55</td>\n",
       "      <td>15:45</td>\n",
       "      <td>7h 50m</td>\n",
       "      <td>1 stop</td>\n",
       "      <td>No info</td>\n",
       "      <td>16575</td>\n",
       "    </tr>\n",
       "    <tr>\n",
       "      <th>3</th>\n",
       "      <td>Jet Airways</td>\n",
       "      <td>24/05/2019</td>\n",
       "      <td>Kolkata</td>\n",
       "      <td>Banglore</td>\n",
       "      <td>CCU → DEL → BLR</td>\n",
       "      <td>09:35</td>\n",
       "      <td>23:35</td>\n",
       "      <td>14h</td>\n",
       "      <td>1 stop</td>\n",
       "      <td>No info</td>\n",
       "      <td>14151</td>\n",
       "    </tr>\n",
       "    <tr>\n",
       "      <th>4</th>\n",
       "      <td>Air India</td>\n",
       "      <td>21/04/2019</td>\n",
       "      <td>Delhi</td>\n",
       "      <td>Cochin</td>\n",
       "      <td>DEL → BLR → COK</td>\n",
       "      <td>20:30</td>\n",
       "      <td>23:00 22 Apr</td>\n",
       "      <td>26h 30m</td>\n",
       "      <td>1 stop</td>\n",
       "      <td>No info</td>\n",
       "      <td>7174</td>\n",
       "    </tr>\n",
       "  </tbody>\n",
       "</table>\n",
       "</div>"
      ],
      "text/plain": [
       "       Airline Date_of_Journey    Source Destination            Route  \\\n",
       "0  Jet Airways       9/06/2019    Mumbai   Hyderabad        BOM → HYD   \n",
       "1  Jet Airways      06/03/2019  Banglore   New Delhi  BLR → BOM → DEL   \n",
       "2     Air Asia      21/04/2019     Delhi      Cochin  DEL → BLR → COK   \n",
       "3  Jet Airways      24/05/2019   Kolkata    Banglore  CCU → DEL → BLR   \n",
       "4    Air India      21/04/2019     Delhi      Cochin  DEL → BLR → COK   \n",
       "\n",
       "  Dep_Time  Arrival_Time Duration Total_Stops              Additional_Info  \\\n",
       "0    07:05         08:30   1h 25m    non-stop  In-flight meal not included   \n",
       "1    14:05  09:00 07 Mar  18h 55m      1 stop                      No info   \n",
       "2    07:55         15:45   7h 50m      1 stop                      No info   \n",
       "3    09:35         23:35      14h      1 stop                      No info   \n",
       "4    20:30  23:00 22 Apr  26h 30m      1 stop                      No info   \n",
       "\n",
       "   Price  \n",
       "0   4050  \n",
       "1  17261  \n",
       "2  16575  \n",
       "3  14151  \n",
       "4   7174  "
      ]
     },
     "execution_count": 45,
     "metadata": {},
     "output_type": "execute_result"
    }
   ],
   "source": [
    "df.head()"
   ]
  },
  {
   "cell_type": "code",
   "execution_count": 46,
   "id": "3cc3ebab",
   "metadata": {},
   "outputs": [
    {
     "name": "stdout",
     "output_type": "stream",
     "text": [
      "<class 'pandas.core.frame.DataFrame'>\n",
      "RangeIndex: 13354 entries, 0 to 13353\n",
      "Data columns (total 11 columns):\n",
      " #   Column           Non-Null Count  Dtype \n",
      "---  ------           --------------  ----- \n",
      " 0   Airline          13354 non-null  object\n",
      " 1   Date_of_Journey  13354 non-null  object\n",
      " 2   Source           13354 non-null  object\n",
      " 3   Destination      13354 non-null  object\n",
      " 4   Route            13353 non-null  object\n",
      " 5   Dep_Time         13354 non-null  object\n",
      " 6   Arrival_Time     13354 non-null  object\n",
      " 7   Duration         13354 non-null  object\n",
      " 8   Total_Stops      13353 non-null  object\n",
      " 9   Additional_Info  13354 non-null  object\n",
      " 10  Price            13354 non-null  int64 \n",
      "dtypes: int64(1), object(10)\n",
      "memory usage: 1.1+ MB\n"
     ]
    }
   ],
   "source": [
    "# Checking for the data type of the features\n",
    "df.info()"
   ]
  },
  {
   "cell_type": "code",
   "execution_count": 49,
   "id": "50bc6680",
   "metadata": {},
   "outputs": [
    {
     "data": {
      "text/html": [
       "<div>\n",
       "<style scoped>\n",
       "    .dataframe tbody tr th:only-of-type {\n",
       "        vertical-align: middle;\n",
       "    }\n",
       "\n",
       "    .dataframe tbody tr th {\n",
       "        vertical-align: top;\n",
       "    }\n",
       "\n",
       "    .dataframe thead th {\n",
       "        text-align: right;\n",
       "    }\n",
       "</style>\n",
       "<table border=\"1\" class=\"dataframe\">\n",
       "  <thead>\n",
       "    <tr style=\"text-align: right;\">\n",
       "      <th></th>\n",
       "      <th>Price</th>\n",
       "    </tr>\n",
       "  </thead>\n",
       "  <tbody>\n",
       "    <tr>\n",
       "      <th>count</th>\n",
       "      <td>13354.0</td>\n",
       "    </tr>\n",
       "    <tr>\n",
       "      <th>mean</th>\n",
       "      <td>11302.0</td>\n",
       "    </tr>\n",
       "    <tr>\n",
       "      <th>std</th>\n",
       "      <td>6453.0</td>\n",
       "    </tr>\n",
       "    <tr>\n",
       "      <th>min</th>\n",
       "      <td>1759.0</td>\n",
       "    </tr>\n",
       "    <tr>\n",
       "      <th>25%</th>\n",
       "      <td>6135.0</td>\n",
       "    </tr>\n",
       "    <tr>\n",
       "      <th>50%</th>\n",
       "      <td>10262.0</td>\n",
       "    </tr>\n",
       "    <tr>\n",
       "      <th>75%</th>\n",
       "      <td>14781.0</td>\n",
       "    </tr>\n",
       "    <tr>\n",
       "      <th>max</th>\n",
       "      <td>79512.0</td>\n",
       "    </tr>\n",
       "  </tbody>\n",
       "</table>\n",
       "</div>"
      ],
      "text/plain": [
       "         Price\n",
       "count  13354.0\n",
       "mean   11302.0\n",
       "std     6453.0\n",
       "min     1759.0\n",
       "25%     6135.0\n",
       "50%    10262.0\n",
       "75%    14781.0\n",
       "max    79512.0"
      ]
     },
     "execution_count": 49,
     "metadata": {},
     "output_type": "execute_result"
    }
   ],
   "source": [
    "# all the features have a categorical datatype, with one possible missing value\n",
    "# The statistics of only the response variable will be available at this moment\n",
    "df.describe().round()"
   ]
  },
  {
   "cell_type": "markdown",
   "id": "036beda9",
   "metadata": {},
   "source": [
    "Looks all good "
   ]
  },
  {
   "cell_type": "code",
   "execution_count": 50,
   "id": "bdf319b9",
   "metadata": {},
   "outputs": [
    {
     "data": {
      "text/plain": [
       "Airline            0\n",
       "Date_of_Journey    0\n",
       "Source             0\n",
       "Destination        0\n",
       "Route              1\n",
       "Dep_Time           0\n",
       "Arrival_Time       0\n",
       "Duration           0\n",
       "Total_Stops        1\n",
       "Additional_Info    0\n",
       "Price              0\n",
       "dtype: int64"
      ]
     },
     "execution_count": 50,
     "metadata": {},
     "output_type": "execute_result"
    }
   ],
   "source": [
    "# Doing a double check to find if there are any missing values\n",
    "df.isnull().sum()"
   ]
  },
  {
   "cell_type": "markdown",
   "id": "a93a2e1d",
   "metadata": {},
   "source": [
    "as previously observed there is just one in the two features, Route and Total Stops"
   ]
  },
  {
   "cell_type": "code",
   "execution_count": 52,
   "id": "05285241",
   "metadata": {},
   "outputs": [
    {
     "data": {
      "text/html": [
       "<div>\n",
       "<style scoped>\n",
       "    .dataframe tbody tr th:only-of-type {\n",
       "        vertical-align: middle;\n",
       "    }\n",
       "\n",
       "    .dataframe tbody tr th {\n",
       "        vertical-align: top;\n",
       "    }\n",
       "\n",
       "    .dataframe thead th {\n",
       "        text-align: right;\n",
       "    }\n",
       "</style>\n",
       "<table border=\"1\" class=\"dataframe\">\n",
       "  <thead>\n",
       "    <tr style=\"text-align: right;\">\n",
       "      <th></th>\n",
       "      <th>Airline</th>\n",
       "      <th>Date_of_Journey</th>\n",
       "      <th>Source</th>\n",
       "      <th>Destination</th>\n",
       "      <th>Route</th>\n",
       "      <th>Dep_Time</th>\n",
       "      <th>Arrival_Time</th>\n",
       "      <th>Duration</th>\n",
       "      <th>Total_Stops</th>\n",
       "      <th>Additional_Info</th>\n",
       "      <th>Price</th>\n",
       "    </tr>\n",
       "  </thead>\n",
       "  <tbody>\n",
       "    <tr>\n",
       "      <th>0</th>\n",
       "      <td>Jet Airways</td>\n",
       "      <td>9/06/2019</td>\n",
       "      <td>Mumbai</td>\n",
       "      <td>Hyderabad</td>\n",
       "      <td>BOM → HYD</td>\n",
       "      <td>07:05</td>\n",
       "      <td>08:30</td>\n",
       "      <td>1h 25m</td>\n",
       "      <td>non-stop</td>\n",
       "      <td>In-flight meal not included</td>\n",
       "      <td>4050</td>\n",
       "    </tr>\n",
       "    <tr>\n",
       "      <th>1</th>\n",
       "      <td>Jet Airways</td>\n",
       "      <td>06/03/2019</td>\n",
       "      <td>Banglore</td>\n",
       "      <td>New Delhi</td>\n",
       "      <td>BLR → BOM → DEL</td>\n",
       "      <td>14:05</td>\n",
       "      <td>09:00 07 Mar</td>\n",
       "      <td>18h 55m</td>\n",
       "      <td>1 stop</td>\n",
       "      <td>No info</td>\n",
       "      <td>17261</td>\n",
       "    </tr>\n",
       "    <tr>\n",
       "      <th>2</th>\n",
       "      <td>Air Asia</td>\n",
       "      <td>21/04/2019</td>\n",
       "      <td>Delhi</td>\n",
       "      <td>Cochin</td>\n",
       "      <td>DEL → BLR → COK</td>\n",
       "      <td>07:55</td>\n",
       "      <td>15:45</td>\n",
       "      <td>7h 50m</td>\n",
       "      <td>1 stop</td>\n",
       "      <td>No info</td>\n",
       "      <td>16575</td>\n",
       "    </tr>\n",
       "  </tbody>\n",
       "</table>\n",
       "</div>"
      ],
      "text/plain": [
       "       Airline Date_of_Journey    Source Destination            Route  \\\n",
       "0  Jet Airways       9/06/2019    Mumbai   Hyderabad        BOM → HYD   \n",
       "1  Jet Airways      06/03/2019  Banglore   New Delhi  BLR → BOM → DEL   \n",
       "2     Air Asia      21/04/2019     Delhi      Cochin  DEL → BLR → COK   \n",
       "\n",
       "  Dep_Time  Arrival_Time Duration Total_Stops              Additional_Info  \\\n",
       "0    07:05         08:30   1h 25m    non-stop  In-flight meal not included   \n",
       "1    14:05  09:00 07 Mar  18h 55m      1 stop                      No info   \n",
       "2    07:55         15:45   7h 50m      1 stop                      No info   \n",
       "\n",
       "   Price  \n",
       "0   4050  \n",
       "1  17261  \n",
       "2  16575  "
      ]
     },
     "execution_count": 52,
     "metadata": {},
     "output_type": "execute_result"
    }
   ],
   "source": [
    "df.head(3)"
   ]
  },
  {
   "cell_type": "markdown",
   "id": "3bdd8955",
   "metadata": {},
   "source": [
    "Taking a look at some columns, Dep_Time and Arrival_Time are redundant as we already have Duration. Also source and desitination is redundant as we have route.<br>\n",
    "we hence drop the features Dept_Time and Arrival_Time"
   ]
  },
  {
   "cell_type": "code",
   "execution_count": 53,
   "id": "5ea10923",
   "metadata": {},
   "outputs": [],
   "source": [
    "df.drop(columns = ['Dep_Time', 'Arrival_Time'], inplace = True)"
   ]
  },
  {
   "cell_type": "code",
   "execution_count": 54,
   "id": "36bf04c3",
   "metadata": {},
   "outputs": [
    {
     "data": {
      "text/html": [
       "<div>\n",
       "<style scoped>\n",
       "    .dataframe tbody tr th:only-of-type {\n",
       "        vertical-align: middle;\n",
       "    }\n",
       "\n",
       "    .dataframe tbody tr th {\n",
       "        vertical-align: top;\n",
       "    }\n",
       "\n",
       "    .dataframe thead th {\n",
       "        text-align: right;\n",
       "    }\n",
       "</style>\n",
       "<table border=\"1\" class=\"dataframe\">\n",
       "  <thead>\n",
       "    <tr style=\"text-align: right;\">\n",
       "      <th></th>\n",
       "      <th>Airline</th>\n",
       "      <th>Date_of_Journey</th>\n",
       "      <th>Source</th>\n",
       "      <th>Destination</th>\n",
       "      <th>Route</th>\n",
       "      <th>Duration</th>\n",
       "      <th>Total_Stops</th>\n",
       "      <th>Additional_Info</th>\n",
       "      <th>Price</th>\n",
       "    </tr>\n",
       "  </thead>\n",
       "  <tbody>\n",
       "    <tr>\n",
       "      <th>0</th>\n",
       "      <td>Jet Airways</td>\n",
       "      <td>9/06/2019</td>\n",
       "      <td>Mumbai</td>\n",
       "      <td>Hyderabad</td>\n",
       "      <td>BOM → HYD</td>\n",
       "      <td>1h 25m</td>\n",
       "      <td>non-stop</td>\n",
       "      <td>In-flight meal not included</td>\n",
       "      <td>4050</td>\n",
       "    </tr>\n",
       "    <tr>\n",
       "      <th>1</th>\n",
       "      <td>Jet Airways</td>\n",
       "      <td>06/03/2019</td>\n",
       "      <td>Banglore</td>\n",
       "      <td>New Delhi</td>\n",
       "      <td>BLR → BOM → DEL</td>\n",
       "      <td>18h 55m</td>\n",
       "      <td>1 stop</td>\n",
       "      <td>No info</td>\n",
       "      <td>17261</td>\n",
       "    </tr>\n",
       "  </tbody>\n",
       "</table>\n",
       "</div>"
      ],
      "text/plain": [
       "       Airline Date_of_Journey    Source Destination            Route  \\\n",
       "0  Jet Airways       9/06/2019    Mumbai   Hyderabad        BOM → HYD   \n",
       "1  Jet Airways      06/03/2019  Banglore   New Delhi  BLR → BOM → DEL   \n",
       "\n",
       "  Duration Total_Stops              Additional_Info  Price  \n",
       "0   1h 25m    non-stop  In-flight meal not included   4050  \n",
       "1  18h 55m      1 stop                      No info  17261  "
      ]
     },
     "execution_count": 54,
     "metadata": {},
     "output_type": "execute_result"
    }
   ],
   "source": [
    "df.head(2)"
   ]
  },
  {
   "cell_type": "code",
   "execution_count": 68,
   "id": "0e62e6ff",
   "metadata": {},
   "outputs": [],
   "source": [
    "df['Date_of_Journey'] = pd.to_datetime(df['Date_of_Journey'])"
   ]
  },
  {
   "cell_type": "code",
   "execution_count": 69,
   "id": "1cd98522",
   "metadata": {},
   "outputs": [],
   "source": [
    "# Next we check for the variabilty in the dataset"
   ]
  },
  {
   "cell_type": "code",
   "execution_count": 70,
   "id": "fd40192f",
   "metadata": {},
   "outputs": [
    {
     "name": "stdout",
     "output_type": "stream",
     "text": [
      "Airline                        : 0.090\n",
      "Date_of_Journey                : 0.300\n",
      "Source                         : 0.037\n",
      "Destination                    : 0.045\n",
      "Route                          : 0.996\n",
      "Duration                       : 2.801\n",
      "Total_Stops                    : 0.045\n",
      "Additional_Info                : 0.075\n"
     ]
    }
   ],
   "source": [
    "for col in df.columns[:-1]:\n",
    "    print(f\"{col:30s} : {df[col].unique().shape[0]/len(df)*100:0.3f}\")"
   ]
  },
  {
   "cell_type": "code",
   "execution_count": 71,
   "id": "a86e92f6",
   "metadata": {},
   "outputs": [],
   "source": [
    "# Checking for the uniqueness of the features in the dataset\n",
    "for col in df.columns[:-1]:\n",
    "    if(df[col].unique().shape[0] == 1):\n",
    "        print(col)"
   ]
  },
  {
   "cell_type": "code",
   "execution_count": 72,
   "id": "4cd820d6",
   "metadata": {},
   "outputs": [],
   "source": [
    "# There aren't any unique values in the dataset and also there are features with a high variability"
   ]
  },
  {
   "cell_type": "markdown",
   "id": "87bafb34",
   "metadata": {},
   "source": [
    "The variation in the Route feature much higher than that in the Source and Destination features,\n",
    "hence we drop it. This is to reduce the redundancy in data"
   ]
  },
  {
   "cell_type": "code",
   "execution_count": 97,
   "id": "e94daf88",
   "metadata": {},
   "outputs": [],
   "source": [
    "df.drop('Route', axis = 1, inplace = True)"
   ]
  },
  {
   "cell_type": "code",
   "execution_count": 110,
   "id": "f892580a",
   "metadata": {},
   "outputs": [
    {
     "name": "stdout",
     "output_type": "stream",
     "text": [
      "Addtional_Info feature missing data : 78.576%\n"
     ]
    }
   ],
   "source": [
    "print(f\"Addtional_Info feature missing data : {np.where(df['Additional_Info'] == 'No info')[0].shape[0]/len(df)*100:0.3f}%\")"
   ]
  },
  {
   "cell_type": "code",
   "execution_count": 111,
   "id": "a7a18693",
   "metadata": {},
   "outputs": [],
   "source": [
    "# Since we have 78% of the data missing, we decide to drop this feature\n",
    "df.drop('Additional_Info', inplace = True, axis = 1)"
   ]
  },
  {
   "cell_type": "code",
   "execution_count": 270,
   "id": "d1d8a4bf",
   "metadata": {},
   "outputs": [],
   "source": [
    "# Next we convert the Duration column to an int value\n",
    "time = df['Duration'].str.split('h')"
   ]
  },
  {
   "cell_type": "code",
   "execution_count": 288,
   "id": "e367fbbf",
   "metadata": {},
   "outputs": [
    {
     "name": "stdout",
     "output_type": "stream",
     "text": [
      "8242\n",
      "9489\n"
     ]
    }
   ],
   "source": [
    "for i in range(len(df)):\n",
    "    if(len(time[i]) < 2):\n",
    "        print(i)"
   ]
  },
  {
   "cell_type": "code",
   "execution_count": 279,
   "id": "3a689848",
   "metadata": {},
   "outputs": [
    {
     "name": "stdout",
     "output_type": "stream",
     "text": [
      "['5m']\n",
      "['5m']\n"
     ]
    }
   ],
   "source": [
    "print(time[8242])\n",
    "print(time[9489])"
   ]
  },
  {
   "cell_type": "code",
   "execution_count": 285,
   "id": "5d245c57",
   "metadata": {},
   "outputs": [
    {
     "data": {
      "text/plain": [
       "(13354, 7)"
      ]
     },
     "execution_count": 285,
     "metadata": {},
     "output_type": "execute_result"
    }
   ],
   "source": [
    "df.shape"
   ]
  },
  {
   "cell_type": "code",
   "execution_count": 286,
   "id": "b23b0521",
   "metadata": {},
   "outputs": [],
   "source": [
    "# The duration of the flight cannot as less than 5 minutes\n",
    "# hence we drop the two rows\n",
    "df.drop(index = [8242, 9489], inplace = True)"
   ]
  },
  {
   "cell_type": "code",
   "execution_count": 295,
   "id": "a32464d2",
   "metadata": {},
   "outputs": [],
   "source": [
    "df.reset_index(inplace = True)"
   ]
  },
  {
   "cell_type": "code",
   "execution_count": 298,
   "id": "3b006260",
   "metadata": {},
   "outputs": [],
   "source": [
    "df.drop('index', axis =1, inplace = True)"
   ]
  },
  {
   "cell_type": "code",
   "execution_count": 338,
   "id": "37a3380d",
   "metadata": {},
   "outputs": [],
   "source": [
    "time = df['Duration'].str.split('h')"
   ]
  },
  {
   "cell_type": "code",
   "execution_count": 347,
   "id": "30ed500a",
   "metadata": {},
   "outputs": [],
   "source": [
    "h_indices = []\n",
    "hm_indices = []\n",
    "for i in range(len(df)):\n",
    "    if(time[i][1].split('m')[0] == ''):\n",
    "        h_indices.append(i)\n",
    "    else:\n",
    "        hm_indices.append(i)"
   ]
  },
  {
   "cell_type": "code",
   "execution_count": 359,
   "id": "f0af759d",
   "metadata": {},
   "outputs": [],
   "source": [
    "for i in h_indices:\n",
    "    time[i] = int(time[i][0])"
   ]
  },
  {
   "cell_type": "code",
   "execution_count": 369,
   "id": "6f5625f8",
   "metadata": {},
   "outputs": [],
   "source": [
    "for i in hm_indices:\n",
    "    time[i] = int(time[i][0]) + int(time[i][1].split('m')[0])/60"
   ]
  },
  {
   "cell_type": "code",
   "execution_count": 371,
   "id": "639e39cd",
   "metadata": {},
   "outputs": [],
   "source": [
    "df['Duration'] = time"
   ]
  },
  {
   "cell_type": "code",
   "execution_count": 380,
   "id": "d9d9a35f",
   "metadata": {},
   "outputs": [],
   "source": [
    "df['Duration'] = df['Duration'].astype('float32')"
   ]
  },
  {
   "cell_type": "code",
   "execution_count": 381,
   "id": "956caf5b",
   "metadata": {},
   "outputs": [
    {
     "name": "stdout",
     "output_type": "stream",
     "text": [
      "<class 'pandas.core.frame.DataFrame'>\n",
      "RangeIndex: 13352 entries, 0 to 13351\n",
      "Data columns (total 7 columns):\n",
      " #   Column           Non-Null Count  Dtype         \n",
      "---  ------           --------------  -----         \n",
      " 0   Airline          13352 non-null  object        \n",
      " 1   Date_of_Journey  13352 non-null  datetime64[ns]\n",
      " 2   Source           13352 non-null  object        \n",
      " 3   Destination      13352 non-null  object        \n",
      " 4   Duration         13352 non-null  float32       \n",
      " 5   Total_Stops      13351 non-null  object        \n",
      " 6   Price            13352 non-null  int64         \n",
      "dtypes: datetime64[ns](1), float32(1), int64(1), object(4)\n",
      "memory usage: 678.2+ KB\n"
     ]
    }
   ],
   "source": [
    "df.info()"
   ]
  },
  {
   "cell_type": "code",
   "execution_count": 383,
   "id": "54dfb7d4",
   "metadata": {},
   "outputs": [
    {
     "data": {
      "text/html": [
       "<div>\n",
       "<style scoped>\n",
       "    .dataframe tbody tr th:only-of-type {\n",
       "        vertical-align: middle;\n",
       "    }\n",
       "\n",
       "    .dataframe tbody tr th {\n",
       "        vertical-align: top;\n",
       "    }\n",
       "\n",
       "    .dataframe thead th {\n",
       "        text-align: right;\n",
       "    }\n",
       "</style>\n",
       "<table border=\"1\" class=\"dataframe\">\n",
       "  <thead>\n",
       "    <tr style=\"text-align: right;\">\n",
       "      <th></th>\n",
       "      <th>Airline</th>\n",
       "      <th>Date_of_Journey</th>\n",
       "      <th>Source</th>\n",
       "      <th>Destination</th>\n",
       "      <th>Duration</th>\n",
       "      <th>Total_Stops</th>\n",
       "      <th>Price</th>\n",
       "    </tr>\n",
       "  </thead>\n",
       "  <tbody>\n",
       "    <tr>\n",
       "      <th>0</th>\n",
       "      <td>Jet Airways</td>\n",
       "      <td>2019-09-06</td>\n",
       "      <td>Mumbai</td>\n",
       "      <td>Hyderabad</td>\n",
       "      <td>1.416667</td>\n",
       "      <td>non-stop</td>\n",
       "      <td>4050</td>\n",
       "    </tr>\n",
       "    <tr>\n",
       "      <th>1</th>\n",
       "      <td>Jet Airways</td>\n",
       "      <td>2019-06-03</td>\n",
       "      <td>Banglore</td>\n",
       "      <td>New Delhi</td>\n",
       "      <td>18.916666</td>\n",
       "      <td>1 stop</td>\n",
       "      <td>17261</td>\n",
       "    </tr>\n",
       "    <tr>\n",
       "      <th>2</th>\n",
       "      <td>Air Asia</td>\n",
       "      <td>2019-04-21</td>\n",
       "      <td>Delhi</td>\n",
       "      <td>Cochin</td>\n",
       "      <td>7.833333</td>\n",
       "      <td>1 stop</td>\n",
       "      <td>16575</td>\n",
       "    </tr>\n",
       "    <tr>\n",
       "      <th>3</th>\n",
       "      <td>Jet Airways</td>\n",
       "      <td>2019-05-24</td>\n",
       "      <td>Kolkata</td>\n",
       "      <td>Banglore</td>\n",
       "      <td>14.000000</td>\n",
       "      <td>1 stop</td>\n",
       "      <td>14151</td>\n",
       "    </tr>\n",
       "    <tr>\n",
       "      <th>4</th>\n",
       "      <td>Air India</td>\n",
       "      <td>2019-04-21</td>\n",
       "      <td>Delhi</td>\n",
       "      <td>Cochin</td>\n",
       "      <td>26.500000</td>\n",
       "      <td>1 stop</td>\n",
       "      <td>7174</td>\n",
       "    </tr>\n",
       "  </tbody>\n",
       "</table>\n",
       "</div>"
      ],
      "text/plain": [
       "       Airline Date_of_Journey    Source Destination   Duration Total_Stops  \\\n",
       "0  Jet Airways      2019-09-06    Mumbai   Hyderabad   1.416667    non-stop   \n",
       "1  Jet Airways      2019-06-03  Banglore   New Delhi  18.916666      1 stop   \n",
       "2     Air Asia      2019-04-21     Delhi      Cochin   7.833333      1 stop   \n",
       "3  Jet Airways      2019-05-24   Kolkata    Banglore  14.000000      1 stop   \n",
       "4    Air India      2019-04-21     Delhi      Cochin  26.500000      1 stop   \n",
       "\n",
       "   Price  \n",
       "0   4050  \n",
       "1  17261  \n",
       "2  16575  \n",
       "3  14151  \n",
       "4   7174  "
      ]
     },
     "execution_count": 383,
     "metadata": {},
     "output_type": "execute_result"
    }
   ],
   "source": [
    "df.head()"
   ]
  },
  {
   "cell_type": "code",
   "execution_count": 389,
   "id": "8aad78a9",
   "metadata": {},
   "outputs": [
    {
     "data": {
      "image/png": "[encoded data removed]",
      "text/plain": [
       "<Figure size 576x576 with 1 Axes>"
      ]
     },
     "metadata": {
      "needs_background": "light"
     },
     "output_type": "display_data"
    }
   ],
   "source": [
    "# Checking the distribution of the Duration feature\n",
    "plt.figure(figsize = (8, 8))\n",
    "sns.histplot(df['Duration'], kde = True, stat = 'density')\n",
    "plt.show()"
   ]
  },
  {
   "cell_type": "code",
   "execution_count": 391,
   "id": "9d0917fe",
   "metadata": {},
   "outputs": [
    {
     "data": {
      "image/png": "[encoded data removed]",
      "text/plain": [
       "<Figure size 576x576 with 1 Axes>"
      ]
     },
     "metadata": {
      "needs_background": "light"
     },
     "output_type": "display_data"
    }
   ],
   "source": [
    "# The feature seems to have some outliers, hence we check for outliers with the boxplot\n",
    "plt.figure(figsize = (8,8))\n",
    "sns.boxplot(df['Duration'], orient = 'h')\n",
    "plt.show()"
   ]
  },
  {
   "cell_type": "code",
   "execution_count": 402,
   "id": "c9379448",
   "metadata": {},
   "outputs": [
    {
     "name": "stdout",
     "output_type": "stream",
     "text": [
      "%age of data lost : 24.77%\n"
     ]
    }
   ],
   "source": [
    "# As expected there are quite a few outliers and we try and drop them\n",
    "q1 = df['Duration'].quantile(0.25)\n",
    "q3 = df['Duration'].quantile(0.75)\n",
    "\n",
    "iqr = q3 - q1\n",
    "# finding the upper quantile values\n",
    "\n",
    "hi = q3 + 1.5 * iqr\n",
    "\n",
    "print(f\"%age of data lost : {np.where(df['Duration'] > q3)[0].shape[0]/len(df)*100:0.2f}%\")"
   ]
  },
  {
   "cell_type": "code",
   "execution_count": 423,
   "id": "53dec5e4",
   "metadata": {},
   "outputs": [],
   "source": [
    "# Attempting to remove outliers using the zscore\n",
    "from scipy.stats import zscore\n",
    "z = np.abs(zscore(df[['Duration']]))"
   ]
  },
  {
   "cell_type": "code",
   "execution_count": 433,
   "id": "2fd4d260",
   "metadata": {},
   "outputs": [
    {
     "name": "stdout",
     "output_type": "stream",
     "text": [
      "%age of data lost : 0.629%\n"
     ]
    }
   ],
   "source": [
    "print(f\"%age of data lost : {len(df[(z > 3).all(axis = 1)])/len(df)*100:0.3f}%\")"
   ]
  },
  {
   "cell_type": "code",
   "execution_count": 434,
   "id": "56e48b50",
   "metadata": {},
   "outputs": [],
   "source": [
    "temp = df[(z < 3).all(axis = 1)]"
   ]
  },
  {
   "cell_type": "code",
   "execution_count": 437,
   "id": "0ea7c0eb",
   "metadata": {},
   "outputs": [
    {
     "data": {
      "image/png": "[encoded data removed]",
      "text/plain": [
       "<Figure size 576x576 with 1 Axes>"
      ]
     },
     "metadata": {
      "needs_background": "light"
     },
     "output_type": "display_data"
    }
   ],
   "source": [
    "# plotting the Duration feature to check for removed outliers\n",
    "plt.figure(figsize = (8,8))\n",
    "sns.boxplot(temp['Duration'], orient = 'h')\n",
    "plt.show()"
   ]
  },
  {
   "cell_type": "code",
   "execution_count": 439,
   "id": "bf0ef2dc",
   "metadata": {},
   "outputs": [
    {
     "data": {
      "image/png": "[encoded data removed]",
      "text/plain": [
       "<Figure size 576x576 with 1 Axes>"
      ]
     },
     "metadata": {
      "needs_background": "light"
     },
     "output_type": "display_data"
    }
   ],
   "source": [
    "# Quite a few of the outliers have been removed, next we check the distribution again\n",
    "plt.figure(figsize = (8,8))\n",
    "sns.histplot(temp['Duration'], kde = True, stat = 'density')\n",
    "plt.show()"
   ]
  },
  {
   "cell_type": "code",
   "execution_count": 440,
   "id": "4e528105",
   "metadata": {},
   "outputs": [],
   "source": [
    "df = temp"
   ]
  },
  {
   "cell_type": "code",
   "execution_count": 442,
   "id": "4bb09039",
   "metadata": {},
   "outputs": [],
   "source": [
    "# The outliers seems to be removed, we next normalize the data\n",
    "from sklearn.preprocessing import PowerTransformer\n"
   ]
  },
  {
   "cell_type": "code",
   "execution_count": 446,
   "id": "56338e6f",
   "metadata": {},
   "outputs": [
    {
     "data": {
      "image/png": "[encoded data removed]",
      "text/plain": [
       "<Figure size 432x288 with 1 Axes>"
      ]
     },
     "metadata": {
      "needs_background": "light"
     },
     "output_type": "display_data"
    }
   ],
   "source": [
    "sns.histplot(PowerTransformer().fit_transform(df[['Duration']]), kde = True, stat = 'density')\n",
    "plt.show()"
   ]
  },
  {
   "cell_type": "code",
   "execution_count": 447,
   "id": "eff9de7b",
   "metadata": {},
   "outputs": [],
   "source": [
    "# The data looks much better and hence we transform it\n",
    "\n",
    "df['Duration'] = PowerTransformer().fit_transform(df[['Duration']])"
   ]
  },
  {
   "cell_type": "code",
   "execution_count": 451,
   "id": "28f62f6e",
   "metadata": {},
   "outputs": [],
   "source": [
    "# Next we check for a correlation between all the features and the target variable\n",
    "from pandas.api.types import is_numeric_dtype"
   ]
  },
  {
   "cell_type": "code",
   "execution_count": 484,
   "id": "079237e5",
   "metadata": {},
   "outputs": [],
   "source": [
    "x = df.drop('Price', axis = 1)\n",
    "y = df['Price']"
   ]
  },
  {
   "cell_type": "code",
   "execution_count": 485,
   "id": "daf476d6",
   "metadata": {},
   "outputs": [
    {
     "data": {
      "text/plain": [
       "Airline            0\n",
       "Date_of_Journey    0\n",
       "Source             0\n",
       "Destination        0\n",
       "Duration           0\n",
       "Total_Stops        1\n",
       "dtype: int64"
      ]
     },
     "execution_count": 485,
     "metadata": {},
     "output_type": "execute_result"
    }
   ],
   "source": [
    "# We havent checked for null values yet, hence we must\n",
    "x.isnull().sum()"
   ]
  },
  {
   "cell_type": "code",
   "execution_count": 486,
   "id": "3210e284",
   "metadata": {},
   "outputs": [],
   "source": [
    "# There is one null value and hence we remove it \n",
    "x.drop(index = np.where(x.iloc[:,-1].isnull())[0][0], inplace = True)"
   ]
  },
  {
   "cell_type": "code",
   "execution_count": 487,
   "id": "ea96a9de",
   "metadata": {},
   "outputs": [],
   "source": [
    "y.drop(index = 1004, inplace = True)"
   ]
  },
  {
   "cell_type": "code",
   "execution_count": 488,
   "id": "bf160e23",
   "metadata": {},
   "outputs": [],
   "source": [
    "temp = pd.DataFrame()\n",
    "feature = []\n",
    "pvalue = []\n",
    "score = []\n",
    "\n",
    "for col in x.columns:\n",
    "    if (is_numeric_dtype(x[col])):\n",
    "        feature.append(col)\n",
    "        score.append(phik.phik_from_array(x[col],y, [col]))\n",
    "        pvalue.append(phik.significance.significance_from_array(x[col], y, [col])[0])\n",
    "    else:\n",
    "        feature.append(col)\n",
    "        score.append(phik.phik_from_array(x[col], y))\n",
    "        pvalue.append(phik.significance.significance_from_array(x[col], y)[0])"
   ]
  },
  {
   "cell_type": "code",
   "execution_count": 489,
   "id": "c8d92aaa",
   "metadata": {},
   "outputs": [],
   "source": [
    "temp['features'] = feature\n",
    "temp['score'] = score\n",
    "temp['pvalue'] = pvalue"
   ]
  },
  {
   "cell_type": "code",
   "execution_count": 493,
   "id": "2424e869",
   "metadata": {},
   "outputs": [],
   "source": [
    "temp.set_index('features', inplace = True)"
   ]
  },
  {
   "cell_type": "code",
   "execution_count": 496,
   "id": "ca9394ee",
   "metadata": {},
   "outputs": [
    {
     "data": {
      "image/png": "[encoded data removed]",
      "text/plain": [
       "<Figure size 432x288 with 2 Axes>"
      ]
     },
     "metadata": {
      "needs_background": "light"
     },
     "output_type": "display_data"
    }
   ],
   "source": [
    "temp.sort_values('score', ascending = True).plot.bar(subplots = True)\n",
    "plt.show()"
   ]
  },
  {
   "cell_type": "code",
   "execution_count": 497,
   "id": "d22c1f82",
   "metadata": {},
   "outputs": [],
   "source": [
    "# All the features correlate quite well with the target variable and hence an extremely low pvalue"
   ]
  },
  {
   "cell_type": "code",
   "execution_count": 514,
   "id": "5629d01e",
   "metadata": {},
   "outputs": [],
   "source": [
    "# Encoding the categorical features\n",
    "categorical_features = []\n",
    "for i in range(len(x.columns)):\n",
    "   if not is_numeric_dtype(x.iloc[:,i]):\n",
    "        categorical_features.append(x.columns[i])"
   ]
  },
  {
   "cell_type": "code",
   "execution_count": 515,
   "id": "beaa89f8",
   "metadata": {},
   "outputs": [
    {
     "data": {
      "text/plain": [
       "['Airline', 'Date_of_Journey', 'Source', 'Destination', 'Total_Stops']"
      ]
     },
     "execution_count": 515,
     "metadata": {},
     "output_type": "execute_result"
    }
   ],
   "source": [
    "categorical_features"
   ]
  },
  {
   "cell_type": "code",
   "execution_count": 516,
   "id": "ed655895",
   "metadata": {},
   "outputs": [
    {
     "data": {
      "text/html": [
       "<div>\n",
       "<style scoped>\n",
       "    .dataframe tbody tr th:only-of-type {\n",
       "        vertical-align: middle;\n",
       "    }\n",
       "\n",
       "    .dataframe tbody tr th {\n",
       "        vertical-align: top;\n",
       "    }\n",
       "\n",
       "    .dataframe thead th {\n",
       "        text-align: right;\n",
       "    }\n",
       "</style>\n",
       "<table border=\"1\" class=\"dataframe\">\n",
       "  <thead>\n",
       "    <tr style=\"text-align: right;\">\n",
       "      <th></th>\n",
       "      <th>Airline</th>\n",
       "      <th>Date_of_Journey</th>\n",
       "      <th>Source</th>\n",
       "      <th>Destination</th>\n",
       "      <th>Total_Stops</th>\n",
       "    </tr>\n",
       "  </thead>\n",
       "  <tbody>\n",
       "    <tr>\n",
       "      <th>0</th>\n",
       "      <td>Jet Airways</td>\n",
       "      <td>2019-09-06</td>\n",
       "      <td>Mumbai</td>\n",
       "      <td>Hyderabad</td>\n",
       "      <td>non-stop</td>\n",
       "    </tr>\n",
       "    <tr>\n",
       "      <th>1</th>\n",
       "      <td>Jet Airways</td>\n",
       "      <td>2019-06-03</td>\n",
       "      <td>Banglore</td>\n",
       "      <td>New Delhi</td>\n",
       "      <td>1 stop</td>\n",
       "    </tr>\n",
       "    <tr>\n",
       "      <th>2</th>\n",
       "      <td>Air Asia</td>\n",
       "      <td>2019-04-21</td>\n",
       "      <td>Delhi</td>\n",
       "      <td>Cochin</td>\n",
       "      <td>1 stop</td>\n",
       "    </tr>\n",
       "    <tr>\n",
       "      <th>3</th>\n",
       "      <td>Jet Airways</td>\n",
       "      <td>2019-05-24</td>\n",
       "      <td>Kolkata</td>\n",
       "      <td>Banglore</td>\n",
       "      <td>1 stop</td>\n",
       "    </tr>\n",
       "    <tr>\n",
       "      <th>4</th>\n",
       "      <td>Air India</td>\n",
       "      <td>2019-04-21</td>\n",
       "      <td>Delhi</td>\n",
       "      <td>Cochin</td>\n",
       "      <td>1 stop</td>\n",
       "    </tr>\n",
       "    <tr>\n",
       "      <th>...</th>\n",
       "      <td>...</td>\n",
       "      <td>...</td>\n",
       "      <td>...</td>\n",
       "      <td>...</td>\n",
       "      <td>...</td>\n",
       "    </tr>\n",
       "    <tr>\n",
       "      <th>13347</th>\n",
       "      <td>Jet Airways</td>\n",
       "      <td>2019-01-05</td>\n",
       "      <td>Kolkata</td>\n",
       "      <td>Banglore</td>\n",
       "      <td>1 stop</td>\n",
       "    </tr>\n",
       "    <tr>\n",
       "      <th>13348</th>\n",
       "      <td>Jet Airways</td>\n",
       "      <td>2019-09-05</td>\n",
       "      <td>Kolkata</td>\n",
       "      <td>Banglore</td>\n",
       "      <td>1 stop</td>\n",
       "    </tr>\n",
       "    <tr>\n",
       "      <th>13349</th>\n",
       "      <td>Multiple carriers</td>\n",
       "      <td>2019-05-15</td>\n",
       "      <td>Delhi</td>\n",
       "      <td>Cochin</td>\n",
       "      <td>1 stop</td>\n",
       "    </tr>\n",
       "    <tr>\n",
       "      <th>13350</th>\n",
       "      <td>IndiGo</td>\n",
       "      <td>2019-03-03</td>\n",
       "      <td>Banglore</td>\n",
       "      <td>New Delhi</td>\n",
       "      <td>non-stop</td>\n",
       "    </tr>\n",
       "    <tr>\n",
       "      <th>13351</th>\n",
       "      <td>Jet Airways</td>\n",
       "      <td>2019-01-06</td>\n",
       "      <td>Delhi</td>\n",
       "      <td>Cochin</td>\n",
       "      <td>1 stop</td>\n",
       "    </tr>\n",
       "  </tbody>\n",
       "</table>\n",
       "<p>13267 rows × 5 columns</p>\n",
       "</div>"
      ],
      "text/plain": [
       "                 Airline Date_of_Journey    Source Destination Total_Stops\n",
       "0            Jet Airways      2019-09-06    Mumbai   Hyderabad    non-stop\n",
       "1            Jet Airways      2019-06-03  Banglore   New Delhi      1 stop\n",
       "2               Air Asia      2019-04-21     Delhi      Cochin      1 stop\n",
       "3            Jet Airways      2019-05-24   Kolkata    Banglore      1 stop\n",
       "4              Air India      2019-04-21     Delhi      Cochin      1 stop\n",
       "...                  ...             ...       ...         ...         ...\n",
       "13347        Jet Airways      2019-01-05   Kolkata    Banglore      1 stop\n",
       "13348        Jet Airways      2019-09-05   Kolkata    Banglore      1 stop\n",
       "13349  Multiple carriers      2019-05-15     Delhi      Cochin      1 stop\n",
       "13350             IndiGo      2019-03-03  Banglore   New Delhi    non-stop\n",
       "13351        Jet Airways      2019-01-06     Delhi      Cochin      1 stop\n",
       "\n",
       "[13267 rows x 5 columns]"
      ]
     },
     "execution_count": 516,
     "metadata": {},
     "output_type": "execute_result"
    }
   ],
   "source": [
    "x[categorical_features]"
   ]
  },
  {
   "cell_type": "code",
   "execution_count": 518,
   "id": "953498fe",
   "metadata": {},
   "outputs": [
    {
     "data": {
      "text/plain": [
       "12"
      ]
     },
     "execution_count": 518,
     "metadata": {},
     "output_type": "execute_result"
    }
   ],
   "source": [
    "x['Airline'].unique().shape[0]"
   ]
  },
  {
   "cell_type": "code",
   "execution_count": 520,
   "id": "32250037",
   "metadata": {},
   "outputs": [],
   "source": [
    "# There are 12 categories hence we label encode them\n",
    "from sklearn.preprocessing import LabelEncoder\n",
    "x['Airline'] = LabelEncoder().fit_transform(x['Airline'])"
   ]
  },
  {
   "cell_type": "code",
   "execution_count": 522,
   "id": "03ad15a2",
   "metadata": {},
   "outputs": [
    {
     "data": {
      "text/plain": [
       "40"
      ]
     },
     "execution_count": 522,
     "metadata": {},
     "output_type": "execute_result"
    }
   ],
   "source": [
    "# Date of Journey feature\n",
    "x['Date_of_Journey'].unique().shape[0]"
   ]
  },
  {
   "cell_type": "code",
   "execution_count": 523,
   "id": "d0deacd5",
   "metadata": {},
   "outputs": [],
   "source": [
    "# There are 40 categories hence we label encode them\n",
    "x['Date_of_Journey'] = LabelEncoder().fit_transform(x['Date_of_Journey'])"
   ]
  },
  {
   "cell_type": "code",
   "execution_count": 525,
   "id": "be9a8106",
   "metadata": {},
   "outputs": [
    {
     "data": {
      "text/plain": [
       "5"
      ]
     },
     "execution_count": 525,
     "metadata": {},
     "output_type": "execute_result"
    }
   ],
   "source": [
    "x['Source'].unique().shape[0]"
   ]
  },
  {
   "cell_type": "code",
   "execution_count": 526,
   "id": "c86b9e96",
   "metadata": {},
   "outputs": [
    {
     "data": {
      "text/plain": [
       "6"
      ]
     },
     "execution_count": 526,
     "metadata": {},
     "output_type": "execute_result"
    }
   ],
   "source": [
    "x['Destination'].unique().shape[0]"
   ]
  },
  {
   "cell_type": "code",
   "execution_count": 528,
   "id": "cc4fd57a",
   "metadata": {},
   "outputs": [],
   "source": [
    "x['Source'] = LabelEncoder().fit_transform(x['Source'])\n",
    "x['Destination'] = LabelEncoder().fit_transform(x['Destination'])"
   ]
  },
  {
   "cell_type": "code",
   "execution_count": 529,
   "id": "f61eaa13",
   "metadata": {},
   "outputs": [],
   "source": [
    "x['Total_Stops'] = LabelEncoder().fit_transform(x['Total_Stops'])"
   ]
  },
  {
   "cell_type": "code",
   "execution_count": 532,
   "id": "777ee259",
   "metadata": {},
   "outputs": [],
   "source": [
    "# We split the data into a training and test set\n",
    "xtrain, xtest, ytrain, ytest = train_test_split(x, y, test_size = 0.2, random_state = 42)"
   ]
  },
  {
   "cell_type": "code",
   "execution_count": 533,
   "id": "2b30925a",
   "metadata": {},
   "outputs": [],
   "source": [
    "estimators = []\n",
    "\n",
    "lr = LinearRegression()\n",
    "estimators.append(('Linear Regressor',lr))\n",
    "dt = DecisionTreeRegressor()\n",
    "estimators.append(('Decision Tree Regressor',dt))\n",
    "kn = KNeighborsRegressor()\n",
    "estimators.append(('K-Neighbors Regressor',kn))"
   ]
  },
  {
   "cell_type": "code",
   "execution_count": 534,
   "id": "78e31896",
   "metadata": {},
   "outputs": [
    {
     "name": "stdout",
     "output_type": "stream",
     "text": [
      "Linear Regressor\n",
      "5874.274\n",
      "-5.042\n",
      "Decision Tree Regressor\n",
      "7358.445\n",
      "-0.474\n",
      "K-Neighbors Regressor\n",
      "5915.873\n",
      "-1.115\n"
     ]
    }
   ],
   "source": [
    "# fit the estimators \n",
    "for estimator in estimators:\n",
    "    estimator[1].fit(xtrain, ytrain)\n",
    "    ypred = estimator[1].predict(xtest)\n",
    "    print(estimator[0])\n",
    "    print(f'{mean_squared_error(ypred, ytest,squared = False):0.3f}')\n",
    "    print(f'{r2_score(ypred, ytest):0.3f}')"
   ]
  },
  {
   "cell_type": "markdown",
   "id": "d796331c",
   "metadata": {},
   "source": [
    "The linear regression model is found to have smallest mean squared error and also high r2 coeffcient. We can attempt to fine tune the linear regression model in order to find a better estimate"
   ]
  },
  {
   "cell_type": "code",
   "execution_count": 535,
   "id": "398d24c2",
   "metadata": {},
   "outputs": [
    {
     "name": "stdout",
     "output_type": "stream",
     "text": [
      "5873.416\n",
      "0.151\n"
     ]
    }
   ],
   "source": [
    "# using LassoCV to find better parameters for the Linear Regression\n",
    "from sklearn.linear_model import LassoCV\n",
    "lcv = LassoCV()\n",
    "lcv.fit(xtrain, ytrain)\n",
    "ypred2 = lcv.predict(xtest)\n",
    "print(f'{mean_squared_error(ypred2, ytest, squared = False):0.3f}')\n",
    "print(f'{r2_score(ytest, ypred2):0.3f}')"
   ]
  },
  {
   "cell_type": "code",
   "execution_count": 536,
   "id": "464fc94a",
   "metadata": {},
   "outputs": [
    {
     "name": "stdout",
     "output_type": "stream",
     "text": [
      "6040.902\n",
      "0.102\n"
     ]
    }
   ],
   "source": [
    "# Using Elastic Net regularization\n",
    "from sklearn.linear_model import ElasticNetCV\n",
    "ecv = ElasticNetCV()\n",
    "ecv.fit(xtrain, ytrain)\n",
    "ypred3 = ecv.predict(xtest)\n",
    "print(f'{mean_squared_error(ytest, ypred3, squared = False):0.3f}')\n",
    "print(f'{r2_score(ytest, ypred3):0.3f}')"
   ]
  },
  {
   "cell_type": "code",
   "execution_count": 537,
   "id": "2673f665",
   "metadata": {},
   "outputs": [
    {
     "name": "stdout",
     "output_type": "stream",
     "text": [
      "5874.269\n",
      "0.151\n"
     ]
    }
   ],
   "source": [
    "# Using L2 regularization\n",
    "from sklearn.linear_model import RidgeCV\n",
    "rcv = RidgeCV()\n",
    "rcv.fit(xtrain, ytrain)\n",
    "ypred4 = rcv.predict(xtest)\n",
    "print(f'{mean_squared_error(ytest, ypred4, squared = False):0.3f}')\n",
    "print(f'{r2_score(ytest, ypred4):0.3f}')"
   ]
  },
  {
   "cell_type": "markdown",
   "id": "f7575108",
   "metadata": {},
   "source": [
    "<font color = green>\n",
    "The linear regression regularized using the ElasticNetCV gives the lowest error and highest R2 score even compared to other Regression models. Hence it will be selected\n",
    "</font>"
   ]
  },
  {
   "cell_type": "code",
   "execution_count": 539,
   "id": "d2550d41",
   "metadata": {},
   "outputs": [
    {
     "data": {
      "text/plain": [
       "['L2_regularized_linear_model.pkl']"
      ]
     },
     "execution_count": 539,
     "metadata": {},
     "output_type": "execute_result"
    }
   ],
   "source": [
    "# saving the model\n",
    "import joblib\n",
    "joblib.dump(ecv, 'L2_regularized_linear_model.pkl')"
   ]
  },
  {
   "cell_type": "code",
   "execution_count": null,
   "id": "d2ec8105",
   "metadata": {},
   "outputs": [],
   "source": []
  },
  {
   "cell_type": "code",
   "execution_count": null,
   "id": "1450670b",
   "metadata": {},
   "outputs": [],
   "source": []
  }
 ],
 "metadata": {
  "kernelspec": {
   "display_name": "Python 3 (ipykernel)",
   "language": "python",
   "name": "python3"
  },
  "language_info": {
   "codemirror_mode": {
    "name": "ipython",
    "version": 3
   },
   "file_extension": ".py",
   "mimetype": "text/x-python",
   "name": "python",
   "nbconvert_exporter": "python",
   "pygments_lexer": "ipython3",
   "version": "3.9.10"
  }
 },
 "nbformat": 4,
 "nbformat_minor": 5
}
