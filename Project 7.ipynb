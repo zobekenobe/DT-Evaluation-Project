{
 "cells": [
  {
   "cell_type": "markdown",
   "id": "8a45f7b1",
   "metadata": {},
   "source": [
    "Flight Price Prediction\n",
    "Problem Statement:\n",
    "\n",
    "Flight ticket prices can be something hard to guess, today we might see a price, check out the price of the same flight tomorrow, it will be a different story. We might have often heard travellers saying that flight ticket prices are so unpredictable. Here you will be provided with prices of flight tickets for various airlines between the months of March and June of 2019 and between various cities.\n",
    "\n",
    "Size of training set: 10683 records\n",
    "\n",
    "Size of test set: 2671 records\n",
    "FEATURES:\n",
    "\n",
    "Airline: The name of the airline.\n",
    "\n",
    "Date_of_Journey: The date of the journey\n",
    "\n",
    "Source: The source from which the service begins.\n",
    "\n",
    "Destination: The destination where the service ends.\n",
    "\n",
    "Route: The route taken by the flight to reach the destination.\n",
    "\n",
    "Dep_Time: The time when the journey starts from the source.\n",
    "\n",
    "Arrival_Time: Time of arrival at the destination.\n",
    "\n",
    "Duration: Total duration of the flight.\n",
    "\n",
    "Total_Stops: Total stops between the source and destination.\n",
    "\n",
    "Additional_Info: Additional information about the flight\n",
    "\n",
    "Price: The price of the ticket\n",
    "\n",
    " \n",
    "\n",
    "You have to use your skills as a data scientist and build a machine learning model to predict the price of the flight ticket. "
   ]
  },
  {
   "cell_type": "code",
   "execution_count": 4,
   "id": "ed61139b",
   "metadata": {},
   "outputs": [],
   "source": [
    "# 1. Import the libraries\n",
    "# basics\n",
    "import pandas as pd\n",
    "import numpy as np\n",
    "import matplotlib.pyplot as plt\n",
    "import seaborn as sns\n",
    "\n",
    "# statistical libraries\n",
    "import phik\n",
    "from scipy.stats import pearsonr\n",
    "from scipy.stats import zscore\n",
    "\n",
    "from pandas.api.types import is_numeric_dtype\n",
    "\n",
    "# feature engineering\n",
    "from sklearn.model_selection import train_test_split\n",
    "from sklearn.preprocessing import StandardScaler\n",
    "from sklearn.preprocessing import PowerTransformer\n",
    "\n",
    "from sklearn.linear_model import LinearRegression, LogisticRegression\n",
    "from sklearn.tree import DecisionTreeRegressor, DecisionTreeClassifier\n",
    "from sklearn.neighbors import KNeighborsRegressor, KNeighborsClassifier\n",
    "from sklearn.ensemble import RandomForestClassifier\n",
    "\n",
    "# metrics \n",
    "from sklearn.metrics import mean_squared_error, r2_score\n",
    "from sklearn.metrics import confusion_matrix, f1_score, roc_auc_score, classification_report\n",
    "from sklearn.metrics import accuracy_score, plot_roc_curve\n",
    "\n",
    "# Hyperparameter tuning\n",
    "from sklearn.model_selection import GridSearchCV\n",
    "\n",
    "# suppress warnings\n",
    "import warnings\n",
    "warnings.filterwarnings('ignore')"
   ]
  },
  {
   "cell_type": "code",
   "execution_count": 36,
   "id": "9bf66f7c",
   "metadata": {},
   "outputs": [],
   "source": [
    "df1 = pd.read_excel('Flight_Prediction/Data_Train.xlsx')\n",
    "df2 = pd.read_excel('Flight_Prediction/Test_set.xlsx')\n",
    "df3 = pd.read_excel('Flight_Prediction/Sample_submission.xlsx')"
   ]
  },
  {
   "cell_type": "code",
   "execution_count": 37,
   "id": "3455d03b",
   "metadata": {},
   "outputs": [],
   "source": [
    "# Complete test set \n",
    "df2 = pd.concat([df2, df3], axis = 1)"
   ]
  },
  {
   "cell_type": "code",
   "execution_count": 38,
   "id": "d6932e5c",
   "metadata": {},
   "outputs": [],
   "source": [
    "# Combining the test and training datasets\n",
    "df = pd.concat([df1, df2], axis = 0)"
   ]
  },
  {
   "cell_type": "code",
   "execution_count": 39,
   "id": "72ec7a39",
   "metadata": {},
   "outputs": [],
   "source": [
    "# Now we have shuffled the training and test data set\n",
    "np.random.seed(42)\n",
    "indices = np.random.permutation(range(len(df)))\n",
    "df = df.iloc[indices, :]"
   ]
  },
  {
   "cell_type": "code",
   "execution_count": 43,
   "id": "e69f8193",
   "metadata": {},
   "outputs": [],
   "source": [
    "# looking at the data\n",
    "df.reset_index(inplace = True)\n",
    "df.drop('index', inplace = True, axis = 1)"
   ]
  },
  {
   "cell_type": "code",
   "execution_count": 45,
   "id": "e6a4f0ab",
   "metadata": {},
   "outputs": [
    {
     "data": {
      "text/html": [
       "<div>\n",
       "<style scoped>\n",
       "    .dataframe tbody tr th:only-of-type {\n",
       "        vertical-align: middle;\n",
       "    }\n",
       "\n",
       "    .dataframe tbody tr th {\n",
       "        vertical-align: top;\n",
       "    }\n",
       "\n",
       "    .dataframe thead th {\n",
       "        text-align: right;\n",
       "    }\n",
       "</style>\n",
       "<table border=\"1\" class=\"dataframe\">\n",
       "  <thead>\n",
       "    <tr style=\"text-align: right;\">\n",
       "      <th></th>\n",
       "      <th>Airline</th>\n",
       "      <th>Date_of_Journey</th>\n",
       "      <th>Source</th>\n",
       "      <th>Destination</th>\n",
       "      <th>Route</th>\n",
       "      <th>Dep_Time</th>\n",
       "      <th>Arrival_Time</th>\n",
       "      <th>Duration</th>\n",
       "      <th>Total_Stops</th>\n",
       "      <th>Additional_Info</th>\n",
       "      <th>Price</th>\n",
       "    </tr>\n",
       "  </thead>\n",
       "  <tbody>\n",
       "    <tr>\n",
       "      <th>0</th>\n",
       "      <td>Jet Airways</td>\n",
       "      <td>9/06/2019</td>\n",
       "      <td>Mumbai</td>\n",
       "      <td>Hyderabad</td>\n",
       "      <td>BOM → HYD</td>\n",
       "      <td>07:05</td>\n",
       "      <td>08:30</td>\n",
       "      <td>1h 25m</td>\n",
       "      <td>non-stop</td>\n",
       "      <td>In-flight meal not included</td>\n",
       "      <td>4050</td>\n",
       "    </tr>\n",
       "    <tr>\n",
       "      <th>1</th>\n",
       "      <td>Jet Airways</td>\n",
       "      <td>06/03/2019</td>\n",
       "      <td>Banglore</td>\n",
       "      <td>New Delhi</td>\n",
       "      <td>BLR → BOM → DEL</td>\n",
       "      <td>14:05</td>\n",
       "      <td>09:00 07 Mar</td>\n",
       "      <td>18h 55m</td>\n",
       "      <td>1 stop</td>\n",
       "      <td>No info</td>\n",
       "      <td>17261</td>\n",
       "    </tr>\n",
       "    <tr>\n",
       "      <th>2</th>\n",
       "      <td>Air Asia</td>\n",
       "      <td>21/04/2019</td>\n",
       "      <td>Delhi</td>\n",
       "      <td>Cochin</td>\n",
       "      <td>DEL → BLR → COK</td>\n",
       "      <td>07:55</td>\n",
       "      <td>15:45</td>\n",
       "      <td>7h 50m</td>\n",
       "      <td>1 stop</td>\n",
       "      <td>No info</td>\n",
       "      <td>16575</td>\n",
       "    </tr>\n",
       "    <tr>\n",
       "      <th>3</th>\n",
       "      <td>Jet Airways</td>\n",
       "      <td>24/05/2019</td>\n",
       "      <td>Kolkata</td>\n",
       "      <td>Banglore</td>\n",
       "      <td>CCU → DEL → BLR</td>\n",
       "      <td>09:35</td>\n",
       "      <td>23:35</td>\n",
       "      <td>14h</td>\n",
       "      <td>1 stop</td>\n",
       "      <td>No info</td>\n",
       "      <td>14151</td>\n",
       "    </tr>\n",
       "    <tr>\n",
       "      <th>4</th>\n",
       "      <td>Air India</td>\n",
       "      <td>21/04/2019</td>\n",
       "      <td>Delhi</td>\n",
       "      <td>Cochin</td>\n",
       "      <td>DEL → BLR → COK</td>\n",
       "      <td>20:30</td>\n",
       "      <td>23:00 22 Apr</td>\n",
       "      <td>26h 30m</td>\n",
       "      <td>1 stop</td>\n",
       "      <td>No info</td>\n",
       "      <td>7174</td>\n",
       "    </tr>\n",
       "  </tbody>\n",
       "</table>\n",
       "</div>"
      ],
      "text/plain": [
       "       Airline Date_of_Journey    Source Destination            Route  \\\n",
       "0  Jet Airways       9/06/2019    Mumbai   Hyderabad        BOM → HYD   \n",
       "1  Jet Airways      06/03/2019  Banglore   New Delhi  BLR → BOM → DEL   \n",
       "2     Air Asia      21/04/2019     Delhi      Cochin  DEL → BLR → COK   \n",
       "3  Jet Airways      24/05/2019   Kolkata    Banglore  CCU → DEL → BLR   \n",
       "4    Air India      21/04/2019     Delhi      Cochin  DEL → BLR → COK   \n",
       "\n",
       "  Dep_Time  Arrival_Time Duration Total_Stops              Additional_Info  \\\n",
       "0    07:05         08:30   1h 25m    non-stop  In-flight meal not included   \n",
       "1    14:05  09:00 07 Mar  18h 55m      1 stop                      No info   \n",
       "2    07:55         15:45   7h 50m      1 stop                      No info   \n",
       "3    09:35         23:35      14h      1 stop                      No info   \n",
       "4    20:30  23:00 22 Apr  26h 30m      1 stop                      No info   \n",
       "\n",
       "   Price  \n",
       "0   4050  \n",
       "1  17261  \n",
       "2  16575  \n",
       "3  14151  \n",
       "4   7174  "
      ]
     },
     "execution_count": 45,
     "metadata": {},
     "output_type": "execute_result"
    }
   ],
   "source": [
    "df.head()"
   ]
  },
  {
   "cell_type": "code",
   "execution_count": 46,
   "id": "1b4a1e3a",
   "metadata": {},
   "outputs": [
    {
     "name": "stdout",
     "output_type": "stream",
     "text": [
      "<class 'pandas.core.frame.DataFrame'>\n",
      "RangeIndex: 13354 entries, 0 to 13353\n",
      "Data columns (total 11 columns):\n",
      " #   Column           Non-Null Count  Dtype \n",
      "---  ------           --------------  ----- \n",
      " 0   Airline          13354 non-null  object\n",
      " 1   Date_of_Journey  13354 non-null  object\n",
      " 2   Source           13354 non-null  object\n",
      " 3   Destination      13354 non-null  object\n",
      " 4   Route            13353 non-null  object\n",
      " 5   Dep_Time         13354 non-null  object\n",
      " 6   Arrival_Time     13354 non-null  object\n",
      " 7   Duration         13354 non-null  object\n",
      " 8   Total_Stops      13353 non-null  object\n",
      " 9   Additional_Info  13354 non-null  object\n",
      " 10  Price            13354 non-null  int64 \n",
      "dtypes: int64(1), object(10)\n",
      "memory usage: 1.1+ MB\n"
     ]
    }
   ],
   "source": [
    "# Checking for the data type of the features\n",
    "df.info()"
   ]
  },
  {
   "cell_type": "code",
   "execution_count": 49,
   "id": "8a012dfe",
   "metadata": {},
   "outputs": [
    {
     "data": {
      "text/html": [
       "<div>\n",
       "<style scoped>\n",
       "    .dataframe tbody tr th:only-of-type {\n",
       "        vertical-align: middle;\n",
       "    }\n",
       "\n",
       "    .dataframe tbody tr th {\n",
       "        vertical-align: top;\n",
       "    }\n",
       "\n",
       "    .dataframe thead th {\n",
       "        text-align: right;\n",
       "    }\n",
       "</style>\n",
       "<table border=\"1\" class=\"dataframe\">\n",
       "  <thead>\n",
       "    <tr style=\"text-align: right;\">\n",
       "      <th></th>\n",
       "      <th>Price</th>\n",
       "    </tr>\n",
       "  </thead>\n",
       "  <tbody>\n",
       "    <tr>\n",
       "      <th>count</th>\n",
       "      <td>13354.0</td>\n",
       "    </tr>\n",
       "    <tr>\n",
       "      <th>mean</th>\n",
       "      <td>11302.0</td>\n",
       "    </tr>\n",
       "    <tr>\n",
       "      <th>std</th>\n",
       "      <td>6453.0</td>\n",
       "    </tr>\n",
       "    <tr>\n",
       "      <th>min</th>\n",
       "      <td>1759.0</td>\n",
       "    </tr>\n",
       "    <tr>\n",
       "      <th>25%</th>\n",
       "      <td>6135.0</td>\n",
       "    </tr>\n",
       "    <tr>\n",
       "      <th>50%</th>\n",
       "      <td>10262.0</td>\n",
       "    </tr>\n",
       "    <tr>\n",
       "      <th>75%</th>\n",
       "      <td>14781.0</td>\n",
       "    </tr>\n",
       "    <tr>\n",
       "      <th>max</th>\n",
       "      <td>79512.0</td>\n",
       "    </tr>\n",
       "  </tbody>\n",
       "</table>\n",
       "</div>"
      ],
      "text/plain": [
       "         Price\n",
       "count  13354.0\n",
       "mean   11302.0\n",
       "std     6453.0\n",
       "min     1759.0\n",
       "25%     6135.0\n",
       "50%    10262.0\n",
       "75%    14781.0\n",
       "max    79512.0"
      ]
     },
     "execution_count": 49,
     "metadata": {},
     "output_type": "execute_result"
    }
   ],
   "source": [
    "# all the features have a categorical datatype, with one possible missing value\n",
    "# The statistics of only the response variable will be available at this moment\n",
    "df.describe().round()"
   ]
  },
  {
   "cell_type": "markdown",
   "id": "b18c1556",
   "metadata": {},
   "source": [
    "Looks all good "
   ]
  },
  {
   "cell_type": "code",
   "execution_count": 50,
   "id": "f574ad3f",
   "metadata": {},
   "outputs": [
    {
     "data": {
      "text/plain": [
       "Airline            0\n",
       "Date_of_Journey    0\n",
       "Source             0\n",
       "Destination        0\n",
       "Route              1\n",
       "Dep_Time           0\n",
       "Arrival_Time       0\n",
       "Duration           0\n",
       "Total_Stops        1\n",
       "Additional_Info    0\n",
       "Price              0\n",
       "dtype: int64"
      ]
     },
     "execution_count": 50,
     "metadata": {},
     "output_type": "execute_result"
    }
   ],
   "source": [
    "# Doing a double check to find if there are any missing values\n",
    "df.isnull().sum()"
   ]
  },
  {
   "cell_type": "markdown",
   "id": "95fe6188",
   "metadata": {},
   "source": [
    "as previously observed there is just one in the two features, Route and Total Stops"
   ]
  },
  {
   "cell_type": "code",
   "execution_count": 52,
   "id": "89265533",
   "metadata": {},
   "outputs": [
    {
     "data": {
      "text/html": [
       "<div>\n",
       "<style scoped>\n",
       "    .dataframe tbody tr th:only-of-type {\n",
       "        vertical-align: middle;\n",
       "    }\n",
       "\n",
       "    .dataframe tbody tr th {\n",
       "        vertical-align: top;\n",
       "    }\n",
       "\n",
       "    .dataframe thead th {\n",
       "        text-align: right;\n",
       "    }\n",
       "</style>\n",
       "<table border=\"1\" class=\"dataframe\">\n",
       "  <thead>\n",
       "    <tr style=\"text-align: right;\">\n",
       "      <th></th>\n",
       "      <th>Airline</th>\n",
       "      <th>Date_of_Journey</th>\n",
       "      <th>Source</th>\n",
       "      <th>Destination</th>\n",
       "      <th>Route</th>\n",
       "      <th>Dep_Time</th>\n",
       "      <th>Arrival_Time</th>\n",
       "      <th>Duration</th>\n",
       "      <th>Total_Stops</th>\n",
       "      <th>Additional_Info</th>\n",
       "      <th>Price</th>\n",
       "    </tr>\n",
       "  </thead>\n",
       "  <tbody>\n",
       "    <tr>\n",
       "      <th>0</th>\n",
       "      <td>Jet Airways</td>\n",
       "      <td>9/06/2019</td>\n",
       "      <td>Mumbai</td>\n",
       "      <td>Hyderabad</td>\n",
       "      <td>BOM → HYD</td>\n",
       "      <td>07:05</td>\n",
       "      <td>08:30</td>\n",
       "      <td>1h 25m</td>\n",
       "      <td>non-stop</td>\n",
       "      <td>In-flight meal not included</td>\n",
       "      <td>4050</td>\n",
       "    </tr>\n",
       "    <tr>\n",
       "      <th>1</th>\n",
       "      <td>Jet Airways</td>\n",
       "      <td>06/03/2019</td>\n",
       "      <td>Banglore</td>\n",
       "      <td>New Delhi</td>\n",
       "      <td>BLR → BOM → DEL</td>\n",
       "      <td>14:05</td>\n",
       "      <td>09:00 07 Mar</td>\n",
       "      <td>18h 55m</td>\n",
       "      <td>1 stop</td>\n",
       "      <td>No info</td>\n",
       "      <td>17261</td>\n",
       "    </tr>\n",
       "    <tr>\n",
       "      <th>2</th>\n",
       "      <td>Air Asia</td>\n",
       "      <td>21/04/2019</td>\n",
       "      <td>Delhi</td>\n",
       "      <td>Cochin</td>\n",
       "      <td>DEL → BLR → COK</td>\n",
       "      <td>07:55</td>\n",
       "      <td>15:45</td>\n",
       "      <td>7h 50m</td>\n",
       "      <td>1 stop</td>\n",
       "      <td>No info</td>\n",
       "      <td>16575</td>\n",
       "    </tr>\n",
       "  </tbody>\n",
       "</table>\n",
       "</div>"
      ],
      "text/plain": [
       "       Airline Date_of_Journey    Source Destination            Route  \\\n",
       "0  Jet Airways       9/06/2019    Mumbai   Hyderabad        BOM → HYD   \n",
       "1  Jet Airways      06/03/2019  Banglore   New Delhi  BLR → BOM → DEL   \n",
       "2     Air Asia      21/04/2019     Delhi      Cochin  DEL → BLR → COK   \n",
       "\n",
       "  Dep_Time  Arrival_Time Duration Total_Stops              Additional_Info  \\\n",
       "0    07:05         08:30   1h 25m    non-stop  In-flight meal not included   \n",
       "1    14:05  09:00 07 Mar  18h 55m      1 stop                      No info   \n",
       "2    07:55         15:45   7h 50m      1 stop                      No info   \n",
       "\n",
       "   Price  \n",
       "0   4050  \n",
       "1  17261  \n",
       "2  16575  "
      ]
     },
     "execution_count": 52,
     "metadata": {},
     "output_type": "execute_result"
    }
   ],
   "source": [
    "df.head(3)"
   ]
  },
  {
   "cell_type": "markdown",
   "id": "a3cac121",
   "metadata": {},
   "source": [
    "Taking a look at some columns, Dep_Time and Arrival_Time are redundant as we already have Duration. Also source and desitination is redundant as we have route.<br>\n",
    "we hence drop the features Dept_Time and Arrival_Time"
   ]
  },
  {
   "cell_type": "code",
   "execution_count": 53,
   "id": "c17c7340",
   "metadata": {},
   "outputs": [],
   "source": [
    "df.drop(columns = ['Dep_Time', 'Arrival_Time'], inplace = True)"
   ]
  },
  {
   "cell_type": "code",
   "execution_count": 54,
   "id": "65b67e6b",
   "metadata": {},
   "outputs": [
    {
     "data": {
      "text/html": [
       "<div>\n",
       "<style scoped>\n",
       "    .dataframe tbody tr th:only-of-type {\n",
       "        vertical-align: middle;\n",
       "    }\n",
       "\n",
       "    .dataframe tbody tr th {\n",
       "        vertical-align: top;\n",
       "    }\n",
       "\n",
       "    .dataframe thead th {\n",
       "        text-align: right;\n",
       "    }\n",
       "</style>\n",
       "<table border=\"1\" class=\"dataframe\">\n",
       "  <thead>\n",
       "    <tr style=\"text-align: right;\">\n",
       "      <th></th>\n",
       "      <th>Airline</th>\n",
       "      <th>Date_of_Journey</th>\n",
       "      <th>Source</th>\n",
       "      <th>Destination</th>\n",
       "      <th>Route</th>\n",
       "      <th>Duration</th>\n",
       "      <th>Total_Stops</th>\n",
       "      <th>Additional_Info</th>\n",
       "      <th>Price</th>\n",
       "    </tr>\n",
       "  </thead>\n",
       "  <tbody>\n",
       "    <tr>\n",
       "      <th>0</th>\n",
       "      <td>Jet Airways</td>\n",
       "      <td>9/06/2019</td>\n",
       "      <td>Mumbai</td>\n",
       "      <td>Hyderabad</td>\n",
       "      <td>BOM → HYD</td>\n",
       "      <td>1h 25m</td>\n",
       "      <td>non-stop</td>\n",
       "      <td>In-flight meal not included</td>\n",
       "      <td>4050</td>\n",
       "    </tr>\n",
       "    <tr>\n",
       "      <th>1</th>\n",
       "      <td>Jet Airways</td>\n",
       "      <td>06/03/2019</td>\n",
       "      <td>Banglore</td>\n",
       "      <td>New Delhi</td>\n",
       "      <td>BLR → BOM → DEL</td>\n",
       "      <td>18h 55m</td>\n",
       "      <td>1 stop</td>\n",
       "      <td>No info</td>\n",
       "      <td>17261</td>\n",
       "    </tr>\n",
       "  </tbody>\n",
       "</table>\n",
       "</div>"
      ],
      "text/plain": [
       "       Airline Date_of_Journey    Source Destination            Route  \\\n",
       "0  Jet Airways       9/06/2019    Mumbai   Hyderabad        BOM → HYD   \n",
       "1  Jet Airways      06/03/2019  Banglore   New Delhi  BLR → BOM → DEL   \n",
       "\n",
       "  Duration Total_Stops              Additional_Info  Price  \n",
       "0   1h 25m    non-stop  In-flight meal not included   4050  \n",
       "1  18h 55m      1 stop                      No info  17261  "
      ]
     },
     "execution_count": 54,
     "metadata": {},
     "output_type": "execute_result"
    }
   ],
   "source": [
    "df.head(2)"
   ]
  },
  {
   "cell_type": "code",
   "execution_count": 68,
   "id": "d42965fe",
   "metadata": {},
   "outputs": [],
   "source": [
    "df['Date_of_Journey'] = pd.to_datetime(df['Date_of_Journey'])"
   ]
  },
  {
   "cell_type": "code",
   "execution_count": 69,
   "id": "a728e9dd",
   "metadata": {},
   "outputs": [],
   "source": [
    "# Next we check for the variabilty in the dataset"
   ]
  },
  {
   "cell_type": "code",
   "execution_count": 70,
   "id": "eed66ae7",
   "metadata": {},
   "outputs": [
    {
     "name": "stdout",
     "output_type": "stream",
     "text": [
      "Airline                        : 0.090\n",
      "Date_of_Journey                : 0.300\n",
      "Source                         : 0.037\n",
      "Destination                    : 0.045\n",
      "Route                          : 0.996\n",
      "Duration                       : 2.801\n",
      "Total_Stops                    : 0.045\n",
      "Additional_Info                : 0.075\n"
     ]
    }
   ],
   "source": [
    "for col in df.columns[:-1]:\n",
    "    print(f\"{col:30s} : {df[col].unique().shape[0]/len(df)*100:0.3f}\")"
   ]
  },
  {
   "cell_type": "code",
   "execution_count": 71,
   "id": "797664a2",
   "metadata": {},
   "outputs": [],
   "source": [
    "# Checking for the uniqueness of the features in the dataset\n",
    "for col in df.columns[:-1]:\n",
    "    if(df[col].unique().shape[0] == 1):\n",
    "        print(col)"
   ]
  },
  {
   "cell_type": "code",
   "execution_count": 72,
   "id": "d2cf5781",
   "metadata": {},
   "outputs": [],
   "source": [
    "# There aren't any unique values in the dataset and also there are features with a high variability"
   ]
  },
  {
   "cell_type": "markdown",
   "id": "581fc455",
   "metadata": {},
   "source": [
    "The variation in the Route feature much higher than that in the Source and Destination features,\n",
    "hence we drop it. This is to reduce the redundancy in data"
   ]
  },
  {
   "cell_type": "code",
   "execution_count": 97,
   "id": "8e42bf57",
   "metadata": {},
   "outputs": [],
   "source": [
    "df.drop('Route', axis = 1, inplace = True)"
   ]
  },
  {
   "cell_type": "code",
   "execution_count": 110,
   "id": "1fb43fac",
   "metadata": {},
   "outputs": [
    {
     "name": "stdout",
     "output_type": "stream",
     "text": [
      "Addtional_Info feature missing data : 78.576%\n"
     ]
    }
   ],
   "source": [
    "print(f\"Addtional_Info feature missing data : {np.where(df['Additional_Info'] == 'No info')[0].shape[0]/len(df)*100:0.3f}%\")"
   ]
  },
  {
   "cell_type": "code",
   "execution_count": 111,
   "id": "d6295b1a",
   "metadata": {},
   "outputs": [],
   "source": [
    "# Since we have 78% of the data missing, we decide to drop this feature\n",
    "df.drop('Additional_Info', inplace = True, axis = 1)"
   ]
  },
  {
   "cell_type": "code",
   "execution_count": 270,
   "id": "5301d544",
   "metadata": {},
   "outputs": [],
   "source": [
    "# Next we convert the Duration column to an int value\n",
    "time = df['Duration'].str.split('h')"
   ]
  },
  {
   "cell_type": "code",
   "execution_count": 288,
   "id": "ff6350ff",
   "metadata": {},
   "outputs": [
    {
     "name": "stdout",
     "output_type": "stream",
     "text": [
      "8242\n",
      "9489\n"
     ]
    }
   ],
   "source": [
    "for i in range(len(df)):\n",
    "    if(len(time[i]) < 2):\n",
    "        print(i)"
   ]
  },
  {
   "cell_type": "code",
   "execution_count": 279,
   "id": "2013ef8b",
   "metadata": {},
   "outputs": [
    {
     "name": "stdout",
     "output_type": "stream",
     "text": [
      "['5m']\n",
      "['5m']\n"
     ]
    }
   ],
   "source": [
    "print(time[8242])\n",
    "print(time[9489])"
   ]
  },
  {
   "cell_type": "code",
   "execution_count": 285,
   "id": "e4fead0a",
   "metadata": {},
   "outputs": [
    {
     "data": {
      "text/plain": [
       "(13354, 7)"
      ]
     },
     "execution_count": 285,
     "metadata": {},
     "output_type": "execute_result"
    }
   ],
   "source": [
    "df.shape"
   ]
  },
  {
   "cell_type": "code",
   "execution_count": 286,
   "id": "e85ce962",
   "metadata": {},
   "outputs": [],
   "source": [
    "# The duration of the flight cannot as less than 5 minutes\n",
    "# hence we drop the two rows\n",
    "df.drop(index = [8242, 9489], inplace = True)"
   ]
  },
  {
   "cell_type": "code",
   "execution_count": 295,
   "id": "2282397f",
   "metadata": {},
   "outputs": [],
   "source": [
    "df.reset_index(inplace = True)"
   ]
  },
  {
   "cell_type": "code",
   "execution_count": 298,
   "id": "e43f1202",
   "metadata": {},
   "outputs": [],
   "source": [
    "df.drop('index', axis =1, inplace = True)"
   ]
  },
  {
   "cell_type": "code",
   "execution_count": 338,
   "id": "f1bfd580",
   "metadata": {},
   "outputs": [],
   "source": [
    "time = df['Duration'].str.split('h')"
   ]
  },
  {
   "cell_type": "code",
   "execution_count": 347,
   "id": "c77d9bb6",
   "metadata": {},
   "outputs": [],
   "source": [
    "h_indices = []\n",
    "hm_indices = []\n",
    "for i in range(len(df)):\n",
    "    if(time[i][1].split('m')[0] == ''):\n",
    "        h_indices.append(i)\n",
    "    else:\n",
    "        hm_indices.append(i)"
   ]
  },
  {
   "cell_type": "code",
   "execution_count": 359,
   "id": "2e2de91b",
   "metadata": {},
   "outputs": [],
   "source": [
    "for i in h_indices:\n",
    "    time[i] = int(time[i][0])"
   ]
  },
  {
   "cell_type": "code",
   "execution_count": 369,
   "id": "2b669818",
   "metadata": {},
   "outputs": [],
   "source": [
    "for i in hm_indices:\n",
    "    time[i] = int(time[i][0]) + int(time[i][1].split('m')[0])/60"
   ]
  },
  {
   "cell_type": "code",
   "execution_count": 371,
   "id": "edb2a6d4",
   "metadata": {},
   "outputs": [],
   "source": [
    "df['Duration'] = time"
   ]
  },
  {
   "cell_type": "code",
   "execution_count": 373,
   "id": "2a207cb0",
   "metadata": {},
   "outputs": [
    {
     "name": "stdout",
     "output_type": "stream",
     "text": [
      "<class 'pandas.core.frame.DataFrame'>\n",
      "RangeIndex: 13352 entries, 0 to 13351\n",
      "Data columns (total 7 columns):\n",
      " #   Column           Non-Null Count  Dtype         \n",
      "---  ------           --------------  -----         \n",
      " 0   Airline          13352 non-null  object        \n",
      " 1   Date_of_Journey  13352 non-null  datetime64[ns]\n",
      " 2   Source           13352 non-null  object        \n",
      " 3   Destination      13352 non-null  object        \n",
      " 4   Duration         13352 non-null  object        \n",
      " 5   Total_Stops      13351 non-null  object        \n",
      " 6   Price            13352 non-null  int64         \n",
      "dtypes: datetime64[ns](1), int64(1), object(5)\n",
      "memory usage: 730.3+ KB\n"
     ]
    }
   ],
   "source": [
    "df.info()"
   ]
  },
  {
   "cell_type": "code",
   "execution_count": null,
   "id": "b25c4974",
   "metadata": {},
   "outputs": [],
   "source": []
  }
 ],
 "metadata": {
  "kernelspec": {
   "display_name": "Python 3 (ipykernel)",
   "language": "python",
   "name": "python3"
  },
  "language_info": {
   "codemirror_mode": {
    "name": "ipython",
    "version": 3
   },
   "file_extension": ".py",
   "mimetype": "text/x-python",
   "name": "python",
   "nbconvert_exporter": "python",
   "pygments_lexer": "ipython3",
   "version": "3.9.10"
  }
 },
 "nbformat": 4,
 "nbformat_minor": 5
}
